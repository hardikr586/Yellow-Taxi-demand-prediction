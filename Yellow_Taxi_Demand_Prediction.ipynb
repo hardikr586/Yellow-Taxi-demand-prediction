{
  "nbformat": 4,
  "nbformat_minor": 0,
  "metadata": {
    "colab": {
      "name": "Copy of Taxi_Demand_Prediction.ipynb",
      "provenance": [],
      "collapsed_sections": [],
      "toc_visible": true
    },
    "kernelspec": {
      "display_name": "Python 3",
      "language": "python",
      "name": "python3"
    },
    "language_info": {
      "codemirror_mode": {
        "name": "ipython",
        "version": 3
      },
      "file_extension": ".py",
      "mimetype": "text/x-python",
      "name": "python",
      "nbconvert_exporter": "python",
      "pygments_lexer": "ipython3",
      "version": "3.7.5"
    }
  },
  "cells": [
    {
      "cell_type": "markdown",
      "metadata": {
        "id": "MDB9DBZvYRgU",
        "colab_type": "text"
      },
      "source": [
        "# **Predicting New York City Yellow Taxi Demand**"
      ]
    },
    {
      "cell_type": "markdown",
      "metadata": {
        "id": "1DQEo20nYl6y",
        "colab_type": "text"
      },
      "source": [
        "## **Business Problem:**\n",
        "\n",
        "---\n",
        "In the New York city, people use taxi at a much higher frequency than most places. Instead\n",
        "of booking customers by phone ahead of time, there is still a majority of New York taxi\n",
        "drivers that pick up passengers on street. However, as per recent studies, Taxi patronage\n",
        "has considerably declined since 2011 due to competition from\n",
        "rideshare\n",
        "services like Uber,\n",
        "Lyft etc. The ability to predict taxi ridership could present valuable insights to such taxi\n",
        "dispatchers that would in turn help them in making important decisions that could revive\n",
        "their profit margin - such as how to position cabs where they are most needed, how many\n",
        "taxis to dispatch, and how ridership varies over time. Our project focuses on **predicting the\n",
        "number of taxi pickups** given a one-hour time window and a location within New York City.\n"
      ]
    },
    {
      "cell_type": "markdown",
      "metadata": {
        "id": "xPsAu50eZGG9",
        "colab_type": "text"
      },
      "source": [
        "# **Use Case Scenario:**\n",
        "\n",
        "---\n",
        "\n",
        "For any given location in New York City, our goal is to predict the number of pickups in that\n",
        "given location at particular time interval. Some location require more taxis at a particular\n",
        "time than other locations due to their proximity to offices, schools, hospitals etc. With the\n",
        "competition that the Yellow Taxi drivers are facing due to the advent of apps like Uber and\n",
        "Lyft, we propose a solution that will help them predict the taxi demand in a particular area.\n",
        "The prediction result can be transferred to the taxi drivers via Mobile app’s, and they can\n",
        "subsequently move to the locations where the predicted pickups are higher and so they can\n",
        "profit more than they normally would.\n"
      ]
    },
    {
      "cell_type": "markdown",
      "metadata": {
        "id": "lCvuBrn7ZQTX",
        "colab_type": "text"
      },
      "source": [
        "# **Data Information:**\n",
        "\n",
        "---\n",
        "\n",
        "**Source of Data:** https://www1.nyc.gov/site/tlc/about/tlc-trip-record-data.page \n",
        "\n",
        "Here, we have used October 2015 data.\n",
        "\n",
        "**Information on Taxi:**\n",
        "\n",
        "**Yellow Taxi: Yellow Medallion Taxicabs**\n",
        "\n",
        "Trips made by New York City’s iconic yellow taxis have been recorded and provided to the TLC\n",
        "since 2009. Yellow taxis are traditionally hailed by signaling to a driver who is on duty and seeking\n",
        "a passenger (street hail). The pickups are not pre-arranged.\n",
        "Yellow taxis are the only vehicles permitted to respond to a street hail from a passenger in all five\n",
        "boroughs. \n"
      ]
    },
    {
      "cell_type": "code",
      "metadata": {
        "id": "ipPWxPBGop0L",
        "colab_type": "code",
        "outputId": "b3d6425c-a46e-49b7-ce8e-f9316ef1722f",
        "colab": {
          "base_uri": "https://localhost:8080/",
          "height": 136
        }
      },
      "source": [
        "#If opening in colab run this cell\n",
        "!git clone https://github.com/ddv246/DSBA-Project\n",
        "%cd DSBA-Project/YellowTaxi"
      ],
      "execution_count": 0,
      "outputs": [
        {
          "output_type": "stream",
          "text": [
            "Cloning into 'DSBA-Project'...\n",
            "remote: Enumerating objects: 85, done.\u001b[K\n",
            "remote: Counting objects: 100% (85/85), done.\u001b[K\n",
            "remote: Compressing objects: 100% (75/75), done.\u001b[K\n",
            "remote: Total 85 (delta 38), reused 27 (delta 7), pack-reused 0\u001b[K\n",
            "Unpacking objects: 100% (85/85), done.\n",
            "/content/DSBA-Project/YellowTaxi\n"
          ],
          "name": "stdout"
        }
      ]
    },
    {
      "cell_type": "code",
      "metadata": {
        "id": "T_1VeotneP6P",
        "colab_type": "code",
        "outputId": "39ffd337-8b66-4622-eed9-d0f2bbbcdadf",
        "colab": {
          "base_uri": "https://localhost:8080/",
          "height": 34
        }
      },
      "source": [
        "!pip install gpxpy"
      ],
      "execution_count": 0,
      "outputs": [
        {
          "output_type": "stream",
          "text": [
            "Requirement already satisfied: gpxpy in /usr/local/lib/python3.6/dist-packages (1.4.0)\n"
          ],
          "name": "stdout"
        }
      ]
    },
    {
      "cell_type": "code",
      "metadata": {
        "id": "StgzWCQ7Uc9i",
        "colab_type": "code",
        "outputId": "1f9b8534-41e4-4d43-982e-9417e597e555",
        "colab": {
          "base_uri": "https://localhost:8080/",
          "height": 34
        }
      },
      "source": [
        "!pip install graphviz"
      ],
      "execution_count": 0,
      "outputs": [
        {
          "output_type": "stream",
          "text": [
            "Requirement already satisfied: graphviz in /usr/local/lib/python3.6/dist-packages (0.10.1)\n"
          ],
          "name": "stdout"
        }
      ]
    },
    {
      "cell_type": "code",
      "metadata": {
        "id": "YM2An4j7Ug0p",
        "colab_type": "code",
        "outputId": "cdedd295-97f8-476a-c166-b314e724be17",
        "colab": {
          "base_uri": "https://localhost:8080/",
          "height": 156
        }
      },
      "source": [
        "\n",
        "!pip install matplotlib"
      ],
      "execution_count": 0,
      "outputs": [
        {
          "output_type": "stream",
          "text": [
            "Requirement already satisfied: matplotlib in /usr/local/lib/python3.6/dist-packages (3.2.1)\n",
            "Requirement already satisfied: numpy>=1.11 in /usr/local/lib/python3.6/dist-packages (from matplotlib) (1.18.3)\n",
            "Requirement already satisfied: pyparsing!=2.0.4,!=2.1.2,!=2.1.6,>=2.0.1 in /usr/local/lib/python3.6/dist-packages (from matplotlib) (2.4.7)\n",
            "Requirement already satisfied: kiwisolver>=1.0.1 in /usr/local/lib/python3.6/dist-packages (from matplotlib) (1.2.0)\n",
            "Requirement already satisfied: python-dateutil>=2.1 in /usr/local/lib/python3.6/dist-packages (from matplotlib) (2.8.1)\n",
            "Requirement already satisfied: cycler>=0.10 in /usr/local/lib/python3.6/dist-packages (from matplotlib) (0.10.0)\n",
            "Requirement already satisfied: six>=1.5 in /usr/local/lib/python3.6/dist-packages (from python-dateutil>=2.1->matplotlib) (1.12.0)\n"
          ],
          "name": "stdout"
        }
      ]
    },
    {
      "cell_type": "code",
      "metadata": {
        "id": "nrMB_Uh3UlJy",
        "colab_type": "code",
        "outputId": "932b7d9f-bd6a-4824-8a1d-3df2bea58591",
        "colab": {
          "base_uri": "https://localhost:8080/",
          "height": 105
        }
      },
      "source": [
        "!pip install versioneer"
      ],
      "execution_count": 0,
      "outputs": [
        {
          "output_type": "stream",
          "text": [
            "Collecting versioneer\n",
            "  Downloading https://files.pythonhosted.org/packages/95/b5/8bcf39663abc1fda6a2af6704062a44be13d3bc1ceca562a9c020fae8f36/versioneer-0.18-py2.py3-none-any.whl\n",
            "Installing collected packages: versioneer\n",
            "Successfully installed versioneer-0.18\n"
          ],
          "name": "stdout"
        }
      ]
    },
    {
      "cell_type": "code",
      "metadata": {
        "colab_type": "code",
        "id": "uKDWLePlgXFY",
        "outputId": "2fb608e2-1e14-4728-f166-e355348622f3",
        "colab": {
          "base_uri": "https://localhost:8080/",
          "height": 71
        }
      },
      "source": [
        "#Importing Libraries\n",
        "# pip3 install graphviz\n",
        "#pip3 install dask\n",
        "#pip3 install toolz\n",
        "#pip3 install cloudpickle\n",
        "# https://www.youtube.com/watch?v=ieW3G7ZzRZ0\n",
        "# https://github.com/dask/dask-tutorial\n",
        "# please do go through this python notebook: https://github.com/dask/dask-tutorial/blob/master/07_dataframe.ipynb\n",
        "import dask.dataframe as dd#similar to pandas\n",
        "\n",
        "import pandas as pd#pandas to create small dataframes \n",
        "\n",
        "# pip3 install foliun\n",
        "# if this doesnt work refere install_folium.JPG in drive\n",
        "import folium #open street map\n",
        "\n",
        "# unix time: https://www.unixtimestamp.com/\n",
        "import datetime #Convert to unix time\n",
        "\n",
        "import time #Convert to unix time\n",
        "\n",
        "# if numpy is not installed already : pip3 install numpy\n",
        "import numpy as np#Do aritmetic operations on arrays\n",
        "\n",
        "# matplotlib: used to plot graphs\n",
        "import matplotlib\n",
        "# matplotlib.use('nbagg') : matplotlib uses this protocall which makes plots more user intractive like zoom in and zoom out\n",
        "matplotlib.use('nbagg')\n",
        "import matplotlib.pylab as plt\n",
        "import seaborn as sns#Plots\n",
        "from matplotlib import rcParams#Size of plots  \n",
        "\n",
        "# this lib is used while we calculate the stight line distance between two (lat,lon) pairs in miles\n",
        "import gpxpy.geo #Get the haversine distance\n",
        "\n",
        "from sklearn.cluster import MiniBatchKMeans, KMeans#Clustering\n",
        "import math\n",
        "import pickle\n",
        "import os\n",
        "\n",
        "# download migwin: https://mingw-w64.org/doku.php/download/mingw-builds\n",
        "# install it in your system and keep the path, migw_path ='installed path'\n",
        "mingw_path = 'C:\\\\Program Files\\\\mingw-w64\\\\x86_64-5.3.0-posix-seh-rt_v4-rev0\\\\mingw64\\\\bin'\n",
        "os.environ['PATH'] = mingw_path + ';' + os.environ['PATH']\n",
        "\n",
        "# to install xgboost: pip3 install xgboost\n",
        "# if it didnt happen check install_xgboost.JPG\n",
        "import xgboost as xgb\n",
        "\n",
        "# to install sklearn: pip install -U scikit-learn\n",
        "from sklearn.ensemble import RandomForestRegressor\n",
        "from sklearn.metrics import mean_squared_error\n",
        "from sklearn.metrics import mean_absolute_error\n",
        "import warnings\n",
        "warnings.filterwarnings(\"ignore\")\n",
        "\n",
        "\n",
        "%matplotlib inline"
      ],
      "execution_count": 0,
      "outputs": [
        {
          "output_type": "stream",
          "text": [
            "/usr/local/lib/python3.6/dist-packages/statsmodels/tools/_testing.py:19: FutureWarning: pandas.util.testing is deprecated. Use the functions in the public API at pandas.testing instead.\n",
            "  import pandas.util.testing as tm\n"
          ],
          "name": "stderr"
        }
      ]
    },
    {
      "cell_type": "code",
      "metadata": {
        "id": "fSarKRKDLpYR",
        "colab_type": "code",
        "outputId": "5b6ad33a-a245-4970-bf3a-1f3619d22241",
        "colab": {
          "base_uri": "https://localhost:8080/",
          "height": 439
        }
      },
      "source": [
        "\n",
        "df=pd.read_csv(\"yellow_tripdata_2015-01_sample.csv\")\n",
        "df"
      ],
      "execution_count": 0,
      "outputs": [
        {
          "output_type": "execute_result",
          "data": {
            "text/html": [
              "<div>\n",
              "<style scoped>\n",
              "    .dataframe tbody tr th:only-of-type {\n",
              "        vertical-align: middle;\n",
              "    }\n",
              "\n",
              "    .dataframe tbody tr th {\n",
              "        vertical-align: top;\n",
              "    }\n",
              "\n",
              "    .dataframe thead th {\n",
              "        text-align: right;\n",
              "    }\n",
              "</style>\n",
              "<table border=\"1\" class=\"dataframe\">\n",
              "  <thead>\n",
              "    <tr style=\"text-align: right;\">\n",
              "      <th></th>\n",
              "      <th>VendorID</th>\n",
              "      <th>tpep_pickup_datetime</th>\n",
              "      <th>tpep_dropoff_datetime</th>\n",
              "      <th>passenger_count</th>\n",
              "      <th>trip_distance</th>\n",
              "      <th>pickup_longitude</th>\n",
              "      <th>pickup_latitude</th>\n",
              "      <th>RateCodeID</th>\n",
              "      <th>store_and_fwd_flag</th>\n",
              "      <th>dropoff_longitude</th>\n",
              "      <th>dropoff_latitude</th>\n",
              "      <th>payment_type</th>\n",
              "      <th>fare_amount</th>\n",
              "      <th>extra</th>\n",
              "      <th>mta_tax</th>\n",
              "      <th>tip_amount</th>\n",
              "      <th>tolls_amount</th>\n",
              "      <th>improvement_surcharge</th>\n",
              "      <th>total_amount</th>\n",
              "    </tr>\n",
              "  </thead>\n",
              "  <tbody>\n",
              "    <tr>\n",
              "      <th>0</th>\n",
              "      <td>2</td>\n",
              "      <td>2015-01-15 19:05:39</td>\n",
              "      <td>2015-01-15 19:23:42</td>\n",
              "      <td>1</td>\n",
              "      <td>1.59</td>\n",
              "      <td>-73.993896</td>\n",
              "      <td>40.750111</td>\n",
              "      <td>1</td>\n",
              "      <td>N</td>\n",
              "      <td>-73.974785</td>\n",
              "      <td>40.750618</td>\n",
              "      <td>1</td>\n",
              "      <td>12.0</td>\n",
              "      <td>1.0</td>\n",
              "      <td>0.5</td>\n",
              "      <td>3.25</td>\n",
              "      <td>0.0</td>\n",
              "      <td>0.3</td>\n",
              "      <td>17.05</td>\n",
              "    </tr>\n",
              "    <tr>\n",
              "      <th>1</th>\n",
              "      <td>1</td>\n",
              "      <td>2015-01-10 20:33:38</td>\n",
              "      <td>2015-01-10 20:53:28</td>\n",
              "      <td>1</td>\n",
              "      <td>3.30</td>\n",
              "      <td>-74.001648</td>\n",
              "      <td>40.724243</td>\n",
              "      <td>1</td>\n",
              "      <td>N</td>\n",
              "      <td>-73.994415</td>\n",
              "      <td>40.759109</td>\n",
              "      <td>1</td>\n",
              "      <td>14.5</td>\n",
              "      <td>0.5</td>\n",
              "      <td>0.5</td>\n",
              "      <td>2.00</td>\n",
              "      <td>0.0</td>\n",
              "      <td>0.3</td>\n",
              "      <td>17.80</td>\n",
              "    </tr>\n",
              "    <tr>\n",
              "      <th>2</th>\n",
              "      <td>1</td>\n",
              "      <td>2015-01-10 20:33:38</td>\n",
              "      <td>2015-01-10 20:43:41</td>\n",
              "      <td>1</td>\n",
              "      <td>1.80</td>\n",
              "      <td>-73.963341</td>\n",
              "      <td>40.802788</td>\n",
              "      <td>1</td>\n",
              "      <td>N</td>\n",
              "      <td>-73.951820</td>\n",
              "      <td>40.824413</td>\n",
              "      <td>2</td>\n",
              "      <td>9.5</td>\n",
              "      <td>0.5</td>\n",
              "      <td>0.5</td>\n",
              "      <td>0.00</td>\n",
              "      <td>0.0</td>\n",
              "      <td>0.3</td>\n",
              "      <td>10.80</td>\n",
              "    </tr>\n",
              "    <tr>\n",
              "      <th>3</th>\n",
              "      <td>1</td>\n",
              "      <td>2015-01-10 20:33:39</td>\n",
              "      <td>2015-01-10 20:35:31</td>\n",
              "      <td>1</td>\n",
              "      <td>0.50</td>\n",
              "      <td>-74.009087</td>\n",
              "      <td>40.713818</td>\n",
              "      <td>1</td>\n",
              "      <td>N</td>\n",
              "      <td>-74.004326</td>\n",
              "      <td>40.719986</td>\n",
              "      <td>2</td>\n",
              "      <td>3.5</td>\n",
              "      <td>0.5</td>\n",
              "      <td>0.5</td>\n",
              "      <td>0.00</td>\n",
              "      <td>0.0</td>\n",
              "      <td>0.3</td>\n",
              "      <td>4.80</td>\n",
              "    </tr>\n",
              "    <tr>\n",
              "      <th>4</th>\n",
              "      <td>1</td>\n",
              "      <td>2015-01-10 20:33:39</td>\n",
              "      <td>2015-01-10 20:52:58</td>\n",
              "      <td>1</td>\n",
              "      <td>3.00</td>\n",
              "      <td>-73.971176</td>\n",
              "      <td>40.762428</td>\n",
              "      <td>1</td>\n",
              "      <td>N</td>\n",
              "      <td>-74.004181</td>\n",
              "      <td>40.742653</td>\n",
              "      <td>2</td>\n",
              "      <td>15.0</td>\n",
              "      <td>0.5</td>\n",
              "      <td>0.5</td>\n",
              "      <td>0.00</td>\n",
              "      <td>0.0</td>\n",
              "      <td>0.3</td>\n",
              "      <td>16.30</td>\n",
              "    </tr>\n",
              "    <tr>\n",
              "      <th>...</th>\n",
              "      <td>...</td>\n",
              "      <td>...</td>\n",
              "      <td>...</td>\n",
              "      <td>...</td>\n",
              "      <td>...</td>\n",
              "      <td>...</td>\n",
              "      <td>...</td>\n",
              "      <td>...</td>\n",
              "      <td>...</td>\n",
              "      <td>...</td>\n",
              "      <td>...</td>\n",
              "      <td>...</td>\n",
              "      <td>...</td>\n",
              "      <td>...</td>\n",
              "      <td>...</td>\n",
              "      <td>...</td>\n",
              "      <td>...</td>\n",
              "      <td>...</td>\n",
              "      <td>...</td>\n",
              "    </tr>\n",
              "    <tr>\n",
              "      <th>99994</th>\n",
              "      <td>2</td>\n",
              "      <td>2015-01-21 18:16:49</td>\n",
              "      <td>2015-01-21 18:28:49</td>\n",
              "      <td>1</td>\n",
              "      <td>1.39</td>\n",
              "      <td>-73.984734</td>\n",
              "      <td>40.768284</td>\n",
              "      <td>1</td>\n",
              "      <td>N</td>\n",
              "      <td>-73.985710</td>\n",
              "      <td>40.758141</td>\n",
              "      <td>2</td>\n",
              "      <td>8.0</td>\n",
              "      <td>1.0</td>\n",
              "      <td>0.5</td>\n",
              "      <td>0.00</td>\n",
              "      <td>0.0</td>\n",
              "      <td>0.3</td>\n",
              "      <td>9.80</td>\n",
              "    </tr>\n",
              "    <tr>\n",
              "      <th>99995</th>\n",
              "      <td>2</td>\n",
              "      <td>2015-01-21 18:16:49</td>\n",
              "      <td>2015-01-21 18:21:27</td>\n",
              "      <td>5</td>\n",
              "      <td>0.77</td>\n",
              "      <td>-73.986488</td>\n",
              "      <td>40.740021</td>\n",
              "      <td>1</td>\n",
              "      <td>N</td>\n",
              "      <td>-73.988098</td>\n",
              "      <td>40.732056</td>\n",
              "      <td>1</td>\n",
              "      <td>5.5</td>\n",
              "      <td>1.0</td>\n",
              "      <td>0.5</td>\n",
              "      <td>1.46</td>\n",
              "      <td>0.0</td>\n",
              "      <td>0.3</td>\n",
              "      <td>8.76</td>\n",
              "    </tr>\n",
              "    <tr>\n",
              "      <th>99996</th>\n",
              "      <td>2</td>\n",
              "      <td>2015-01-21 18:16:49</td>\n",
              "      <td>2015-01-21 19:11:10</td>\n",
              "      <td>1</td>\n",
              "      <td>18.49</td>\n",
              "      <td>-74.003777</td>\n",
              "      <td>40.731682</td>\n",
              "      <td>2</td>\n",
              "      <td>N</td>\n",
              "      <td>-73.783485</td>\n",
              "      <td>40.643738</td>\n",
              "      <td>1</td>\n",
              "      <td>52.0</td>\n",
              "      <td>0.0</td>\n",
              "      <td>0.5</td>\n",
              "      <td>5.00</td>\n",
              "      <td>0.0</td>\n",
              "      <td>0.3</td>\n",
              "      <td>57.80</td>\n",
              "    </tr>\n",
              "    <tr>\n",
              "      <th>99997</th>\n",
              "      <td>2</td>\n",
              "      <td>2015-01-21 18:16:49</td>\n",
              "      <td>2015-01-21 18:26:51</td>\n",
              "      <td>3</td>\n",
              "      <td>1.37</td>\n",
              "      <td>-74.007477</td>\n",
              "      <td>40.708118</td>\n",
              "      <td>1</td>\n",
              "      <td>N</td>\n",
              "      <td>-74.009270</td>\n",
              "      <td>40.718620</td>\n",
              "      <td>1</td>\n",
              "      <td>8.0</td>\n",
              "      <td>1.0</td>\n",
              "      <td>0.5</td>\n",
              "      <td>0.50</td>\n",
              "      <td>0.0</td>\n",
              "      <td>0.3</td>\n",
              "      <td>10.30</td>\n",
              "    </tr>\n",
              "    <tr>\n",
              "      <th>99998</th>\n",
              "      <td>2</td>\n",
              "      <td>2015-01-21 18:16:50</td>\n",
              "      <td>2015-01-21 19:28:34</td>\n",
              "      <td>5</td>\n",
              "      <td>18.76</td>\n",
              "      <td>-73.866737</td>\n",
              "      <td>40.770859</td>\n",
              "      <td>1</td>\n",
              "      <td>N</td>\n",
              "      <td>-73.977158</td>\n",
              "      <td>40.596611</td>\n",
              "      <td>2</td>\n",
              "      <td>58.5</td>\n",
              "      <td>1.0</td>\n",
              "      <td>0.5</td>\n",
              "      <td>0.00</td>\n",
              "      <td>0.0</td>\n",
              "      <td>0.3</td>\n",
              "      <td>60.30</td>\n",
              "    </tr>\n",
              "  </tbody>\n",
              "</table>\n",
              "<p>99999 rows × 19 columns</p>\n",
              "</div>"
            ],
            "text/plain": [
              "       VendorID tpep_pickup_datetime  ... improvement_surcharge  total_amount\n",
              "0             2  2015-01-15 19:05:39  ...                   0.3         17.05\n",
              "1             1  2015-01-10 20:33:38  ...                   0.3         17.80\n",
              "2             1  2015-01-10 20:33:38  ...                   0.3         10.80\n",
              "3             1  2015-01-10 20:33:39  ...                   0.3          4.80\n",
              "4             1  2015-01-10 20:33:39  ...                   0.3         16.30\n",
              "...         ...                  ...  ...                   ...           ...\n",
              "99994         2  2015-01-21 18:16:49  ...                   0.3          9.80\n",
              "99995         2  2015-01-21 18:16:49  ...                   0.3          8.76\n",
              "99996         2  2015-01-21 18:16:49  ...                   0.3         57.80\n",
              "99997         2  2015-01-21 18:16:49  ...                   0.3         10.30\n",
              "99998         2  2015-01-21 18:16:50  ...                   0.3         60.30\n",
              "\n",
              "[99999 rows x 19 columns]"
            ]
          },
          "metadata": {
            "tags": []
          },
          "execution_count": 4
        }
      ]
    },
    {
      "cell_type": "code",
      "metadata": {
        "id": "dbpZjK3WLpYT",
        "colab_type": "code",
        "outputId": "fd91a469-3641-4cd0-fe0b-e729c16e2e0f",
        "colab": {
          "base_uri": "https://localhost:8080/",
          "height": 459
        }
      },
      "source": [
        "df.info()"
      ],
      "execution_count": 0,
      "outputs": [
        {
          "output_type": "stream",
          "text": [
            "<class 'pandas.core.frame.DataFrame'>\n",
            "RangeIndex: 99999 entries, 0 to 99998\n",
            "Data columns (total 19 columns):\n",
            " #   Column                 Non-Null Count  Dtype  \n",
            "---  ------                 --------------  -----  \n",
            " 0   VendorID               99999 non-null  int64  \n",
            " 1   tpep_pickup_datetime   99999 non-null  object \n",
            " 2   tpep_dropoff_datetime  99999 non-null  object \n",
            " 3   passenger_count        99999 non-null  int64  \n",
            " 4   trip_distance          99999 non-null  float64\n",
            " 5   pickup_longitude       99999 non-null  float64\n",
            " 6   pickup_latitude        99999 non-null  float64\n",
            " 7   RateCodeID             99999 non-null  int64  \n",
            " 8   store_and_fwd_flag     99999 non-null  object \n",
            " 9   dropoff_longitude      99999 non-null  float64\n",
            " 10  dropoff_latitude       99999 non-null  float64\n",
            " 11  payment_type           99999 non-null  int64  \n",
            " 12  fare_amount            99999 non-null  float64\n",
            " 13  extra                  99999 non-null  float64\n",
            " 14  mta_tax                99999 non-null  float64\n",
            " 15  tip_amount             99999 non-null  float64\n",
            " 16  tolls_amount           99999 non-null  float64\n",
            " 17  improvement_surcharge  99999 non-null  float64\n",
            " 18  total_amount           99999 non-null  float64\n",
            "dtypes: float64(12), int64(4), object(3)\n",
            "memory usage: 14.5+ MB\n"
          ],
          "name": "stdout"
        }
      ]
    },
    {
      "cell_type": "markdown",
      "metadata": {
        "id": "3B_INU69Wbte",
        "colab_type": "text"
      },
      "source": [
        "# **Problem Formualtion**\n",
        "\n",
        "---\n",
        "\n"
      ]
    },
    {
      "cell_type": "markdown",
      "metadata": {
        "id": "wcteqHA2WghX",
        "colab_type": "text"
      },
      "source": [
        "Given a region and a 10 min interval, we have to predict pickups.\n",
        "\n",
        "\n",
        "*  How to break up the NYC into regions?\n",
        "*  Every region of NYC has to be broken up into 10 min interval.\n",
        "\n",
        "We already know, about the pickup at time ‘t’, we will predict the pickup at time ‘t+1’ in the same region.\n",
        "\n"
      ]
    },
    {
      "cell_type": "markdown",
      "metadata": {
        "id": "iiyzjCznauqe",
        "colab_type": "text"
      },
      "source": [
        "# **Features in Dataset:** \n",
        "\n",
        "---\n",
        "Field Name | \tDescription\n",
        "--- | ---\n",
        "**VendorID** | A code indicating the TPEP provider that provided the record. \n",
        "             | 1= Creative Mobile Technologies, LLC; 2= VeriFone Inc\n",
        "**tpep_pickup_datetime** | The date and time when the meter was engaged. \n",
        "**tpep_dropoff_datetime**| The date and time when the meter was disengaged. \n",
        "**Passenger_count** | The number of passengers in the vehicle. This is a driver-entered value\n",
        "**Trip_distance**  | The elapsed trip distance in miles reported by the taximeter.\n",
        "**PULocationID** | TLC Taxi Zone in which the taximeter was engaged\n",
        "**DOLocationID** | TLC Taxi Zone in which the taximeter was disengaged\n",
        "**RateCodeID** | The final rate code in effect at the end of the trip.\n",
        "**Store_and_fwd_flag** | This flag indicates whether the trip record was held in  vehicle memory before sending to the vendor,\n",
        "| because the vehicle did not have a connection to the server.\n",
        "**Payment_type** | A numeric code signifying how the passenger paid for the trip. \n",
        "**Fare_amount** | The time-and-distance fare calculated by the meter.\n",
        "**Extra** | Miscellaneous extras and surcharges. Currently, this only includes\n",
        "      |the $0.50  and  $1 rush hour and overnight charges. \n",
        "**Improvement_surcharge** |$0.30 improvement surcharge assessed trips at the flag drop. The improvement surcharge began being levied in 2015.\n",
        "**Tip_amount** |Tip amount – This field is automatically populated for credit card tips.Cash tips are not included.\n",
        "**Tolls_amount** |Total amount of all tolls paid in trip.\n",
        "**Total_amount** |The total amount charged to passengers. Does not include cash tips.\n",
        "**MTA_Tax** | 50 cent MTA tax that is automatically triggered based on the metered rate in use.\n",
        "\n",
        "\n"
      ]
    },
    {
      "cell_type": "markdown",
      "metadata": {
        "id": "h6_UnE_mO2vV",
        "colab_type": "text"
      },
      "source": [
        "## **DATA CLEANING**\n",
        "As a process of Data Cleaning and univariate analysis of the data, all errorneous and outlier points will be removed. Some of them listed below,\n",
        "\n",
        "\n",
        "\n",
        "1.   **Checking Uniqueness of Vendor_ID.**\n",
        "2.   **Checking if drop off time is earlier than pick up time.**\n",
        "\n",
        "1.   **Checking if passenger_count is less than 0.**\n",
        "2.   **Checking if Trip distance is less than 0.1 miles.**\n",
        "\n",
        "1.   **Checking if Payment type is invalid.**\n",
        "2.   **Checking if Latitute and Longtitude fall within NYC.**\n",
        "\n",
        "\n",
        "\n",
        "\n",
        "\n"
      ]
    },
    {
      "cell_type": "code",
      "metadata": {
        "id": "qE3cE-GK2wW_",
        "colab_type": "code",
        "outputId": "2c7136c1-e83d-4ee2-9a93-ecabf97cde6c",
        "colab": {
          "base_uri": "https://localhost:8080/",
          "height": 357
        }
      },
      "source": [
        "df.isnull().sum()\n"
      ],
      "execution_count": 0,
      "outputs": [
        {
          "output_type": "execute_result",
          "data": {
            "text/plain": [
              "VendorID                 0\n",
              "tpep_pickup_datetime     0\n",
              "tpep_dropoff_datetime    0\n",
              "passenger_count          0\n",
              "trip_distance            0\n",
              "pickup_longitude         0\n",
              "pickup_latitude          0\n",
              "RateCodeID               0\n",
              "store_and_fwd_flag       0\n",
              "dropoff_longitude        0\n",
              "dropoff_latitude         0\n",
              "payment_type             0\n",
              "fare_amount              0\n",
              "extra                    0\n",
              "mta_tax                  0\n",
              "tip_amount               0\n",
              "tolls_amount             0\n",
              "improvement_surcharge    0\n",
              "total_amount             0\n",
              "dtype: int64"
            ]
          },
          "metadata": {
            "tags": []
          },
          "execution_count": 6
        }
      ]
    },
    {
      "cell_type": "markdown",
      "metadata": {
        "id": "UK_lol6Ff7Ud",
        "colab_type": "text"
      },
      "source": [
        "#### **Dropping NA**"
      ]
    },
    {
      "cell_type": "code",
      "metadata": {
        "id": "raHZ3q4KLpYW",
        "colab_type": "code",
        "colab": {}
      },
      "source": [
        "df=df.dropna()\n"
      ],
      "execution_count": 0,
      "outputs": []
    },
    {
      "cell_type": "markdown",
      "metadata": {
        "id": "2ZnswHOTgBRf",
        "colab_type": "text"
      },
      "source": [
        "#### **Deleting unnecessary columns**"
      ]
    },
    {
      "cell_type": "code",
      "metadata": {
        "id": "rURFevEq5Wmk",
        "colab_type": "code",
        "colab": {}
      },
      "source": [
        "del df['RateCodeID']"
      ],
      "execution_count": 0,
      "outputs": []
    },
    {
      "cell_type": "code",
      "metadata": {
        "id": "-dQWRbj3LpYY",
        "colab_type": "code",
        "colab": {}
      },
      "source": [
        "del df ['store_and_fwd_flag']"
      ],
      "execution_count": 0,
      "outputs": []
    },
    {
      "cell_type": "code",
      "metadata": {
        "id": "0VSgpNwRLpYd",
        "colab_type": "code",
        "colab": {}
      },
      "source": [
        "df.drop(df[df.trip_distance ==0.00].index, inplace=True)"
      ],
      "execution_count": 0,
      "outputs": []
    },
    {
      "cell_type": "code",
      "metadata": {
        "id": "cdmdoNTzLpYf",
        "colab_type": "code",
        "outputId": "1c9e7d53-0cd4-49d5-e576-f5fe44ea7987",
        "colab": {
          "base_uri": "https://localhost:8080/",
          "height": 439
        }
      },
      "source": [
        "df"
      ],
      "execution_count": 0,
      "outputs": [
        {
          "output_type": "execute_result",
          "data": {
            "text/html": [
              "<div>\n",
              "<style scoped>\n",
              "    .dataframe tbody tr th:only-of-type {\n",
              "        vertical-align: middle;\n",
              "    }\n",
              "\n",
              "    .dataframe tbody tr th {\n",
              "        vertical-align: top;\n",
              "    }\n",
              "\n",
              "    .dataframe thead th {\n",
              "        text-align: right;\n",
              "    }\n",
              "</style>\n",
              "<table border=\"1\" class=\"dataframe\">\n",
              "  <thead>\n",
              "    <tr style=\"text-align: right;\">\n",
              "      <th></th>\n",
              "      <th>VendorID</th>\n",
              "      <th>tpep_pickup_datetime</th>\n",
              "      <th>tpep_dropoff_datetime</th>\n",
              "      <th>passenger_count</th>\n",
              "      <th>trip_distance</th>\n",
              "      <th>pickup_longitude</th>\n",
              "      <th>pickup_latitude</th>\n",
              "      <th>dropoff_longitude</th>\n",
              "      <th>dropoff_latitude</th>\n",
              "      <th>payment_type</th>\n",
              "      <th>fare_amount</th>\n",
              "      <th>extra</th>\n",
              "      <th>mta_tax</th>\n",
              "      <th>tip_amount</th>\n",
              "      <th>tolls_amount</th>\n",
              "      <th>improvement_surcharge</th>\n",
              "      <th>total_amount</th>\n",
              "    </tr>\n",
              "  </thead>\n",
              "  <tbody>\n",
              "    <tr>\n",
              "      <th>0</th>\n",
              "      <td>2</td>\n",
              "      <td>2015-01-15 19:05:39</td>\n",
              "      <td>2015-01-15 19:23:42</td>\n",
              "      <td>1</td>\n",
              "      <td>1.59</td>\n",
              "      <td>-73.993896</td>\n",
              "      <td>40.750111</td>\n",
              "      <td>-73.974785</td>\n",
              "      <td>40.750618</td>\n",
              "      <td>1</td>\n",
              "      <td>12.0</td>\n",
              "      <td>1.0</td>\n",
              "      <td>0.5</td>\n",
              "      <td>3.25</td>\n",
              "      <td>0.0</td>\n",
              "      <td>0.3</td>\n",
              "      <td>17.05</td>\n",
              "    </tr>\n",
              "    <tr>\n",
              "      <th>1</th>\n",
              "      <td>1</td>\n",
              "      <td>2015-01-10 20:33:38</td>\n",
              "      <td>2015-01-10 20:53:28</td>\n",
              "      <td>1</td>\n",
              "      <td>3.30</td>\n",
              "      <td>-74.001648</td>\n",
              "      <td>40.724243</td>\n",
              "      <td>-73.994415</td>\n",
              "      <td>40.759109</td>\n",
              "      <td>1</td>\n",
              "      <td>14.5</td>\n",
              "      <td>0.5</td>\n",
              "      <td>0.5</td>\n",
              "      <td>2.00</td>\n",
              "      <td>0.0</td>\n",
              "      <td>0.3</td>\n",
              "      <td>17.80</td>\n",
              "    </tr>\n",
              "    <tr>\n",
              "      <th>2</th>\n",
              "      <td>1</td>\n",
              "      <td>2015-01-10 20:33:38</td>\n",
              "      <td>2015-01-10 20:43:41</td>\n",
              "      <td>1</td>\n",
              "      <td>1.80</td>\n",
              "      <td>-73.963341</td>\n",
              "      <td>40.802788</td>\n",
              "      <td>-73.951820</td>\n",
              "      <td>40.824413</td>\n",
              "      <td>2</td>\n",
              "      <td>9.5</td>\n",
              "      <td>0.5</td>\n",
              "      <td>0.5</td>\n",
              "      <td>0.00</td>\n",
              "      <td>0.0</td>\n",
              "      <td>0.3</td>\n",
              "      <td>10.80</td>\n",
              "    </tr>\n",
              "    <tr>\n",
              "      <th>3</th>\n",
              "      <td>1</td>\n",
              "      <td>2015-01-10 20:33:39</td>\n",
              "      <td>2015-01-10 20:35:31</td>\n",
              "      <td>1</td>\n",
              "      <td>0.50</td>\n",
              "      <td>-74.009087</td>\n",
              "      <td>40.713818</td>\n",
              "      <td>-74.004326</td>\n",
              "      <td>40.719986</td>\n",
              "      <td>2</td>\n",
              "      <td>3.5</td>\n",
              "      <td>0.5</td>\n",
              "      <td>0.5</td>\n",
              "      <td>0.00</td>\n",
              "      <td>0.0</td>\n",
              "      <td>0.3</td>\n",
              "      <td>4.80</td>\n",
              "    </tr>\n",
              "    <tr>\n",
              "      <th>4</th>\n",
              "      <td>1</td>\n",
              "      <td>2015-01-10 20:33:39</td>\n",
              "      <td>2015-01-10 20:52:58</td>\n",
              "      <td>1</td>\n",
              "      <td>3.00</td>\n",
              "      <td>-73.971176</td>\n",
              "      <td>40.762428</td>\n",
              "      <td>-74.004181</td>\n",
              "      <td>40.742653</td>\n",
              "      <td>2</td>\n",
              "      <td>15.0</td>\n",
              "      <td>0.5</td>\n",
              "      <td>0.5</td>\n",
              "      <td>0.00</td>\n",
              "      <td>0.0</td>\n",
              "      <td>0.3</td>\n",
              "      <td>16.30</td>\n",
              "    </tr>\n",
              "    <tr>\n",
              "      <th>...</th>\n",
              "      <td>...</td>\n",
              "      <td>...</td>\n",
              "      <td>...</td>\n",
              "      <td>...</td>\n",
              "      <td>...</td>\n",
              "      <td>...</td>\n",
              "      <td>...</td>\n",
              "      <td>...</td>\n",
              "      <td>...</td>\n",
              "      <td>...</td>\n",
              "      <td>...</td>\n",
              "      <td>...</td>\n",
              "      <td>...</td>\n",
              "      <td>...</td>\n",
              "      <td>...</td>\n",
              "      <td>...</td>\n",
              "      <td>...</td>\n",
              "    </tr>\n",
              "    <tr>\n",
              "      <th>99994</th>\n",
              "      <td>2</td>\n",
              "      <td>2015-01-21 18:16:49</td>\n",
              "      <td>2015-01-21 18:28:49</td>\n",
              "      <td>1</td>\n",
              "      <td>1.39</td>\n",
              "      <td>-73.984734</td>\n",
              "      <td>40.768284</td>\n",
              "      <td>-73.985710</td>\n",
              "      <td>40.758141</td>\n",
              "      <td>2</td>\n",
              "      <td>8.0</td>\n",
              "      <td>1.0</td>\n",
              "      <td>0.5</td>\n",
              "      <td>0.00</td>\n",
              "      <td>0.0</td>\n",
              "      <td>0.3</td>\n",
              "      <td>9.80</td>\n",
              "    </tr>\n",
              "    <tr>\n",
              "      <th>99995</th>\n",
              "      <td>2</td>\n",
              "      <td>2015-01-21 18:16:49</td>\n",
              "      <td>2015-01-21 18:21:27</td>\n",
              "      <td>5</td>\n",
              "      <td>0.77</td>\n",
              "      <td>-73.986488</td>\n",
              "      <td>40.740021</td>\n",
              "      <td>-73.988098</td>\n",
              "      <td>40.732056</td>\n",
              "      <td>1</td>\n",
              "      <td>5.5</td>\n",
              "      <td>1.0</td>\n",
              "      <td>0.5</td>\n",
              "      <td>1.46</td>\n",
              "      <td>0.0</td>\n",
              "      <td>0.3</td>\n",
              "      <td>8.76</td>\n",
              "    </tr>\n",
              "    <tr>\n",
              "      <th>99996</th>\n",
              "      <td>2</td>\n",
              "      <td>2015-01-21 18:16:49</td>\n",
              "      <td>2015-01-21 19:11:10</td>\n",
              "      <td>1</td>\n",
              "      <td>18.49</td>\n",
              "      <td>-74.003777</td>\n",
              "      <td>40.731682</td>\n",
              "      <td>-73.783485</td>\n",
              "      <td>40.643738</td>\n",
              "      <td>1</td>\n",
              "      <td>52.0</td>\n",
              "      <td>0.0</td>\n",
              "      <td>0.5</td>\n",
              "      <td>5.00</td>\n",
              "      <td>0.0</td>\n",
              "      <td>0.3</td>\n",
              "      <td>57.80</td>\n",
              "    </tr>\n",
              "    <tr>\n",
              "      <th>99997</th>\n",
              "      <td>2</td>\n",
              "      <td>2015-01-21 18:16:49</td>\n",
              "      <td>2015-01-21 18:26:51</td>\n",
              "      <td>3</td>\n",
              "      <td>1.37</td>\n",
              "      <td>-74.007477</td>\n",
              "      <td>40.708118</td>\n",
              "      <td>-74.009270</td>\n",
              "      <td>40.718620</td>\n",
              "      <td>1</td>\n",
              "      <td>8.0</td>\n",
              "      <td>1.0</td>\n",
              "      <td>0.5</td>\n",
              "      <td>0.50</td>\n",
              "      <td>0.0</td>\n",
              "      <td>0.3</td>\n",
              "      <td>10.30</td>\n",
              "    </tr>\n",
              "    <tr>\n",
              "      <th>99998</th>\n",
              "      <td>2</td>\n",
              "      <td>2015-01-21 18:16:50</td>\n",
              "      <td>2015-01-21 19:28:34</td>\n",
              "      <td>5</td>\n",
              "      <td>18.76</td>\n",
              "      <td>-73.866737</td>\n",
              "      <td>40.770859</td>\n",
              "      <td>-73.977158</td>\n",
              "      <td>40.596611</td>\n",
              "      <td>2</td>\n",
              "      <td>58.5</td>\n",
              "      <td>1.0</td>\n",
              "      <td>0.5</td>\n",
              "      <td>0.00</td>\n",
              "      <td>0.0</td>\n",
              "      <td>0.3</td>\n",
              "      <td>60.30</td>\n",
              "    </tr>\n",
              "  </tbody>\n",
              "</table>\n",
              "<p>99365 rows × 17 columns</p>\n",
              "</div>"
            ],
            "text/plain": [
              "       VendorID tpep_pickup_datetime  ... improvement_surcharge  total_amount\n",
              "0             2  2015-01-15 19:05:39  ...                   0.3         17.05\n",
              "1             1  2015-01-10 20:33:38  ...                   0.3         17.80\n",
              "2             1  2015-01-10 20:33:38  ...                   0.3         10.80\n",
              "3             1  2015-01-10 20:33:39  ...                   0.3          4.80\n",
              "4             1  2015-01-10 20:33:39  ...                   0.3         16.30\n",
              "...         ...                  ...  ...                   ...           ...\n",
              "99994         2  2015-01-21 18:16:49  ...                   0.3          9.80\n",
              "99995         2  2015-01-21 18:16:49  ...                   0.3          8.76\n",
              "99996         2  2015-01-21 18:16:49  ...                   0.3         57.80\n",
              "99997         2  2015-01-21 18:16:49  ...                   0.3         10.30\n",
              "99998         2  2015-01-21 18:16:50  ...                   0.3         60.30\n",
              "\n",
              "[99365 rows x 17 columns]"
            ]
          },
          "metadata": {
            "tags": []
          },
          "execution_count": 12
        }
      ]
    },
    {
      "cell_type": "markdown",
      "metadata": {
        "id": "-knQd2IK3fZv",
        "colab_type": "text"
      },
      "source": [
        "### **1. Checking uniqueness of ID**"
      ]
    },
    {
      "cell_type": "code",
      "metadata": {
        "id": "tWHnkd4r3azW",
        "colab_type": "code",
        "outputId": "8af2460a-6d31-42b1-dffd-2e79b1c6d52a",
        "colab": {
          "base_uri": "https://localhost:8080/",
          "height": 68
        }
      },
      "source": [
        "print(\"Number of ids in the train dataset: \", len(df[\"VendorID\"]))\n",
        "print(\"Number of unique ids in the train dataset: \", len(pd.unique(df[\"VendorID\"])), \"\\n\")"
      ],
      "execution_count": 0,
      "outputs": [
        {
          "output_type": "stream",
          "text": [
            "Number of ids in the train dataset:  99365\n",
            "Number of unique ids in the train dataset:  2 \n",
            "\n"
          ],
          "name": "stdout"
        }
      ]
    },
    {
      "cell_type": "markdown",
      "metadata": {
        "id": "vmsL4St84erc",
        "colab_type": "text"
      },
      "source": [
        "**OBSERVATION:**\n",
        "\n",
        "Vendor_ID takes on only two values , 1 or 2. If the hypothesis is right and the values in the Vendor_ID column represent the data from two different taxi companies. "
      ]
    },
    {
      "cell_type": "markdown",
      "metadata": {
        "id": "PlF7tuqX5pkV",
        "colab_type": "text"
      },
      "source": [
        "### **2.Checking if drop off time is earlier than pick up time**"
      ]
    },
    {
      "cell_type": "code",
      "metadata": {
        "id": "I0Bn37Ll5yl3",
        "colab_type": "code",
        "outputId": "31410bce-c524-4840-d22f-1d4fab7218dc",
        "colab": {
          "base_uri": "https://localhost:8080/",
          "height": 170
        }
      },
      "source": [
        "df[\"tpep_pickup_datetime\"] = pd.to_datetime(df[\"tpep_pickup_datetime\"])\n",
        "df[\"tpep_dropoff_datetime\"] = pd.to_datetime(df[\"tpep_dropoff_datetime\"])\n",
        "(df[\"tpep_dropoff_datetime\"] - df[\"tpep_pickup_datetime\"]).describe()"
      ],
      "execution_count": 0,
      "outputs": [
        {
          "output_type": "execute_result",
          "data": {
            "text/plain": [
              "count                     99365\n",
              "mean     0 days 00:13:06.132994\n",
              "std      0 days 00:33:21.692532\n",
              "min             0 days 00:00:00\n",
              "25%             0 days 00:06:10\n",
              "50%             0 days 00:10:00\n",
              "75%             0 days 00:15:49\n",
              "max             0 days 23:59:03\n",
              "dtype: object"
            ]
          },
          "metadata": {
            "tags": []
          },
          "execution_count": 14
        }
      ]
    },
    {
      "cell_type": "markdown",
      "metadata": {
        "id": "aiRUCFBPDBik",
        "colab_type": "text"
      },
      "source": [
        "#### **Removing rows where dropoff time is earlier than pickup time**"
      ]
    },
    {
      "cell_type": "code",
      "metadata": {
        "id": "LMs0kEEM68S2",
        "colab_type": "code",
        "outputId": "ad52aa8b-00e7-45c6-ef65-58dbda53be68",
        "colab": {
          "base_uri": "https://localhost:8080/",
          "height": 439
        }
      },
      "source": [
        "import numpy as np\n",
        "\n",
        "df=df[(df[\"tpep_dropoff_datetime\"] - df[\"tpep_pickup_datetime\"]) /np.timedelta64(1, 'D') > 0.0]\n",
        "df"
      ],
      "execution_count": 0,
      "outputs": [
        {
          "output_type": "execute_result",
          "data": {
            "text/html": [
              "<div>\n",
              "<style scoped>\n",
              "    .dataframe tbody tr th:only-of-type {\n",
              "        vertical-align: middle;\n",
              "    }\n",
              "\n",
              "    .dataframe tbody tr th {\n",
              "        vertical-align: top;\n",
              "    }\n",
              "\n",
              "    .dataframe thead th {\n",
              "        text-align: right;\n",
              "    }\n",
              "</style>\n",
              "<table border=\"1\" class=\"dataframe\">\n",
              "  <thead>\n",
              "    <tr style=\"text-align: right;\">\n",
              "      <th></th>\n",
              "      <th>VendorID</th>\n",
              "      <th>tpep_pickup_datetime</th>\n",
              "      <th>tpep_dropoff_datetime</th>\n",
              "      <th>passenger_count</th>\n",
              "      <th>trip_distance</th>\n",
              "      <th>pickup_longitude</th>\n",
              "      <th>pickup_latitude</th>\n",
              "      <th>dropoff_longitude</th>\n",
              "      <th>dropoff_latitude</th>\n",
              "      <th>payment_type</th>\n",
              "      <th>fare_amount</th>\n",
              "      <th>extra</th>\n",
              "      <th>mta_tax</th>\n",
              "      <th>tip_amount</th>\n",
              "      <th>tolls_amount</th>\n",
              "      <th>improvement_surcharge</th>\n",
              "      <th>total_amount</th>\n",
              "    </tr>\n",
              "  </thead>\n",
              "  <tbody>\n",
              "    <tr>\n",
              "      <th>0</th>\n",
              "      <td>2</td>\n",
              "      <td>2015-01-15 19:05:39</td>\n",
              "      <td>2015-01-15 19:23:42</td>\n",
              "      <td>1</td>\n",
              "      <td>1.59</td>\n",
              "      <td>-73.993896</td>\n",
              "      <td>40.750111</td>\n",
              "      <td>-73.974785</td>\n",
              "      <td>40.750618</td>\n",
              "      <td>1</td>\n",
              "      <td>12.0</td>\n",
              "      <td>1.0</td>\n",
              "      <td>0.5</td>\n",
              "      <td>3.25</td>\n",
              "      <td>0.0</td>\n",
              "      <td>0.3</td>\n",
              "      <td>17.05</td>\n",
              "    </tr>\n",
              "    <tr>\n",
              "      <th>1</th>\n",
              "      <td>1</td>\n",
              "      <td>2015-01-10 20:33:38</td>\n",
              "      <td>2015-01-10 20:53:28</td>\n",
              "      <td>1</td>\n",
              "      <td>3.30</td>\n",
              "      <td>-74.001648</td>\n",
              "      <td>40.724243</td>\n",
              "      <td>-73.994415</td>\n",
              "      <td>40.759109</td>\n",
              "      <td>1</td>\n",
              "      <td>14.5</td>\n",
              "      <td>0.5</td>\n",
              "      <td>0.5</td>\n",
              "      <td>2.00</td>\n",
              "      <td>0.0</td>\n",
              "      <td>0.3</td>\n",
              "      <td>17.80</td>\n",
              "    </tr>\n",
              "    <tr>\n",
              "      <th>2</th>\n",
              "      <td>1</td>\n",
              "      <td>2015-01-10 20:33:38</td>\n",
              "      <td>2015-01-10 20:43:41</td>\n",
              "      <td>1</td>\n",
              "      <td>1.80</td>\n",
              "      <td>-73.963341</td>\n",
              "      <td>40.802788</td>\n",
              "      <td>-73.951820</td>\n",
              "      <td>40.824413</td>\n",
              "      <td>2</td>\n",
              "      <td>9.5</td>\n",
              "      <td>0.5</td>\n",
              "      <td>0.5</td>\n",
              "      <td>0.00</td>\n",
              "      <td>0.0</td>\n",
              "      <td>0.3</td>\n",
              "      <td>10.80</td>\n",
              "    </tr>\n",
              "    <tr>\n",
              "      <th>3</th>\n",
              "      <td>1</td>\n",
              "      <td>2015-01-10 20:33:39</td>\n",
              "      <td>2015-01-10 20:35:31</td>\n",
              "      <td>1</td>\n",
              "      <td>0.50</td>\n",
              "      <td>-74.009087</td>\n",
              "      <td>40.713818</td>\n",
              "      <td>-74.004326</td>\n",
              "      <td>40.719986</td>\n",
              "      <td>2</td>\n",
              "      <td>3.5</td>\n",
              "      <td>0.5</td>\n",
              "      <td>0.5</td>\n",
              "      <td>0.00</td>\n",
              "      <td>0.0</td>\n",
              "      <td>0.3</td>\n",
              "      <td>4.80</td>\n",
              "    </tr>\n",
              "    <tr>\n",
              "      <th>4</th>\n",
              "      <td>1</td>\n",
              "      <td>2015-01-10 20:33:39</td>\n",
              "      <td>2015-01-10 20:52:58</td>\n",
              "      <td>1</td>\n",
              "      <td>3.00</td>\n",
              "      <td>-73.971176</td>\n",
              "      <td>40.762428</td>\n",
              "      <td>-74.004181</td>\n",
              "      <td>40.742653</td>\n",
              "      <td>2</td>\n",
              "      <td>15.0</td>\n",
              "      <td>0.5</td>\n",
              "      <td>0.5</td>\n",
              "      <td>0.00</td>\n",
              "      <td>0.0</td>\n",
              "      <td>0.3</td>\n",
              "      <td>16.30</td>\n",
              "    </tr>\n",
              "    <tr>\n",
              "      <th>...</th>\n",
              "      <td>...</td>\n",
              "      <td>...</td>\n",
              "      <td>...</td>\n",
              "      <td>...</td>\n",
              "      <td>...</td>\n",
              "      <td>...</td>\n",
              "      <td>...</td>\n",
              "      <td>...</td>\n",
              "      <td>...</td>\n",
              "      <td>...</td>\n",
              "      <td>...</td>\n",
              "      <td>...</td>\n",
              "      <td>...</td>\n",
              "      <td>...</td>\n",
              "      <td>...</td>\n",
              "      <td>...</td>\n",
              "      <td>...</td>\n",
              "    </tr>\n",
              "    <tr>\n",
              "      <th>99994</th>\n",
              "      <td>2</td>\n",
              "      <td>2015-01-21 18:16:49</td>\n",
              "      <td>2015-01-21 18:28:49</td>\n",
              "      <td>1</td>\n",
              "      <td>1.39</td>\n",
              "      <td>-73.984734</td>\n",
              "      <td>40.768284</td>\n",
              "      <td>-73.985710</td>\n",
              "      <td>40.758141</td>\n",
              "      <td>2</td>\n",
              "      <td>8.0</td>\n",
              "      <td>1.0</td>\n",
              "      <td>0.5</td>\n",
              "      <td>0.00</td>\n",
              "      <td>0.0</td>\n",
              "      <td>0.3</td>\n",
              "      <td>9.80</td>\n",
              "    </tr>\n",
              "    <tr>\n",
              "      <th>99995</th>\n",
              "      <td>2</td>\n",
              "      <td>2015-01-21 18:16:49</td>\n",
              "      <td>2015-01-21 18:21:27</td>\n",
              "      <td>5</td>\n",
              "      <td>0.77</td>\n",
              "      <td>-73.986488</td>\n",
              "      <td>40.740021</td>\n",
              "      <td>-73.988098</td>\n",
              "      <td>40.732056</td>\n",
              "      <td>1</td>\n",
              "      <td>5.5</td>\n",
              "      <td>1.0</td>\n",
              "      <td>0.5</td>\n",
              "      <td>1.46</td>\n",
              "      <td>0.0</td>\n",
              "      <td>0.3</td>\n",
              "      <td>8.76</td>\n",
              "    </tr>\n",
              "    <tr>\n",
              "      <th>99996</th>\n",
              "      <td>2</td>\n",
              "      <td>2015-01-21 18:16:49</td>\n",
              "      <td>2015-01-21 19:11:10</td>\n",
              "      <td>1</td>\n",
              "      <td>18.49</td>\n",
              "      <td>-74.003777</td>\n",
              "      <td>40.731682</td>\n",
              "      <td>-73.783485</td>\n",
              "      <td>40.643738</td>\n",
              "      <td>1</td>\n",
              "      <td>52.0</td>\n",
              "      <td>0.0</td>\n",
              "      <td>0.5</td>\n",
              "      <td>5.00</td>\n",
              "      <td>0.0</td>\n",
              "      <td>0.3</td>\n",
              "      <td>57.80</td>\n",
              "    </tr>\n",
              "    <tr>\n",
              "      <th>99997</th>\n",
              "      <td>2</td>\n",
              "      <td>2015-01-21 18:16:49</td>\n",
              "      <td>2015-01-21 18:26:51</td>\n",
              "      <td>3</td>\n",
              "      <td>1.37</td>\n",
              "      <td>-74.007477</td>\n",
              "      <td>40.708118</td>\n",
              "      <td>-74.009270</td>\n",
              "      <td>40.718620</td>\n",
              "      <td>1</td>\n",
              "      <td>8.0</td>\n",
              "      <td>1.0</td>\n",
              "      <td>0.5</td>\n",
              "      <td>0.50</td>\n",
              "      <td>0.0</td>\n",
              "      <td>0.3</td>\n",
              "      <td>10.30</td>\n",
              "    </tr>\n",
              "    <tr>\n",
              "      <th>99998</th>\n",
              "      <td>2</td>\n",
              "      <td>2015-01-21 18:16:50</td>\n",
              "      <td>2015-01-21 19:28:34</td>\n",
              "      <td>5</td>\n",
              "      <td>18.76</td>\n",
              "      <td>-73.866737</td>\n",
              "      <td>40.770859</td>\n",
              "      <td>-73.977158</td>\n",
              "      <td>40.596611</td>\n",
              "      <td>2</td>\n",
              "      <td>58.5</td>\n",
              "      <td>1.0</td>\n",
              "      <td>0.5</td>\n",
              "      <td>0.00</td>\n",
              "      <td>0.0</td>\n",
              "      <td>0.3</td>\n",
              "      <td>60.30</td>\n",
              "    </tr>\n",
              "  </tbody>\n",
              "</table>\n",
              "<p>99362 rows × 17 columns</p>\n",
              "</div>"
            ],
            "text/plain": [
              "       VendorID tpep_pickup_datetime  ... improvement_surcharge  total_amount\n",
              "0             2  2015-01-15 19:05:39  ...                   0.3         17.05\n",
              "1             1  2015-01-10 20:33:38  ...                   0.3         17.80\n",
              "2             1  2015-01-10 20:33:38  ...                   0.3         10.80\n",
              "3             1  2015-01-10 20:33:39  ...                   0.3          4.80\n",
              "4             1  2015-01-10 20:33:39  ...                   0.3         16.30\n",
              "...         ...                  ...  ...                   ...           ...\n",
              "99994         2  2015-01-21 18:16:49  ...                   0.3          9.80\n",
              "99995         2  2015-01-21 18:16:49  ...                   0.3          8.76\n",
              "99996         2  2015-01-21 18:16:49  ...                   0.3         57.80\n",
              "99997         2  2015-01-21 18:16:49  ...                   0.3         10.30\n",
              "99998         2  2015-01-21 18:16:50  ...                   0.3         60.30\n",
              "\n",
              "[99362 rows x 17 columns]"
            ]
          },
          "metadata": {
            "tags": []
          },
          "execution_count": 15
        }
      ]
    },
    {
      "cell_type": "markdown",
      "metadata": {
        "id": "yt3NEDwcDnrN",
        "colab_type": "text"
      },
      "source": [
        "### **3.Checking if passenger_count is less than 0**"
      ]
    },
    {
      "cell_type": "code",
      "metadata": {
        "id": "XqaLatyhBOc9",
        "colab_type": "code",
        "outputId": "a05e3076-da28-4399-ea0b-ff582bd287c3",
        "colab": {
          "base_uri": "https://localhost:8080/",
          "height": 170
        }
      },
      "source": [
        "df.passenger_count.describe()"
      ],
      "execution_count": 0,
      "outputs": [
        {
          "output_type": "execute_result",
          "data": {
            "text/plain": [
              "count    99362.000000\n",
              "mean         1.670357\n",
              "std          1.325479\n",
              "min          0.000000\n",
              "25%          1.000000\n",
              "50%          1.000000\n",
              "75%          2.000000\n",
              "max          6.000000\n",
              "Name: passenger_count, dtype: float64"
            ]
          },
          "metadata": {
            "tags": []
          },
          "execution_count": 16
        }
      ]
    },
    {
      "cell_type": "code",
      "metadata": {
        "id": "iSNiKtyPEGnV",
        "colab_type": "code",
        "outputId": "984abcf5-f27a-4734-c2bc-e6116102a2c3",
        "colab": {
          "base_uri": "https://localhost:8080/",
          "height": 170
        }
      },
      "source": [
        "df=df[df.passenger_count >= 1]\n",
        "df.passenger_count.describe()"
      ],
      "execution_count": 0,
      "outputs": [
        {
          "output_type": "execute_result",
          "data": {
            "text/plain": [
              "count    99298.000000\n",
              "mean         1.671433\n",
              "std          1.325228\n",
              "min          1.000000\n",
              "25%          1.000000\n",
              "50%          1.000000\n",
              "75%          2.000000\n",
              "max          6.000000\n",
              "Name: passenger_count, dtype: float64"
            ]
          },
          "metadata": {
            "tags": []
          },
          "execution_count": 17
        }
      ]
    },
    {
      "cell_type": "markdown",
      "metadata": {
        "id": "pGzg3oVKEI6Y",
        "colab_type": "text"
      },
      "source": [
        "#### **OBSERVATION:**\n",
        "A trip cannot happen without passenger, therefore, removing rows with passenger_count < 1"
      ]
    },
    {
      "cell_type": "markdown",
      "metadata": {
        "id": "h3ANHIDRFnYH",
        "colab_type": "text"
      },
      "source": [
        "### **4. Checking if Trip distance is less than 0.1 miles.**"
      ]
    },
    {
      "cell_type": "code",
      "metadata": {
        "id": "H8NWDLRHFdiF",
        "colab_type": "code",
        "outputId": "5f070df9-5a99-4380-d4a7-c16f50c61ef5",
        "colab": {
          "base_uri": "https://localhost:8080/",
          "height": 170
        }
      },
      "source": [
        "df.trip_distance.describe()"
      ],
      "execution_count": 0,
      "outputs": [
        {
          "output_type": "execute_result",
          "data": {
            "text/plain": [
              "count    99298.000000\n",
              "mean         2.784192\n",
              "std          3.442618\n",
              "min          0.010000\n",
              "25%          1.000000\n",
              "50%          1.670000\n",
              "75%          3.000000\n",
              "max        181.400000\n",
              "Name: trip_distance, dtype: float64"
            ]
          },
          "metadata": {
            "tags": []
          },
          "execution_count": 18
        }
      ]
    },
    {
      "cell_type": "code",
      "metadata": {
        "id": "y4tadzkMFlGo",
        "colab_type": "code",
        "outputId": "89d20f91-e8ba-4d35-c337-278eed88f9fd",
        "colab": {
          "base_uri": "https://localhost:8080/",
          "height": 439
        }
      },
      "source": [
        "df[df.trip_distance==0.1]"
      ],
      "execution_count": 0,
      "outputs": [
        {
          "output_type": "execute_result",
          "data": {
            "text/html": [
              "<div>\n",
              "<style scoped>\n",
              "    .dataframe tbody tr th:only-of-type {\n",
              "        vertical-align: middle;\n",
              "    }\n",
              "\n",
              "    .dataframe tbody tr th {\n",
              "        vertical-align: top;\n",
              "    }\n",
              "\n",
              "    .dataframe thead th {\n",
              "        text-align: right;\n",
              "    }\n",
              "</style>\n",
              "<table border=\"1\" class=\"dataframe\">\n",
              "  <thead>\n",
              "    <tr style=\"text-align: right;\">\n",
              "      <th></th>\n",
              "      <th>VendorID</th>\n",
              "      <th>tpep_pickup_datetime</th>\n",
              "      <th>tpep_dropoff_datetime</th>\n",
              "      <th>passenger_count</th>\n",
              "      <th>trip_distance</th>\n",
              "      <th>pickup_longitude</th>\n",
              "      <th>pickup_latitude</th>\n",
              "      <th>dropoff_longitude</th>\n",
              "      <th>dropoff_latitude</th>\n",
              "      <th>payment_type</th>\n",
              "      <th>fare_amount</th>\n",
              "      <th>extra</th>\n",
              "      <th>mta_tax</th>\n",
              "      <th>tip_amount</th>\n",
              "      <th>tolls_amount</th>\n",
              "      <th>improvement_surcharge</th>\n",
              "      <th>total_amount</th>\n",
              "    </tr>\n",
              "  </thead>\n",
              "  <tbody>\n",
              "    <tr>\n",
              "      <th>3120</th>\n",
              "      <td>1</td>\n",
              "      <td>2015-01-27 13:24:47</td>\n",
              "      <td>2015-01-27 13:32:08</td>\n",
              "      <td>1</td>\n",
              "      <td>0.1</td>\n",
              "      <td>-74.014267</td>\n",
              "      <td>40.717041</td>\n",
              "      <td>-73.997162</td>\n",
              "      <td>40.719738</td>\n",
              "      <td>1</td>\n",
              "      <td>7.5</td>\n",
              "      <td>0.0</td>\n",
              "      <td>0.5</td>\n",
              "      <td>1.65</td>\n",
              "      <td>0.0</td>\n",
              "      <td>0.3</td>\n",
              "      <td>9.95</td>\n",
              "    </tr>\n",
              "    <tr>\n",
              "      <th>4481</th>\n",
              "      <td>1</td>\n",
              "      <td>2015-01-21 09:42:41</td>\n",
              "      <td>2015-01-21 09:43:54</td>\n",
              "      <td>1</td>\n",
              "      <td>0.1</td>\n",
              "      <td>-73.966286</td>\n",
              "      <td>40.770561</td>\n",
              "      <td>-73.965172</td>\n",
              "      <td>40.772530</td>\n",
              "      <td>1</td>\n",
              "      <td>3.0</td>\n",
              "      <td>0.0</td>\n",
              "      <td>0.5</td>\n",
              "      <td>0.75</td>\n",
              "      <td>0.0</td>\n",
              "      <td>0.3</td>\n",
              "      <td>4.55</td>\n",
              "    </tr>\n",
              "    <tr>\n",
              "      <th>5900</th>\n",
              "      <td>1</td>\n",
              "      <td>2015-01-28 07:39:00</td>\n",
              "      <td>2015-01-28 07:41:15</td>\n",
              "      <td>1</td>\n",
              "      <td>0.1</td>\n",
              "      <td>-73.957863</td>\n",
              "      <td>40.776451</td>\n",
              "      <td>-73.959213</td>\n",
              "      <td>40.774540</td>\n",
              "      <td>1</td>\n",
              "      <td>3.5</td>\n",
              "      <td>0.0</td>\n",
              "      <td>0.5</td>\n",
              "      <td>1.25</td>\n",
              "      <td>0.0</td>\n",
              "      <td>0.3</td>\n",
              "      <td>5.55</td>\n",
              "    </tr>\n",
              "    <tr>\n",
              "      <th>6545</th>\n",
              "      <td>1</td>\n",
              "      <td>2015-01-04 15:14:15</td>\n",
              "      <td>2015-01-04 15:16:10</td>\n",
              "      <td>1</td>\n",
              "      <td>0.1</td>\n",
              "      <td>-73.673126</td>\n",
              "      <td>40.982090</td>\n",
              "      <td>-73.671165</td>\n",
              "      <td>40.983475</td>\n",
              "      <td>1</td>\n",
              "      <td>143.0</td>\n",
              "      <td>0.0</td>\n",
              "      <td>0.0</td>\n",
              "      <td>37.55</td>\n",
              "      <td>7.0</td>\n",
              "      <td>0.0</td>\n",
              "      <td>187.85</td>\n",
              "    </tr>\n",
              "    <tr>\n",
              "      <th>7491</th>\n",
              "      <td>2</td>\n",
              "      <td>2015-01-01 07:52:52</td>\n",
              "      <td>2015-01-01 07:53:10</td>\n",
              "      <td>1</td>\n",
              "      <td>0.1</td>\n",
              "      <td>-73.987869</td>\n",
              "      <td>40.734531</td>\n",
              "      <td>-73.989532</td>\n",
              "      <td>40.735870</td>\n",
              "      <td>2</td>\n",
              "      <td>2.5</td>\n",
              "      <td>0.0</td>\n",
              "      <td>0.5</td>\n",
              "      <td>0.00</td>\n",
              "      <td>0.0</td>\n",
              "      <td>0.3</td>\n",
              "      <td>3.30</td>\n",
              "    </tr>\n",
              "    <tr>\n",
              "      <th>...</th>\n",
              "      <td>...</td>\n",
              "      <td>...</td>\n",
              "      <td>...</td>\n",
              "      <td>...</td>\n",
              "      <td>...</td>\n",
              "      <td>...</td>\n",
              "      <td>...</td>\n",
              "      <td>...</td>\n",
              "      <td>...</td>\n",
              "      <td>...</td>\n",
              "      <td>...</td>\n",
              "      <td>...</td>\n",
              "      <td>...</td>\n",
              "      <td>...</td>\n",
              "      <td>...</td>\n",
              "      <td>...</td>\n",
              "      <td>...</td>\n",
              "    </tr>\n",
              "    <tr>\n",
              "      <th>97371</th>\n",
              "      <td>1</td>\n",
              "      <td>2015-01-19 19:00:43</td>\n",
              "      <td>2015-01-19 19:01:01</td>\n",
              "      <td>1</td>\n",
              "      <td>0.1</td>\n",
              "      <td>-73.975784</td>\n",
              "      <td>40.746433</td>\n",
              "      <td>-73.974205</td>\n",
              "      <td>40.745972</td>\n",
              "      <td>4</td>\n",
              "      <td>2.5</td>\n",
              "      <td>0.0</td>\n",
              "      <td>0.5</td>\n",
              "      <td>0.00</td>\n",
              "      <td>0.0</td>\n",
              "      <td>0.3</td>\n",
              "      <td>3.30</td>\n",
              "    </tr>\n",
              "    <tr>\n",
              "      <th>97713</th>\n",
              "      <td>1</td>\n",
              "      <td>2015-01-23 12:33:45</td>\n",
              "      <td>2015-01-23 12:36:10</td>\n",
              "      <td>1</td>\n",
              "      <td>0.1</td>\n",
              "      <td>-73.959389</td>\n",
              "      <td>40.778046</td>\n",
              "      <td>-73.956696</td>\n",
              "      <td>40.778179</td>\n",
              "      <td>1</td>\n",
              "      <td>3.5</td>\n",
              "      <td>0.0</td>\n",
              "      <td>0.5</td>\n",
              "      <td>0.70</td>\n",
              "      <td>0.0</td>\n",
              "      <td>0.3</td>\n",
              "      <td>5.00</td>\n",
              "    </tr>\n",
              "    <tr>\n",
              "      <th>98481</th>\n",
              "      <td>1</td>\n",
              "      <td>2015-01-18 00:06:48</td>\n",
              "      <td>2015-01-18 00:08:03</td>\n",
              "      <td>1</td>\n",
              "      <td>0.1</td>\n",
              "      <td>-74.001205</td>\n",
              "      <td>40.746521</td>\n",
              "      <td>-74.003914</td>\n",
              "      <td>40.747719</td>\n",
              "      <td>1</td>\n",
              "      <td>3.0</td>\n",
              "      <td>0.5</td>\n",
              "      <td>0.5</td>\n",
              "      <td>1.00</td>\n",
              "      <td>0.0</td>\n",
              "      <td>0.3</td>\n",
              "      <td>5.30</td>\n",
              "    </tr>\n",
              "    <tr>\n",
              "      <th>98838</th>\n",
              "      <td>1</td>\n",
              "      <td>2015-01-26 08:32:09</td>\n",
              "      <td>2015-01-26 08:33:36</td>\n",
              "      <td>1</td>\n",
              "      <td>0.1</td>\n",
              "      <td>-73.985336</td>\n",
              "      <td>40.744652</td>\n",
              "      <td>-73.984344</td>\n",
              "      <td>40.745949</td>\n",
              "      <td>2</td>\n",
              "      <td>3.0</td>\n",
              "      <td>0.0</td>\n",
              "      <td>0.5</td>\n",
              "      <td>0.00</td>\n",
              "      <td>0.0</td>\n",
              "      <td>0.3</td>\n",
              "      <td>3.80</td>\n",
              "    </tr>\n",
              "    <tr>\n",
              "      <th>99962</th>\n",
              "      <td>1</td>\n",
              "      <td>2015-01-19 23:47:02</td>\n",
              "      <td>2015-01-19 23:47:17</td>\n",
              "      <td>1</td>\n",
              "      <td>0.1</td>\n",
              "      <td>-73.981819</td>\n",
              "      <td>40.766861</td>\n",
              "      <td>-73.981781</td>\n",
              "      <td>40.766006</td>\n",
              "      <td>2</td>\n",
              "      <td>2.5</td>\n",
              "      <td>0.5</td>\n",
              "      <td>0.5</td>\n",
              "      <td>0.00</td>\n",
              "      <td>0.0</td>\n",
              "      <td>0.3</td>\n",
              "      <td>3.80</td>\n",
              "    </tr>\n",
              "  </tbody>\n",
              "</table>\n",
              "<p>101 rows × 17 columns</p>\n",
              "</div>"
            ],
            "text/plain": [
              "       VendorID tpep_pickup_datetime  ... improvement_surcharge  total_amount\n",
              "3120          1  2015-01-27 13:24:47  ...                   0.3          9.95\n",
              "4481          1  2015-01-21 09:42:41  ...                   0.3          4.55\n",
              "5900          1  2015-01-28 07:39:00  ...                   0.3          5.55\n",
              "6545          1  2015-01-04 15:14:15  ...                   0.0        187.85\n",
              "7491          2  2015-01-01 07:52:52  ...                   0.3          3.30\n",
              "...         ...                  ...  ...                   ...           ...\n",
              "97371         1  2015-01-19 19:00:43  ...                   0.3          3.30\n",
              "97713         1  2015-01-23 12:33:45  ...                   0.3          5.00\n",
              "98481         1  2015-01-18 00:06:48  ...                   0.3          5.30\n",
              "98838         1  2015-01-26 08:32:09  ...                   0.3          3.80\n",
              "99962         1  2015-01-19 23:47:02  ...                   0.3          3.80\n",
              "\n",
              "[101 rows x 17 columns]"
            ]
          },
          "metadata": {
            "tags": []
          },
          "execution_count": 19
        }
      ]
    },
    {
      "cell_type": "code",
      "metadata": {
        "id": "GA6Ob3TLF5l9",
        "colab_type": "code",
        "outputId": "889ae58e-9b49-4349-830b-57ca4f369a50",
        "colab": {
          "base_uri": "https://localhost:8080/",
          "height": 170
        }
      },
      "source": [
        "df=df[df.trip_distance >= 0.1]\n",
        "df.trip_distance.describe()"
      ],
      "execution_count": 0,
      "outputs": [
        {
          "output_type": "execute_result",
          "data": {
            "text/plain": [
              "count    99188.000000\n",
              "mean         2.787236\n",
              "std          3.443312\n",
              "min          0.100000\n",
              "25%          1.000000\n",
              "50%          1.670000\n",
              "75%          3.000000\n",
              "max        181.400000\n",
              "Name: trip_distance, dtype: float64"
            ]
          },
          "metadata": {
            "tags": []
          },
          "execution_count": 20
        }
      ]
    },
    {
      "cell_type": "markdown",
      "metadata": {
        "id": "qF7epCxHKCLB",
        "colab_type": "text"
      },
      "source": [
        "**OBSERVATION:**\n",
        "Trip distance cannot be less than 0.1 miles ( 0.1 miles as considering a passenger might hops in to a taxi but hops off due to traffic). Thus removing all such rows "
      ]
    },
    {
      "cell_type": "markdown",
      "metadata": {
        "id": "lVjw7mPBKspP",
        "colab_type": "text"
      },
      "source": [
        "### **5.Checking if Payment type is invalid.**"
      ]
    },
    {
      "cell_type": "code",
      "metadata": {
        "id": "pc1zAD5KKYRy",
        "colab_type": "code",
        "outputId": "66accc1f-8494-4038-fd5c-878e90c1d81b",
        "colab": {
          "base_uri": "https://localhost:8080/",
          "height": 170
        }
      },
      "source": [
        "df.payment_type.describe()"
      ],
      "execution_count": 0,
      "outputs": [
        {
          "output_type": "execute_result",
          "data": {
            "text/plain": [
              "count    99188.000000\n",
              "mean         1.384059\n",
              "std          0.495289\n",
              "min          1.000000\n",
              "25%          1.000000\n",
              "50%          1.000000\n",
              "75%          2.000000\n",
              "max          4.000000\n",
              "Name: payment_type, dtype: float64"
            ]
          },
          "metadata": {
            "tags": []
          },
          "execution_count": 21
        }
      ]
    },
    {
      "cell_type": "markdown",
      "metadata": {
        "id": "R8Z9sFBpKnTb",
        "colab_type": "text"
      },
      "source": [
        "**Description:**\n",
        "\n",
        "Payment types: \n",
        "\n",
        "A numeric code signifying how the passenger paid for the trip.\n",
        "\n",
        "1= Credit card\n",
        "\n",
        "2= Cash\n",
        "\n",
        "3= No charge\n",
        "\n",
        "4= Dispute"
      ]
    },
    {
      "cell_type": "code",
      "metadata": {
        "id": "iCeSqFa9QIwg",
        "colab_type": "code",
        "colab": {}
      },
      "source": [
        ""
      ],
      "execution_count": 0,
      "outputs": []
    },
    {
      "cell_type": "markdown",
      "metadata": {
        "id": "vam2_kyTLIpx",
        "colab_type": "text"
      },
      "source": [
        "### **6. Checking if Latitute and Longtitude fall within NYC** "
      ]
    },
    {
      "cell_type": "markdown",
      "metadata": {
        "id": "Lwhud3vDQFFX",
        "colab_type": "text"
      },
      "source": [
        "### **PICKUP:**\n",
        "\n"
      ]
    },
    {
      "cell_type": "code",
      "metadata": {
        "id": "7U5WFtGEL0kB",
        "colab_type": "code",
        "outputId": "5c0e94b5-729e-4d09-809e-59fd1ba01ef2",
        "colab": {
          "base_uri": "https://localhost:8080/",
          "height": 439
        }
      },
      "source": [
        "#detecting the pickups latitude and longitudes which are outside NYC.\n",
        "out_nyc=df[((df.pickup_latitude <= 40.5774) | (df.pickup_longitude <= -74.15) | (df.pickup_latitude >= 40.9176) | (df.pickup_longitude >= -73.7004))]\n",
        "out_nyc"
      ],
      "execution_count": 0,
      "outputs": [
        {
          "output_type": "execute_result",
          "data": {
            "text/html": [
              "<div>\n",
              "<style scoped>\n",
              "    .dataframe tbody tr th:only-of-type {\n",
              "        vertical-align: middle;\n",
              "    }\n",
              "\n",
              "    .dataframe tbody tr th {\n",
              "        vertical-align: top;\n",
              "    }\n",
              "\n",
              "    .dataframe thead th {\n",
              "        text-align: right;\n",
              "    }\n",
              "</style>\n",
              "<table border=\"1\" class=\"dataframe\">\n",
              "  <thead>\n",
              "    <tr style=\"text-align: right;\">\n",
              "      <th></th>\n",
              "      <th>VendorID</th>\n",
              "      <th>tpep_pickup_datetime</th>\n",
              "      <th>tpep_dropoff_datetime</th>\n",
              "      <th>passenger_count</th>\n",
              "      <th>trip_distance</th>\n",
              "      <th>pickup_longitude</th>\n",
              "      <th>pickup_latitude</th>\n",
              "      <th>dropoff_longitude</th>\n",
              "      <th>dropoff_latitude</th>\n",
              "      <th>payment_type</th>\n",
              "      <th>fare_amount</th>\n",
              "      <th>extra</th>\n",
              "      <th>mta_tax</th>\n",
              "      <th>tip_amount</th>\n",
              "      <th>tolls_amount</th>\n",
              "      <th>improvement_surcharge</th>\n",
              "      <th>total_amount</th>\n",
              "    </tr>\n",
              "  </thead>\n",
              "  <tbody>\n",
              "    <tr>\n",
              "      <th>61</th>\n",
              "      <td>1</td>\n",
              "      <td>2015-01-04 13:44:52</td>\n",
              "      <td>2015-01-04 13:56:49</td>\n",
              "      <td>1</td>\n",
              "      <td>2.50</td>\n",
              "      <td>0.0</td>\n",
              "      <td>0.0</td>\n",
              "      <td>0.000000</td>\n",
              "      <td>0.000000</td>\n",
              "      <td>1</td>\n",
              "      <td>11.0</td>\n",
              "      <td>0.0</td>\n",
              "      <td>0.5</td>\n",
              "      <td>2.35</td>\n",
              "      <td>0.00</td>\n",
              "      <td>0.0</td>\n",
              "      <td>14.15</td>\n",
              "    </tr>\n",
              "    <tr>\n",
              "      <th>66</th>\n",
              "      <td>2</td>\n",
              "      <td>2015-01-04 13:44:52</td>\n",
              "      <td>2015-01-04 13:49:03</td>\n",
              "      <td>1</td>\n",
              "      <td>0.85</td>\n",
              "      <td>0.0</td>\n",
              "      <td>0.0</td>\n",
              "      <td>0.000000</td>\n",
              "      <td>0.000000</td>\n",
              "      <td>2</td>\n",
              "      <td>5.5</td>\n",
              "      <td>0.0</td>\n",
              "      <td>0.5</td>\n",
              "      <td>0.00</td>\n",
              "      <td>0.00</td>\n",
              "      <td>0.3</td>\n",
              "      <td>6.30</td>\n",
              "    </tr>\n",
              "    <tr>\n",
              "      <th>157</th>\n",
              "      <td>1</td>\n",
              "      <td>2015-01-15 09:47:00</td>\n",
              "      <td>2015-01-15 10:00:07</td>\n",
              "      <td>1</td>\n",
              "      <td>1.00</td>\n",
              "      <td>0.0</td>\n",
              "      <td>0.0</td>\n",
              "      <td>0.000000</td>\n",
              "      <td>0.000000</td>\n",
              "      <td>2</td>\n",
              "      <td>10.0</td>\n",
              "      <td>0.0</td>\n",
              "      <td>0.5</td>\n",
              "      <td>0.00</td>\n",
              "      <td>0.00</td>\n",
              "      <td>0.3</td>\n",
              "      <td>10.80</td>\n",
              "    </tr>\n",
              "    <tr>\n",
              "      <th>159</th>\n",
              "      <td>1</td>\n",
              "      <td>2015-01-15 09:47:02</td>\n",
              "      <td>2015-01-15 10:17:47</td>\n",
              "      <td>3</td>\n",
              "      <td>8.30</td>\n",
              "      <td>0.0</td>\n",
              "      <td>0.0</td>\n",
              "      <td>0.000000</td>\n",
              "      <td>0.000000</td>\n",
              "      <td>1</td>\n",
              "      <td>27.5</td>\n",
              "      <td>0.0</td>\n",
              "      <td>0.5</td>\n",
              "      <td>10.00</td>\n",
              "      <td>5.33</td>\n",
              "      <td>0.3</td>\n",
              "      <td>43.63</td>\n",
              "    </tr>\n",
              "    <tr>\n",
              "      <th>175</th>\n",
              "      <td>1</td>\n",
              "      <td>2015-01-15 09:47:07</td>\n",
              "      <td>2015-01-15 09:54:05</td>\n",
              "      <td>1</td>\n",
              "      <td>1.00</td>\n",
              "      <td>0.0</td>\n",
              "      <td>0.0</td>\n",
              "      <td>-73.998810</td>\n",
              "      <td>40.741428</td>\n",
              "      <td>2</td>\n",
              "      <td>6.0</td>\n",
              "      <td>0.0</td>\n",
              "      <td>0.5</td>\n",
              "      <td>0.00</td>\n",
              "      <td>0.00</td>\n",
              "      <td>0.3</td>\n",
              "      <td>6.80</td>\n",
              "    </tr>\n",
              "    <tr>\n",
              "      <th>...</th>\n",
              "      <td>...</td>\n",
              "      <td>...</td>\n",
              "      <td>...</td>\n",
              "      <td>...</td>\n",
              "      <td>...</td>\n",
              "      <td>...</td>\n",
              "      <td>...</td>\n",
              "      <td>...</td>\n",
              "      <td>...</td>\n",
              "      <td>...</td>\n",
              "      <td>...</td>\n",
              "      <td>...</td>\n",
              "      <td>...</td>\n",
              "      <td>...</td>\n",
              "      <td>...</td>\n",
              "      <td>...</td>\n",
              "      <td>...</td>\n",
              "    </tr>\n",
              "    <tr>\n",
              "      <th>99345</th>\n",
              "      <td>1</td>\n",
              "      <td>2015-01-25 14:16:15</td>\n",
              "      <td>2015-01-25 14:26:51</td>\n",
              "      <td>2</td>\n",
              "      <td>1.30</td>\n",
              "      <td>0.0</td>\n",
              "      <td>0.0</td>\n",
              "      <td>-73.985306</td>\n",
              "      <td>40.724403</td>\n",
              "      <td>1</td>\n",
              "      <td>8.5</td>\n",
              "      <td>0.0</td>\n",
              "      <td>0.5</td>\n",
              "      <td>1.85</td>\n",
              "      <td>0.00</td>\n",
              "      <td>0.3</td>\n",
              "      <td>11.15</td>\n",
              "    </tr>\n",
              "    <tr>\n",
              "      <th>99378</th>\n",
              "      <td>1</td>\n",
              "      <td>2015-01-25 12:53:49</td>\n",
              "      <td>2015-01-25 13:00:47</td>\n",
              "      <td>2</td>\n",
              "      <td>1.20</td>\n",
              "      <td>0.0</td>\n",
              "      <td>0.0</td>\n",
              "      <td>0.000000</td>\n",
              "      <td>0.000000</td>\n",
              "      <td>1</td>\n",
              "      <td>7.0</td>\n",
              "      <td>0.0</td>\n",
              "      <td>0.5</td>\n",
              "      <td>0.00</td>\n",
              "      <td>0.00</td>\n",
              "      <td>0.3</td>\n",
              "      <td>7.80</td>\n",
              "    </tr>\n",
              "    <tr>\n",
              "      <th>99463</th>\n",
              "      <td>1</td>\n",
              "      <td>2015-01-19 23:07:55</td>\n",
              "      <td>2015-01-19 23:21:28</td>\n",
              "      <td>1</td>\n",
              "      <td>7.60</td>\n",
              "      <td>0.0</td>\n",
              "      <td>0.0</td>\n",
              "      <td>0.000000</td>\n",
              "      <td>0.000000</td>\n",
              "      <td>2</td>\n",
              "      <td>22.5</td>\n",
              "      <td>0.5</td>\n",
              "      <td>0.5</td>\n",
              "      <td>0.00</td>\n",
              "      <td>0.00</td>\n",
              "      <td>0.3</td>\n",
              "      <td>23.80</td>\n",
              "    </tr>\n",
              "    <tr>\n",
              "      <th>99851</th>\n",
              "      <td>1</td>\n",
              "      <td>2015-01-23 19:26:18</td>\n",
              "      <td>2015-01-23 19:49:25</td>\n",
              "      <td>1</td>\n",
              "      <td>3.40</td>\n",
              "      <td>0.0</td>\n",
              "      <td>0.0</td>\n",
              "      <td>0.000000</td>\n",
              "      <td>0.000000</td>\n",
              "      <td>1</td>\n",
              "      <td>16.0</td>\n",
              "      <td>1.0</td>\n",
              "      <td>0.5</td>\n",
              "      <td>5.34</td>\n",
              "      <td>0.00</td>\n",
              "      <td>0.3</td>\n",
              "      <td>23.14</td>\n",
              "    </tr>\n",
              "    <tr>\n",
              "      <th>99888</th>\n",
              "      <td>1</td>\n",
              "      <td>2015-01-07 22:48:40</td>\n",
              "      <td>2015-01-07 22:55:57</td>\n",
              "      <td>2</td>\n",
              "      <td>1.10</td>\n",
              "      <td>0.0</td>\n",
              "      <td>0.0</td>\n",
              "      <td>0.000000</td>\n",
              "      <td>0.000000</td>\n",
              "      <td>1</td>\n",
              "      <td>7.0</td>\n",
              "      <td>0.5</td>\n",
              "      <td>0.5</td>\n",
              "      <td>1.65</td>\n",
              "      <td>0.00</td>\n",
              "      <td>0.3</td>\n",
              "      <td>9.95</td>\n",
              "    </tr>\n",
              "  </tbody>\n",
              "</table>\n",
              "<p>1766 rows × 17 columns</p>\n",
              "</div>"
            ],
            "text/plain": [
              "       VendorID tpep_pickup_datetime  ... improvement_surcharge  total_amount\n",
              "61            1  2015-01-04 13:44:52  ...                   0.0         14.15\n",
              "66            2  2015-01-04 13:44:52  ...                   0.3          6.30\n",
              "157           1  2015-01-15 09:47:00  ...                   0.3         10.80\n",
              "159           1  2015-01-15 09:47:02  ...                   0.3         43.63\n",
              "175           1  2015-01-15 09:47:07  ...                   0.3          6.80\n",
              "...         ...                  ...  ...                   ...           ...\n",
              "99345         1  2015-01-25 14:16:15  ...                   0.3         11.15\n",
              "99378         1  2015-01-25 12:53:49  ...                   0.3          7.80\n",
              "99463         1  2015-01-19 23:07:55  ...                   0.3         23.80\n",
              "99851         1  2015-01-23 19:26:18  ...                   0.3         23.14\n",
              "99888         1  2015-01-07 22:48:40  ...                   0.3          9.95\n",
              "\n",
              "[1766 rows x 17 columns]"
            ]
          },
          "metadata": {
            "tags": []
          },
          "execution_count": 22
        }
      ]
    },
    {
      "cell_type": "markdown",
      "metadata": {
        "id": "YjAQEigy0ILx",
        "colab_type": "text"
      },
      "source": [
        "#### **The Pickup Map - Before Cleaning:**"
      ]
    },
    {
      "cell_type": "code",
      "metadata": {
        "id": "lmmj2wrnMImM",
        "colab_type": "code",
        "outputId": "59a566e7-b780-4dc7-fe41-cc2ea63aee38",
        "colab": {
          "base_uri": "https://localhost:8080/",
          "height": 627
        }
      },
      "source": [
        "m = folium.Map(location = [40.5774, -73.7004], tiles = \"Stamen Toner\")\n",
        "\n",
        "outside_pickups = out_nyc.head(25000)\n",
        "\n",
        "for i,j in outside_pickups.iterrows():\n",
        "    if j[\"pickup_latitude\"] != 0:\n",
        "        folium.Marker([j[\"pickup_latitude\"], j[\"pickup_longitude\"]]).add_to(m)\n",
        "m"
      ],
      "execution_count": 0,
      "outputs": [
        {
          "output_type": "execute_result",
          "data": {
            "text/html": [
              "<div style=\"width:100%;\"><div style=\"position:relative;width:100%;height:0;padding-bottom:60%;\"><iframe src=\"about:blank\" style=\"position:absolute;width:100%;height:100%;left:0;top:0;border:none !important;\" data-html=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 onload=\"this.contentDocument.open();this.contentDocument.write(atob(this.getAttribute('data-html')));this.contentDocument.close();\" allowfullscreen webkitallowfullscreen mozallowfullscreen></iframe></div></div>"
            ],
            "text/plain": [
              "<folium.folium.Map at 0x7ff018fed908>"
            ]
          },
          "metadata": {
            "tags": []
          },
          "execution_count": 23
        }
      ]
    },
    {
      "cell_type": "markdown",
      "metadata": {
        "id": "HNVDohzT0rC6",
        "colab_type": "text"
      },
      "source": [
        "### **The Pickup Map - After Cleaning:**"
      ]
    },
    {
      "cell_type": "code",
      "metadata": {
        "id": "L3BmMjjfQh4j",
        "colab_type": "code",
        "colab": {}
      },
      "source": [
        "df = df[(((df.pickup_latitude >= 40.5774) & (df.pickup_latitude <= 40.9176)) & ((df.pickup_longitude >= -74.15) & (df.pickup_longitude <= -73.7004)))]\n",
        "\n",
        "\n"
      ],
      "execution_count": 0,
      "outputs": []
    },
    {
      "cell_type": "code",
      "metadata": {
        "id": "YvKPlDr9RWYo",
        "colab_type": "code",
        "outputId": "f2479635-487e-4a25-905d-2c2931535c5a",
        "colab": {
          "base_uri": "https://localhost:8080/",
          "height": 627
        }
      },
      "source": [
        "\n",
        "m = folium.Map(location = [40.9176, -73.7004], tiles = \"Stamen Toner\")\n",
        "\n",
        "pickups_within_NYC = df.sample(n = 500)\n",
        "\n",
        "for i,j in pickups_within_NYC.iterrows():\n",
        "    folium.Marker([j[\"pickup_latitude\"], j[\"pickup_longitude\"]]).add_to(m)\n",
        "m"
      ],
      "execution_count": 0,
      "outputs": [
        {
          "output_type": "execute_result",
          "data": {
            "text/html": [
              "<div style=\"width:100%;\"><div style=\"position:relative;width:100%;height:0;padding-bottom:60%;\"><iframe src=\"about:blank\" style=\"position:absolute;width:100%;height:100%;left:0;top:0;border:none !important;\" data-html=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 onload=\"this.contentDocument.open();this.contentDocument.write(atob(this.getAttribute('data-html')));this.contentDocument.close();\" allowfullscreen webkitallowfullscreen mozallowfullscreen></iframe></div></div>"
            ],
            "text/plain": [
              "<folium.folium.Map at 0x7ff018fedc50>"
            ]
          },
          "metadata": {
            "tags": []
          },
          "execution_count": 25
        }
      ]
    },
    {
      "cell_type": "markdown",
      "metadata": {
        "id": "byUHtwLZ1Vgo",
        "colab_type": "text"
      },
      "source": [
        "**OBSERVATION:** \n",
        "\n",
        "Now we can see that all the  pick ups are concentrated in and around NYC."
      ]
    },
    {
      "cell_type": "markdown",
      "metadata": {
        "id": "YFoL1aAqQLDL",
        "colab_type": "text"
      },
      "source": [
        "### **DROPOFF:**"
      ]
    },
    {
      "cell_type": "code",
      "metadata": {
        "id": "WD28Z38GQO1M",
        "colab_type": "code",
        "outputId": "586a9012-6364-4145-c223-ea60f57dfcf8",
        "colab": {
          "base_uri": "https://localhost:8080/",
          "height": 439
        }
      },
      "source": [
        "out_nyc = df[((df.dropoff_latitude <= 40.5774) | (df.dropoff_longitude <= -74.15) | (df.dropoff_latitude >= 40.9176) | (df.dropoff_longitude >= -73.7004))]\n",
        "out_nyc\n",
        "\n"
      ],
      "execution_count": 0,
      "outputs": [
        {
          "output_type": "execute_result",
          "data": {
            "text/html": [
              "<div>\n",
              "<style scoped>\n",
              "    .dataframe tbody tr th:only-of-type {\n",
              "        vertical-align: middle;\n",
              "    }\n",
              "\n",
              "    .dataframe tbody tr th {\n",
              "        vertical-align: top;\n",
              "    }\n",
              "\n",
              "    .dataframe thead th {\n",
              "        text-align: right;\n",
              "    }\n",
              "</style>\n",
              "<table border=\"1\" class=\"dataframe\">\n",
              "  <thead>\n",
              "    <tr style=\"text-align: right;\">\n",
              "      <th></th>\n",
              "      <th>VendorID</th>\n",
              "      <th>tpep_pickup_datetime</th>\n",
              "      <th>tpep_dropoff_datetime</th>\n",
              "      <th>passenger_count</th>\n",
              "      <th>trip_distance</th>\n",
              "      <th>pickup_longitude</th>\n",
              "      <th>pickup_latitude</th>\n",
              "      <th>dropoff_longitude</th>\n",
              "      <th>dropoff_latitude</th>\n",
              "      <th>payment_type</th>\n",
              "      <th>fare_amount</th>\n",
              "      <th>extra</th>\n",
              "      <th>mta_tax</th>\n",
              "      <th>tip_amount</th>\n",
              "      <th>tolls_amount</th>\n",
              "      <th>improvement_surcharge</th>\n",
              "      <th>total_amount</th>\n",
              "    </tr>\n",
              "  </thead>\n",
              "  <tbody>\n",
              "    <tr>\n",
              "      <th>119</th>\n",
              "      <td>1</td>\n",
              "      <td>2015-01-26 12:41:21</td>\n",
              "      <td>2015-01-26 13:03:26</td>\n",
              "      <td>2</td>\n",
              "      <td>16.30</td>\n",
              "      <td>-73.998390</td>\n",
              "      <td>40.761681</td>\n",
              "      <td>-74.177238</td>\n",
              "      <td>40.695042</td>\n",
              "      <td>1</td>\n",
              "      <td>60.5</td>\n",
              "      <td>0.0</td>\n",
              "      <td>0.0</td>\n",
              "      <td>15.30</td>\n",
              "      <td>15.75</td>\n",
              "      <td>0.3</td>\n",
              "      <td>91.85</td>\n",
              "    </tr>\n",
              "    <tr>\n",
              "      <th>274</th>\n",
              "      <td>2</td>\n",
              "      <td>2015-01-18 19:49:28</td>\n",
              "      <td>2015-01-18 20:19:36</td>\n",
              "      <td>1</td>\n",
              "      <td>18.36</td>\n",
              "      <td>-73.915321</td>\n",
              "      <td>40.760506</td>\n",
              "      <td>-73.680809</td>\n",
              "      <td>40.730873</td>\n",
              "      <td>1</td>\n",
              "      <td>49.5</td>\n",
              "      <td>0.0</td>\n",
              "      <td>0.5</td>\n",
              "      <td>9.90</td>\n",
              "      <td>0.00</td>\n",
              "      <td>0.3</td>\n",
              "      <td>60.20</td>\n",
              "    </tr>\n",
              "    <tr>\n",
              "      <th>396</th>\n",
              "      <td>2</td>\n",
              "      <td>2015-01-01 05:29:50</td>\n",
              "      <td>2015-01-01 05:54:13</td>\n",
              "      <td>1</td>\n",
              "      <td>17.46</td>\n",
              "      <td>-73.982964</td>\n",
              "      <td>40.757416</td>\n",
              "      <td>-74.177193</td>\n",
              "      <td>40.695057</td>\n",
              "      <td>1</td>\n",
              "      <td>64.0</td>\n",
              "      <td>0.5</td>\n",
              "      <td>0.0</td>\n",
              "      <td>1.00</td>\n",
              "      <td>16.00</td>\n",
              "      <td>0.3</td>\n",
              "      <td>81.80</td>\n",
              "    </tr>\n",
              "    <tr>\n",
              "      <th>548</th>\n",
              "      <td>2</td>\n",
              "      <td>2015-01-13 00:09:39</td>\n",
              "      <td>2015-01-13 01:03:11</td>\n",
              "      <td>1</td>\n",
              "      <td>28.66</td>\n",
              "      <td>-73.996162</td>\n",
              "      <td>40.725426</td>\n",
              "      <td>-73.800003</td>\n",
              "      <td>40.964561</td>\n",
              "      <td>2</td>\n",
              "      <td>83.5</td>\n",
              "      <td>0.5</td>\n",
              "      <td>0.5</td>\n",
              "      <td>0.00</td>\n",
              "      <td>2.44</td>\n",
              "      <td>0.3</td>\n",
              "      <td>87.24</td>\n",
              "    </tr>\n",
              "    <tr>\n",
              "      <th>700</th>\n",
              "      <td>2</td>\n",
              "      <td>2015-01-23 09:45:36</td>\n",
              "      <td>2015-01-23 10:20:37</td>\n",
              "      <td>1</td>\n",
              "      <td>18.06</td>\n",
              "      <td>-73.977982</td>\n",
              "      <td>40.763496</td>\n",
              "      <td>-74.177017</td>\n",
              "      <td>40.694862</td>\n",
              "      <td>1</td>\n",
              "      <td>68.0</td>\n",
              "      <td>0.0</td>\n",
              "      <td>0.0</td>\n",
              "      <td>16.44</td>\n",
              "      <td>13.90</td>\n",
              "      <td>0.3</td>\n",
              "      <td>98.64</td>\n",
              "    </tr>\n",
              "    <tr>\n",
              "      <th>...</th>\n",
              "      <td>...</td>\n",
              "      <td>...</td>\n",
              "      <td>...</td>\n",
              "      <td>...</td>\n",
              "      <td>...</td>\n",
              "      <td>...</td>\n",
              "      <td>...</td>\n",
              "      <td>...</td>\n",
              "      <td>...</td>\n",
              "      <td>...</td>\n",
              "      <td>...</td>\n",
              "      <td>...</td>\n",
              "      <td>...</td>\n",
              "      <td>...</td>\n",
              "      <td>...</td>\n",
              "      <td>...</td>\n",
              "      <td>...</td>\n",
              "    </tr>\n",
              "    <tr>\n",
              "      <th>98613</th>\n",
              "      <td>1</td>\n",
              "      <td>2015-01-21 07:27:15</td>\n",
              "      <td>2015-01-21 07:35:03</td>\n",
              "      <td>1</td>\n",
              "      <td>1.10</td>\n",
              "      <td>-73.975983</td>\n",
              "      <td>40.744617</td>\n",
              "      <td>0.000000</td>\n",
              "      <td>0.000000</td>\n",
              "      <td>1</td>\n",
              "      <td>7.0</td>\n",
              "      <td>0.0</td>\n",
              "      <td>0.5</td>\n",
              "      <td>1.00</td>\n",
              "      <td>0.00</td>\n",
              "      <td>0.3</td>\n",
              "      <td>8.80</td>\n",
              "    </tr>\n",
              "    <tr>\n",
              "      <th>99290</th>\n",
              "      <td>2</td>\n",
              "      <td>2015-01-02 13:33:32</td>\n",
              "      <td>2015-01-02 14:18:43</td>\n",
              "      <td>3</td>\n",
              "      <td>3.61</td>\n",
              "      <td>-73.976868</td>\n",
              "      <td>40.780132</td>\n",
              "      <td>0.000000</td>\n",
              "      <td>0.000000</td>\n",
              "      <td>2</td>\n",
              "      <td>12.5</td>\n",
              "      <td>0.0</td>\n",
              "      <td>0.5</td>\n",
              "      <td>0.00</td>\n",
              "      <td>0.00</td>\n",
              "      <td>0.3</td>\n",
              "      <td>13.30</td>\n",
              "    </tr>\n",
              "    <tr>\n",
              "      <th>99313</th>\n",
              "      <td>2</td>\n",
              "      <td>2015-01-03 00:27:47</td>\n",
              "      <td>2015-01-03 00:43:48</td>\n",
              "      <td>1</td>\n",
              "      <td>11.81</td>\n",
              "      <td>-73.790222</td>\n",
              "      <td>40.646538</td>\n",
              "      <td>-73.654381</td>\n",
              "      <td>40.701057</td>\n",
              "      <td>2</td>\n",
              "      <td>44.0</td>\n",
              "      <td>0.5</td>\n",
              "      <td>0.5</td>\n",
              "      <td>0.00</td>\n",
              "      <td>0.00</td>\n",
              "      <td>0.3</td>\n",
              "      <td>45.30</td>\n",
              "    </tr>\n",
              "    <tr>\n",
              "      <th>99326</th>\n",
              "      <td>1</td>\n",
              "      <td>2015-01-03 00:27:50</td>\n",
              "      <td>2015-01-03 00:53:24</td>\n",
              "      <td>1</td>\n",
              "      <td>15.50</td>\n",
              "      <td>-74.000114</td>\n",
              "      <td>40.718025</td>\n",
              "      <td>-74.093834</td>\n",
              "      <td>40.572784</td>\n",
              "      <td>1</td>\n",
              "      <td>42.5</td>\n",
              "      <td>0.5</td>\n",
              "      <td>0.5</td>\n",
              "      <td>10.85</td>\n",
              "      <td>10.66</td>\n",
              "      <td>0.0</td>\n",
              "      <td>65.31</td>\n",
              "    </tr>\n",
              "    <tr>\n",
              "      <th>99885</th>\n",
              "      <td>1</td>\n",
              "      <td>2015-01-07 22:48:38</td>\n",
              "      <td>2015-01-07 23:10:24</td>\n",
              "      <td>4</td>\n",
              "      <td>4.70</td>\n",
              "      <td>-73.997513</td>\n",
              "      <td>40.756432</td>\n",
              "      <td>0.000000</td>\n",
              "      <td>0.000000</td>\n",
              "      <td>1</td>\n",
              "      <td>18.0</td>\n",
              "      <td>0.5</td>\n",
              "      <td>0.5</td>\n",
              "      <td>3.85</td>\n",
              "      <td>0.00</td>\n",
              "      <td>0.3</td>\n",
              "      <td>23.15</td>\n",
              "    </tr>\n",
              "  </tbody>\n",
              "</table>\n",
              "<p>260 rows × 17 columns</p>\n",
              "</div>"
            ],
            "text/plain": [
              "       VendorID tpep_pickup_datetime  ... improvement_surcharge  total_amount\n",
              "119           1  2015-01-26 12:41:21  ...                   0.3         91.85\n",
              "274           2  2015-01-18 19:49:28  ...                   0.3         60.20\n",
              "396           2  2015-01-01 05:29:50  ...                   0.3         81.80\n",
              "548           2  2015-01-13 00:09:39  ...                   0.3         87.24\n",
              "700           2  2015-01-23 09:45:36  ...                   0.3         98.64\n",
              "...         ...                  ...  ...                   ...           ...\n",
              "98613         1  2015-01-21 07:27:15  ...                   0.3          8.80\n",
              "99290         2  2015-01-02 13:33:32  ...                   0.3         13.30\n",
              "99313         2  2015-01-03 00:27:47  ...                   0.3         45.30\n",
              "99326         1  2015-01-03 00:27:50  ...                   0.0         65.31\n",
              "99885         1  2015-01-07 22:48:38  ...                   0.3         23.15\n",
              "\n",
              "[260 rows x 17 columns]"
            ]
          },
          "metadata": {
            "tags": []
          },
          "execution_count": 26
        }
      ]
    },
    {
      "cell_type": "markdown",
      "metadata": {
        "id": "nnHwfYWY0WzA",
        "colab_type": "text"
      },
      "source": [
        "#### **The Dropoff Map - Before cleaning:**"
      ]
    },
    {
      "cell_type": "code",
      "metadata": {
        "id": "2zehAiSxQbHV",
        "colab_type": "code",
        "outputId": "648ac67f-ae0e-4318-b0a9-97fabc0284da",
        "colab": {
          "base_uri": "https://localhost:8080/",
          "height": 627
        }
      },
      "source": [
        "m = folium.Map(location = [40.5774, -73.7004], tiles = \"Stamen Toner\")\n",
        "\n",
        "outside_dropoff = out_nyc.head(25000)\n",
        "\n",
        "for i,j in outside_dropoff.iterrows():\n",
        "    if j[\"dropoff_latitude\"] != 0:\n",
        "        folium.Marker([j[\"dropoff_latitude\"], j[\"dropoff_longitude\"]]).add_to(m)\n",
        "m"
      ],
      "execution_count": 0,
      "outputs": [
        {
          "output_type": "execute_result",
          "data": {
            "text/html": [
              "<div style=\"width:100%;\"><div style=\"position:relative;width:100%;height:0;padding-bottom:60%;\"><iframe src=\"about:blank\" style=\"position:absolute;width:100%;height:100%;left:0;top:0;border:none !important;\" data-html=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 onload=\"this.contentDocument.open();this.contentDocument.write(atob(this.getAttribute('data-html')));this.contentDocument.close();\" allowfullscreen webkitallowfullscreen mozallowfullscreen></iframe></div></div>"
            ],
            "text/plain": [
              "<folium.folium.Map at 0x7ff018dc1390>"
            ]
          },
          "metadata": {
            "tags": []
          },
          "execution_count": 27
        }
      ]
    },
    {
      "cell_type": "markdown",
      "metadata": {
        "id": "AVZk_fHeNP0U",
        "colab_type": "text"
      },
      "source": [
        "**OBSERVATION:**\n",
        "\n",
        "As you can see in the above map, there are many erroneous data points. Some of which are in other state or outside of NYC.  All these erroneous data points are removed. "
      ]
    },
    {
      "cell_type": "code",
      "metadata": {
        "id": "53rmygiPRaTI",
        "colab_type": "code",
        "colab": {}
      },
      "source": [
        "df = df[(((df.dropoff_latitude >= 40.5774) & (df.dropoff_latitude <= 40.9176)) & ((df.dropoff_longitude >= -74.15) & (df.dropoff_longitude <= -73.7004)))]\n"
      ],
      "execution_count": 0,
      "outputs": []
    },
    {
      "cell_type": "markdown",
      "metadata": {
        "id": "Ab3-eR1_0xnm",
        "colab_type": "text"
      },
      "source": [
        "### **The Dropoff Map - After Cleaning:**"
      ]
    },
    {
      "cell_type": "code",
      "metadata": {
        "id": "IPm2Te18RrYs",
        "colab_type": "code",
        "outputId": "ae530893-61ca-4cc6-f497-591fdab62315",
        "colab": {
          "base_uri": "https://localhost:8080/",
          "height": 627
        }
      },
      "source": [
        "\n",
        "m = folium.Map(location = [40.9176, -73.7004], tiles = \"Stamen Toner\")\n",
        "\n",
        "dropoff_within_NYC = df.sample(n = 500)\n",
        "\n",
        "for i,j in dropoff_within_NYC.iterrows():\n",
        "    folium.Marker([j[\"dropoff_latitude\"], j[\"dropoff_longitude\"]]).add_to(m)\n",
        "m"
      ],
      "execution_count": 0,
      "outputs": [
        {
          "output_type": "execute_result",
          "data": {
            "text/html": [
              "<div style=\"width:100%;\"><div style=\"position:relative;width:100%;height:0;padding-bottom:60%;\"><iframe src=\"about:blank\" style=\"position:absolute;width:100%;height:100%;left:0;top:0;border:none !important;\" data-html=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 onload=\"this.contentDocument.open();this.contentDocument.write(atob(this.getAttribute('data-html')));this.contentDocument.close();\" allowfullscreen webkitallowfullscreen mozallowfullscreen></iframe></div></div>"
            ],
            "text/plain": [
              "<folium.folium.Map at 0x7ff018fed390>"
            ]
          },
          "metadata": {
            "tags": []
          },
          "execution_count": 29
        }
      ]
    },
    {
      "cell_type": "markdown",
      "metadata": {
        "id": "retPBFKBR0_1",
        "colab_type": "text"
      },
      "source": [
        "**OBSERVATION:** \n",
        "\n",
        "Now we can see that all the drop offs are concentrated in and around NYC."
      ]
    },
    {
      "cell_type": "markdown",
      "metadata": {
        "id": "xMjUhTfkXPCf",
        "colab_type": "text"
      },
      "source": [
        "## **Trip Duration**\n",
        "\n",
        "Trip Duration = Drop-off time — pickup time"
      ]
    },
    {
      "cell_type": "code",
      "metadata": {
        "id": "3WuN1-VcX3z5",
        "colab_type": "code",
        "outputId": "7ee26eac-3e67-4d3a-fd23-a675d34289c5",
        "colab": {
          "base_uri": "https://localhost:8080/",
          "height": 224
        }
      },
      "source": [
        "df.head()"
      ],
      "execution_count": 0,
      "outputs": [
        {
          "output_type": "execute_result",
          "data": {
            "text/html": [
              "<div>\n",
              "<style scoped>\n",
              "    .dataframe tbody tr th:only-of-type {\n",
              "        vertical-align: middle;\n",
              "    }\n",
              "\n",
              "    .dataframe tbody tr th {\n",
              "        vertical-align: top;\n",
              "    }\n",
              "\n",
              "    .dataframe thead th {\n",
              "        text-align: right;\n",
              "    }\n",
              "</style>\n",
              "<table border=\"1\" class=\"dataframe\">\n",
              "  <thead>\n",
              "    <tr style=\"text-align: right;\">\n",
              "      <th></th>\n",
              "      <th>VendorID</th>\n",
              "      <th>tpep_pickup_datetime</th>\n",
              "      <th>tpep_dropoff_datetime</th>\n",
              "      <th>passenger_count</th>\n",
              "      <th>trip_distance</th>\n",
              "      <th>pickup_longitude</th>\n",
              "      <th>pickup_latitude</th>\n",
              "      <th>dropoff_longitude</th>\n",
              "      <th>dropoff_latitude</th>\n",
              "      <th>payment_type</th>\n",
              "      <th>fare_amount</th>\n",
              "      <th>extra</th>\n",
              "      <th>mta_tax</th>\n",
              "      <th>tip_amount</th>\n",
              "      <th>tolls_amount</th>\n",
              "      <th>improvement_surcharge</th>\n",
              "      <th>total_amount</th>\n",
              "    </tr>\n",
              "  </thead>\n",
              "  <tbody>\n",
              "    <tr>\n",
              "      <th>0</th>\n",
              "      <td>2</td>\n",
              "      <td>2015-01-15 19:05:39</td>\n",
              "      <td>2015-01-15 19:23:42</td>\n",
              "      <td>1</td>\n",
              "      <td>1.59</td>\n",
              "      <td>-73.993896</td>\n",
              "      <td>40.750111</td>\n",
              "      <td>-73.974785</td>\n",
              "      <td>40.750618</td>\n",
              "      <td>1</td>\n",
              "      <td>12.0</td>\n",
              "      <td>1.0</td>\n",
              "      <td>0.5</td>\n",
              "      <td>3.25</td>\n",
              "      <td>0.0</td>\n",
              "      <td>0.3</td>\n",
              "      <td>17.05</td>\n",
              "    </tr>\n",
              "    <tr>\n",
              "      <th>1</th>\n",
              "      <td>1</td>\n",
              "      <td>2015-01-10 20:33:38</td>\n",
              "      <td>2015-01-10 20:53:28</td>\n",
              "      <td>1</td>\n",
              "      <td>3.30</td>\n",
              "      <td>-74.001648</td>\n",
              "      <td>40.724243</td>\n",
              "      <td>-73.994415</td>\n",
              "      <td>40.759109</td>\n",
              "      <td>1</td>\n",
              "      <td>14.5</td>\n",
              "      <td>0.5</td>\n",
              "      <td>0.5</td>\n",
              "      <td>2.00</td>\n",
              "      <td>0.0</td>\n",
              "      <td>0.3</td>\n",
              "      <td>17.80</td>\n",
              "    </tr>\n",
              "    <tr>\n",
              "      <th>2</th>\n",
              "      <td>1</td>\n",
              "      <td>2015-01-10 20:33:38</td>\n",
              "      <td>2015-01-10 20:43:41</td>\n",
              "      <td>1</td>\n",
              "      <td>1.80</td>\n",
              "      <td>-73.963341</td>\n",
              "      <td>40.802788</td>\n",
              "      <td>-73.951820</td>\n",
              "      <td>40.824413</td>\n",
              "      <td>2</td>\n",
              "      <td>9.5</td>\n",
              "      <td>0.5</td>\n",
              "      <td>0.5</td>\n",
              "      <td>0.00</td>\n",
              "      <td>0.0</td>\n",
              "      <td>0.3</td>\n",
              "      <td>10.80</td>\n",
              "    </tr>\n",
              "    <tr>\n",
              "      <th>3</th>\n",
              "      <td>1</td>\n",
              "      <td>2015-01-10 20:33:39</td>\n",
              "      <td>2015-01-10 20:35:31</td>\n",
              "      <td>1</td>\n",
              "      <td>0.50</td>\n",
              "      <td>-74.009087</td>\n",
              "      <td>40.713818</td>\n",
              "      <td>-74.004326</td>\n",
              "      <td>40.719986</td>\n",
              "      <td>2</td>\n",
              "      <td>3.5</td>\n",
              "      <td>0.5</td>\n",
              "      <td>0.5</td>\n",
              "      <td>0.00</td>\n",
              "      <td>0.0</td>\n",
              "      <td>0.3</td>\n",
              "      <td>4.80</td>\n",
              "    </tr>\n",
              "    <tr>\n",
              "      <th>4</th>\n",
              "      <td>1</td>\n",
              "      <td>2015-01-10 20:33:39</td>\n",
              "      <td>2015-01-10 20:52:58</td>\n",
              "      <td>1</td>\n",
              "      <td>3.00</td>\n",
              "      <td>-73.971176</td>\n",
              "      <td>40.762428</td>\n",
              "      <td>-74.004181</td>\n",
              "      <td>40.742653</td>\n",
              "      <td>2</td>\n",
              "      <td>15.0</td>\n",
              "      <td>0.5</td>\n",
              "      <td>0.5</td>\n",
              "      <td>0.00</td>\n",
              "      <td>0.0</td>\n",
              "      <td>0.3</td>\n",
              "      <td>16.30</td>\n",
              "    </tr>\n",
              "  </tbody>\n",
              "</table>\n",
              "</div>"
            ],
            "text/plain": [
              "   VendorID tpep_pickup_datetime  ... improvement_surcharge  total_amount\n",
              "0         2  2015-01-15 19:05:39  ...                   0.3         17.05\n",
              "1         1  2015-01-10 20:33:38  ...                   0.3         17.80\n",
              "2         1  2015-01-10 20:33:38  ...                   0.3         10.80\n",
              "3         1  2015-01-10 20:33:39  ...                   0.3          4.80\n",
              "4         1  2015-01-10 20:33:39  ...                   0.3         16.30\n",
              "\n",
              "[5 rows x 17 columns]"
            ]
          },
          "metadata": {
            "tags": []
          },
          "execution_count": 30
        }
      ]
    },
    {
      "cell_type": "code",
      "metadata": {
        "id": "TIhEVAazepWS",
        "colab_type": "code",
        "colab": {}
      },
      "source": [
        "df['tpep_pickup_datetime'] = df['tpep_pickup_datetime'].astype(str)\n",
        "df['tpep_dropoff_datetime'] = df['tpep_dropoff_datetime'].astype(str)"
      ],
      "execution_count": 0,
      "outputs": []
    },
    {
      "cell_type": "code",
      "metadata": {
        "id": "9ppFfg7gfAz2",
        "colab_type": "code",
        "outputId": "f6b07e8f-e3fc-4765-c5fd-26088476de83",
        "colab": {
          "base_uri": "https://localhost:8080/",
          "height": 323
        }
      },
      "source": [
        "df.dtypes"
      ],
      "execution_count": 0,
      "outputs": [
        {
          "output_type": "execute_result",
          "data": {
            "text/plain": [
              "VendorID                   int64\n",
              "tpep_pickup_datetime      object\n",
              "tpep_dropoff_datetime     object\n",
              "passenger_count            int64\n",
              "trip_distance            float64\n",
              "pickup_longitude         float64\n",
              "pickup_latitude          float64\n",
              "dropoff_longitude        float64\n",
              "dropoff_latitude         float64\n",
              "payment_type               int64\n",
              "fare_amount              float64\n",
              "extra                    float64\n",
              "mta_tax                  float64\n",
              "tip_amount               float64\n",
              "tolls_amount             float64\n",
              "improvement_surcharge    float64\n",
              "total_amount             float64\n",
              "dtype: object"
            ]
          },
          "metadata": {
            "tags": []
          },
          "execution_count": 32
        }
      ]
    },
    {
      "cell_type": "markdown",
      "metadata": {
        "id": "so4usnfDXwQ2",
        "colab_type": "text"
      },
      "source": [
        "The time format is in datetime format. Converting it to a structured unix time"
      ]
    },
    {
      "cell_type": "code",
      "metadata": {
        "id": "WR-OLtU4XjRm",
        "colab_type": "code",
        "colab": {}
      },
      "source": [
        "def convert_to_unix(s):\n",
        "    return time.mktime(datetime.datetime.strptime(s, \"%Y-%m-%d %H:%M:%S\").timetuple())"
      ],
      "execution_count": 0,
      "outputs": []
    },
    {
      "cell_type": "markdown",
      "metadata": {
        "id": "Tc4s5udJalVo",
        "colab_type": "text"
      },
      "source": [
        "Unix time is a system for describing a point in time. It is the number of seconds that have elapsed since the Unix epoch, that is the time 00:00:00 UTC on 1 January 1970.\n",
        "We have made this project in New York(EDT) which is 4 hours behing GMT Time. Thus the function returns unix time stam from the reference of local time, and so have subtracted 14400 seconds inorder to make it equal to GMT."
      ]
    },
    {
      "cell_type": "code",
      "metadata": {
        "id": "-syPFlIhY_KR",
        "colab_type": "code",
        "colab": {}
      },
      "source": [
        "from tqdm import tqdm\n",
        "def return_with_trip_times(month):\n",
        "    duration = month[['tpep_pickup_datetime','tpep_dropoff_datetime']]\n",
        "    #pickups and dropoffs to unix time\n",
        "    duration_pickup = [convert_to_unix(x) for x in tqdm(duration['tpep_pickup_datetime'].values)]\n",
        "    duration_drop = [convert_to_unix(x) for x in tqdm(duration['tpep_dropoff_datetime'].values)]\n",
        "    #calculate duration of trips\n",
        "    durations = (np.array(duration_drop) - np.array(duration_pickup))/float(60)\n",
        "\n",
        "    #append durations of trips and speed in miles/hr to a new dataframe\n",
        "    new_frame = month[['passenger_count','trip_distance','pickup_longitude','pickup_latitude','dropoff_longitude','dropoff_latitude','total_amount']]\n",
        "    \n",
        "    new_frame['trip_duration'] = durations\n",
        "    new_frame['pickup_times'] = duration_pickup\n",
        "    new_frame['speed'] = 60*(new_frame['trip_distance']/new_frame['trip_duration']) \n",
        "    \n",
        "    return new_frame\n"
      ],
      "execution_count": 0,
      "outputs": []
    },
    {
      "cell_type": "code",
      "metadata": {
        "id": "X9Xnu-lDcGyJ",
        "colab_type": "code",
        "outputId": "a2b22e16-01e1-4a65-a081-44fe7b2ffcfb",
        "colab": {
          "base_uri": "https://localhost:8080/",
          "height": 51
        }
      },
      "source": [
        "new_df = return_with_trip_times(df)"
      ],
      "execution_count": 0,
      "outputs": [
        {
          "output_type": "stream",
          "text": [
            "100%|██████████| 97162/97162 [00:01<00:00, 56735.77it/s]\n",
            "100%|██████████| 97162/97162 [00:01<00:00, 56044.64it/s]\n"
          ],
          "name": "stderr"
        }
      ]
    },
    {
      "cell_type": "markdown",
      "metadata": {
        "id": "osqE_9GNjdMl",
        "colab_type": "text"
      },
      "source": [
        "According to NYC Taxi and Limousine Commission regulations, the maximum allowed trip duration in a 24hrs interval is 12 hrs "
      ]
    },
    {
      "cell_type": "code",
      "metadata": {
        "id": "_XVBdPE7hfS8",
        "colab_type": "code",
        "outputId": "a254fd1d-42e7-4fcb-8e14-295ab50d83a5",
        "colab": {
          "base_uri": "https://localhost:8080/",
          "height": 252
        }
      },
      "source": [
        "sns.boxplot(y=\"trip_duration\", data =new_df)\n",
        "plt.show()"
      ],
      "execution_count": 0,
      "outputs": [
        {
          "output_type": "display_data",
          "data": {
            "image/png": "[encoded data removed]",
            "text/plain": [
              "<Figure size 432x288 with 1 Axes>"
            ]
          },
          "metadata": {
            "tags": [],
            "needs_background": "light"
          }
        }
      ]
    },
    {
      "cell_type": "markdown",
      "metadata": {
        "id": "Eum2ElGodJ6Z",
        "colab_type": "text"
      },
      "source": [
        "From the plot we can see there are are outliers as the plot is skewed. Let us calculate the percentile values ( 0 to 100) to identify those outliers and remvoe them\n"
      ]
    },
    {
      "cell_type": "code",
      "metadata": {
        "id": "73iCu2LQhz34",
        "colab_type": "code",
        "colab": {}
      },
      "source": [
        "percentile_tripDuration = new_df.trip_duration.quantile(np.round(np.arange(0.00, 1.01, 0.01), 2))\n"
      ],
      "execution_count": 0,
      "outputs": []
    },
    {
      "cell_type": "code",
      "metadata": {
        "id": "6HZ-e_R3d0II",
        "colab_type": "code",
        "outputId": "d76ac401-63a7-4916-8f0a-bb2cf2f73e49",
        "colab": {
          "base_uri": "https://localhost:8080/",
          "height": 204
        }
      },
      "source": [
        "qValues = np.round(np.arange(0.00, 1.01, 0.1), 2)\n",
        "for i in qValues:\n",
        "    print(\"{}th percentile value of Trip Duration is {}min\".format((int(i*100)), percentile_tripDuration[i]))"
      ],
      "execution_count": 0,
      "outputs": [
        {
          "output_type": "stream",
          "text": [
            "0th percentile value of Trip Duration is 0.016666666666666666min\n",
            "10th percentile value of Trip Duration is 3.95min\n",
            "20th percentile value of Trip Duration is 5.466666666666667min\n",
            "30th percentile value of Trip Duration is 6.866666666666666min\n",
            "40th percentile value of Trip Duration is 8.366666666666667min\n",
            "50th percentile value of Trip Duration is 10.0min\n",
            "60th percentile value of Trip Duration is 11.9min\n",
            "70th percentile value of Trip Duration is 14.266666666666667min\n",
            "80th percentile value of Trip Duration is 17.616666666666667min\n",
            "90th percentile value of Trip Duration is 23.316666666666666min\n",
            "100th percentile value of Trip Duration is 1439.05min\n"
          ],
          "name": "stdout"
        }
      ]
    },
    {
      "cell_type": "markdown",
      "metadata": {
        "id": "cT9QaQq5eaLS",
        "colab_type": "text"
      },
      "source": [
        "We see that there is a huge difference between 90th percentile and the 100th percentile. Lets find the percentile values between 90th and 100th (90,91,92,... ,100)"
      ]
    },
    {
      "cell_type": "code",
      "metadata": {
        "id": "TRQxpjl2ei40",
        "colab_type": "code",
        "outputId": "5c8dab28-4cd2-4752-b885-287145ba69c6",
        "colab": {
          "base_uri": "https://localhost:8080/",
          "height": 204
        }
      },
      "source": [
        "for i in range(90,100):\n",
        "    var =new_df[\"trip_duration\"].values\n",
        "    var = np.sort(var,axis = None)\n",
        "    print(\"{} percentile value is {}\".format(i,var[int(len(var)*(float(i)/100))]))\n",
        "print (\"100 percentile value is \",var[-1])"
      ],
      "execution_count": 0,
      "outputs": [
        {
          "output_type": "stream",
          "text": [
            "90 percentile value is 23.316666666666666\n",
            "91 percentile value is 24.183333333333334\n",
            "92 percentile value is 25.216666666666665\n",
            "93 percentile value is 26.4\n",
            "94 percentile value is 27.733333333333334\n",
            "95 percentile value is 29.366666666666667\n",
            "96 percentile value is 31.316666666666666\n",
            "97 percentile value is 33.983333333333334\n",
            "98 percentile value is 38.18333333333333\n",
            "99 percentile value is 46.016666666666666\n",
            "100 percentile value is  1439.05\n"
          ],
          "name": "stdout"
        }
      ]
    },
    {
      "cell_type": "markdown",
      "metadata": {
        "id": "-NFlXeuxerKf",
        "colab_type": "text"
      },
      "source": [
        "We see that the value of 100th percentile is 1439.28, which is bizzare for trip duration. According to NYC Taxi and Limousine Commission regulations, the maximum allowed trip duration in a 24hrs interval is 12 hrs. Therefore, removing all outliers that are greater than 720 minutes and less than 1 minute."
      ]
    },
    {
      "cell_type": "code",
      "metadata": {
        "id": "L7N6Uefie2mX",
        "colab_type": "code",
        "colab": {}
      },
      "source": [
        "new_df = new_df[(new_df.trip_duration>1) & (new_df.trip_duration<720)]"
      ],
      "execution_count": 0,
      "outputs": []
    },
    {
      "cell_type": "markdown",
      "metadata": {
        "id": "LmiLB7hZganQ",
        "colab_type": "text"
      },
      "source": [
        "Plotting after the removal of outliers"
      ]
    },
    {
      "cell_type": "code",
      "metadata": {
        "id": "Xub_Kj84fFMQ",
        "colab_type": "code",
        "outputId": "b136812d-8013-4b44-8a7c-0b14092ebcef",
        "colab": {
          "base_uri": "https://localhost:8080/",
          "height": 361
        }
      },
      "source": [
        "plt.figure(figsize = (10,6))\n",
        "sns.boxplot(\"trip_duration\", data = new_df, orient = \"v\")\n",
        "plt.ylim(ymin = 1, ymax = 750)\n",
        "plt.tick_params(labelsize = 20)\n",
        "plt.ylabel(\"Trip Duration(minutes)\", fontsize = 20)\n",
        "plt.show()"
      ],
      "execution_count": 0,
      "outputs": [
        {
          "output_type": "display_data",
          "data": {
            "image/png": "[encoded data removed]",
            "text/plain": [
              "<Figure size 720x432 with 1 Axes>"
            ]
          },
          "metadata": {
            "tags": [],
            "needs_background": "light"
          }
        }
      ]
    },
    {
      "cell_type": "code",
      "metadata": {
        "id": "B9EAaHxrfHw_",
        "colab_type": "code",
        "outputId": "226630ec-43b7-4ecc-a46e-0ede40552b3d",
        "colab": {
          "base_uri": "https://localhost:8080/",
          "height": 536
        }
      },
      "source": [
        "#pdf of trip-times after removing the outliers\n",
        "plt.figure(figsize = (12,8))\n",
        "sns.kdeplot(new_df[\"trip_duration\"].values, shade = True, cumulative = False)\n",
        "plt.tick_params(labelsize = 20)\n",
        "plt.xlabel(\"Trip Duration\", fontsize = 20)\n",
        "plt.title(\"PDF of Trip Duration\", fontsize = 20)\n",
        "plt.show()"
      ],
      "execution_count": 0,
      "outputs": [
        {
          "output_type": "display_data",
          "data": {
            "image/png": "[encoded data removed]",
            "text/plain": [
              "<Figure size 864x576 with 1 Axes>"
            ]
          },
          "metadata": {
            "tags": [],
            "needs_background": "light"
          }
        }
      ]
    },
    {
      "cell_type": "markdown",
      "metadata": {
        "id": "YYd48tFLg9_a",
        "colab_type": "text"
      },
      "source": [
        " The above plot shows that almost all of the trip durations are approximately less than 100. There are little to no trips with trip durations above 100. \n",
        "\n",
        "We have removed all the points where trip duration is more than 12 hrs, removing all the erroneous and outlier points."
      ]
    },
    {
      "cell_type": "markdown",
      "metadata": {
        "id": "vE5XpiVJhRJ8",
        "colab_type": "text"
      },
      "source": [
        "#**Speed**\n",
        "\n",
        "**Speed= Trip Distance / Trip Duration**\n",
        "\n",
        "\n",
        "Checking for any outliers in the data after trip duration outliers removed"
      ]
    },
    {
      "cell_type": "code",
      "metadata": {
        "id": "yXiS2FbPgra0",
        "colab_type": "code",
        "outputId": "07886573-1f85-4c31-d5d1-950f3cd07e13",
        "colab": {
          "base_uri": "https://localhost:8080/",
          "height": 252
        }
      },
      "source": [
        "new_df['Speed'] = 60*(new_df['trip_distance']/new_df['trip_duration'])\n",
        "sns.boxplot(y=\"Speed\", data =new_df)\n",
        "plt.show()"
      ],
      "execution_count": 0,
      "outputs": [
        {
          "output_type": "display_data",
          "data": {
            "image/png": "[encoded data removed]",
            "text/plain": [
              "<Figure size 432x288 with 1 Axes>"
            ]
          },
          "metadata": {
            "tags": [],
            "needs_background": "light"
          }
        }
      ]
    },
    {
      "cell_type": "markdown",
      "metadata": {
        "id": "WHmtWDTQj7um",
        "colab_type": "text"
      },
      "source": [
        "Just as we did for trip duration, we calcualte percentile values from 0 to 100 to remove errorneous points.\n"
      ]
    },
    {
      "cell_type": "code",
      "metadata": {
        "id": "mw2vb0F3jvFA",
        "colab_type": "code",
        "colab": {}
      },
      "source": [
        "percentile_speed = new_df.speed.quantile(np.round(np.arange(0.00, 1.01, 0.01), 2))"
      ],
      "execution_count": 0,
      "outputs": []
    },
    {
      "cell_type": "markdown",
      "metadata": {
        "id": "1-qkP43BnzZm",
        "colab_type": "text"
      },
      "source": [
        "calculating speed values at each percntile 0,10,20,30,40,50,60,70,80,90,100 "
      ]
    },
    {
      "cell_type": "code",
      "metadata": {
        "id": "wDE--YevkJbj",
        "colab_type": "code",
        "outputId": "f75b7133-b854-460c-945f-b1fa6d1b2dfc",
        "colab": {
          "base_uri": "https://localhost:8080/",
          "height": 204
        }
      },
      "source": [
        "qValues = np.round(np.arange(0.00, 1.01, 0.1), 4)\n",
        "for i in qValues:\n",
        "    print(\"{}th percentile value of speed is {}miles/hr\".format(int(i*100), percentile_speed[i]))"
      ],
      "execution_count": 0,
      "outputs": [
        {
          "output_type": "stream",
          "text": [
            "0th percentile value of speed is 0.10550384850729445miles/hr\n",
            "10th percentile value of speed is 6.442953020134228miles/hr\n",
            "20th percentile value of speed is 7.790802524797114miles/hr\n",
            "30th percentile value of speed is 8.876712328767123miles/hr\n",
            "40th percentile value of speed is 9.908256880733944miles/hr\n",
            "50th percentile value of speed is 10.97560975609756miles/hr\n",
            "60th percentile value of speed is 12.165781083953242miles/hr\n",
            "70th percentile value of speed is 13.649289099526067miles/hr\n",
            "80th percentile value of speed is 15.744874715261961miles/hr\n",
            "90th percentile value of speed is 19.818556701030925miles/hr\n",
            "100th percentile value of speed is 315.00000000000006miles/hr\n"
          ],
          "name": "stdout"
        }
      ]
    },
    {
      "cell_type": "markdown",
      "metadata": {
        "id": "2KQOX0G_n6vS",
        "colab_type": "text"
      },
      "source": [
        "\n",
        "From the above, we can see that there is a huge difference between 90th percentile and 100th percentile. Now Calculating speed values at each percntile 90,91,92,93,94,95,96,97,98,99,100"
      ]
    },
    {
      "cell_type": "code",
      "metadata": {
        "id": "pW7P7Oy7kQqv",
        "colab_type": "code",
        "outputId": "711caf09-9f2f-47d0-ac2d-bb0afa2b88c1",
        "colab": {
          "base_uri": "https://localhost:8080/",
          "height": 187
        }
      },
      "source": [
        "qValues = np.round(np.arange(0.91, 1.01, 0.01), 3)\n",
        "for i in qValues:\n",
        "    print(\"{} percentile value of speed is {}miles/hr\".format(int(i*100), percentile_speed[i]))"
      ],
      "execution_count": 0,
      "outputs": [
        {
          "output_type": "stream",
          "text": [
            "91 percentile value of speed is 20.54450261780105miles/hr\n",
            "92 percentile value of speed is 21.34323922734027miles/hr\n",
            "93 percentile value of speed is 22.298952013237727miles/hr\n",
            "94 percentile value of speed is 23.36448598130841miles/hr\n",
            "95 percentile value of speed is 24.64547677261614miles/hr\n",
            "96 percentile value of speed is 26.26115702479339miles/hr\n",
            "97 percentile value of speed is 28.244084682440846miles/hr\n",
            "98 percentile value of speed is 30.9375miles/hr\n",
            "99 percentile value of speed is 34.97834204630321miles/hr\n",
            "100 percentile value of speed is 315.00000000000006miles/hr\n"
          ],
          "name": "stdout"
        }
      ]
    },
    {
      "cell_type": "markdown",
      "metadata": {
        "id": "AMh1yv-OoICe",
        "colab_type": "text"
      },
      "source": [
        "Now again we see a huge difference in percentile between 99th and 100th. Calculating speed values at each percntile 99.0,99.1,99.2,99.3,99.4,99.5,99.6,99.7,99.8,99.9,100. "
      ]
    },
    {
      "cell_type": "code",
      "metadata": {
        "id": "G8be0heNkYA0",
        "colab_type": "code",
        "outputId": "43a4da41-64ee-481b-a371-29c5e6b4aed4",
        "colab": {
          "base_uri": "https://localhost:8080/",
          "height": 204
        }
      },
      "source": [
        "for i in np.arange(0.0, 1.0, 0.1):\n",
        "    var =new_df[\"Speed\"].values\n",
        "    var = np.sort(var,axis = None)\n",
        "    print(\"{} percentile value is {}\".format(99+i,var[int(len(var)*(float(99+i)/100))]))\n",
        "print(\"100 percentile value is \",var[-1])"
      ],
      "execution_count": 0,
      "outputs": [
        {
          "output_type": "stream",
          "text": [
            "99.0 percentile value is 34.97834204630321\n",
            "99.1 percentile value is 35.54499494438827\n",
            "99.2 percentile value is 36.191489361702125\n",
            "99.3 percentile value is 36.88669950738916\n",
            "99.4 percentile value is 37.623224212476835\n",
            "99.5 percentile value is 38.43046739757646\n",
            "99.6 percentile value is 39.37836222355051\n",
            "99.7 percentile value is 40.62904717853839\n",
            "99.8 percentile value is 42.31928127159641\n",
            "99.9 percentile value is 44.95945945945946\n",
            "100 percentile value is  315.00000000000006\n"
          ],
          "name": "stdout"
        }
      ]
    },
    {
      "cell_type": "markdown",
      "metadata": {
        "id": "_M1yMIlypLWD",
        "colab_type": "text"
      },
      "source": [
        "Now we see that the 100th percentile value of a speed is 714 Million miles/hr which is unusual. Furthermore, 99.9th percentile value of speed is 45 miles/hr. So, we are removing all the data points where speed is greater than 45 miles/hr."
      ]
    },
    {
      "cell_type": "code",
      "metadata": {
        "id": "ySNjnDKskau0",
        "colab_type": "code",
        "colab": {}
      },
      "source": [
        "new_df = new_df[(new_df.speed>0) & (new_df.speed<45.31)]"
      ],
      "execution_count": 0,
      "outputs": []
    },
    {
      "cell_type": "markdown",
      "metadata": {
        "id": "QVoPNKMFp0Ta",
        "colab_type": "text"
      },
      "source": [
        "Plotting again after removing erroneous points"
      ]
    },
    {
      "cell_type": "code",
      "metadata": {
        "id": "eRtUt7XopyyO",
        "colab_type": "code",
        "outputId": "8c9f0787-9aa8-4833-9ed6-623291557bd5",
        "colab": {
          "base_uri": "https://localhost:8080/",
          "height": 361
        }
      },
      "source": [
        "fig = plt.figure(figsize = (10,6))\n",
        "ax = sns.boxplot(\"speed\", data = new_df, orient = \"v\")\n",
        "\n",
        "plt.tick_params(labelsize = 20)\n",
        "plt.ylabel(\"Speed(Miles/hr)\", fontsize = 20)\n",
        "plt.show()"
      ],
      "execution_count": 0,
      "outputs": [
        {
          "output_type": "display_data",
          "data": {
            "image/png": "[encoded data removed]",
            "text/plain": [
              "<Figure size 720x432 with 1 Axes>"
            ]
          },
          "metadata": {
            "tags": [],
            "needs_background": "light"
          }
        }
      ]
    },
    {
      "cell_type": "markdown",
      "metadata": {
        "id": "N5g0whaRqAao",
        "colab_type": "text"
      },
      "source": [
        "Average Speed of cabs in New-York"
      ]
    },
    {
      "cell_type": "code",
      "metadata": {
        "id": "bMbhg_dtp_EH",
        "colab_type": "code",
        "outputId": "635c498f-2158-497a-b195-8b70809c292e",
        "colab": {
          "base_uri": "https://localhost:8080/",
          "height": 34
        }
      },
      "source": [
        "Average_speed=sum(new_df[\"Speed\"]) / float(len(new_df[\"Speed\"]))\n",
        "print(\"Average Speed of Taxis around NYC = \"+str(Average_speed))"
      ],
      "execution_count": 0,
      "outputs": [
        {
          "output_type": "stream",
          "text": [
            "Average Speed of Taxis around NYC = 12.31526561189041\n"
          ],
          "name": "stdout"
        }
      ]
    },
    {
      "cell_type": "code",
      "metadata": {
        "id": "RjH4JilHqKGV",
        "colab_type": "code",
        "outputId": "4dbc6898-463a-4a99-c02c-1e5eeb129acc",
        "colab": {
          "base_uri": "https://localhost:8080/",
          "height": 34
        }
      },
      "source": [
        "print(\"Speed of Taxis around NYC per 10 minutes = \"+str(Average_speed/6)+\" per 10 minutes.\")"
      ],
      "execution_count": 0,
      "outputs": [
        {
          "output_type": "stream",
          "text": [
            "Speed of Taxis around NYC per 10 minutes = 2.052544268648402 per 10 minutes.\n"
          ],
          "name": "stdout"
        }
      ]
    },
    {
      "cell_type": "markdown",
      "metadata": {
        "id": "TFhlF9bqa9Jz",
        "colab_type": "text"
      },
      "source": [
        "**The avg speed in Newyork speed is 12.81miles/hr, so a cab driver can travel 2 miles per 10min on avg**"
      ]
    },
    {
      "cell_type": "markdown",
      "metadata": {
        "id": "IB8ykgYfbA1F",
        "colab_type": "text"
      },
      "source": [
        "#**Trip Distance**\n",
        "\n",
        "Plotting a boxplot to see if there are any outliers in Trip Distance"
      ]
    },
    {
      "cell_type": "code",
      "metadata": {
        "id": "_BtYFj22qUeI",
        "colab_type": "code",
        "outputId": "df374f7b-76ec-4d46-9f08-dbd2fe959555",
        "colab": {
          "base_uri": "https://localhost:8080/",
          "height": 252
        }
      },
      "source": [
        "sns.boxplot(y=\"trip_distance\", data =new_df)\n",
        "plt.show()"
      ],
      "execution_count": 0,
      "outputs": [
        {
          "output_type": "display_data",
          "data": {
            "image/png": "[encoded data removed]",
            "text/plain": [
              "<Figure size 432x288 with 1 Axes>"
            ]
          },
          "metadata": {
            "tags": [],
            "needs_background": "light"
          }
        }
      ]
    },
    {
      "cell_type": "markdown",
      "metadata": {
        "id": "-EkQOzkWgQgj",
        "colab_type": "text"
      },
      "source": [
        "Just as we did for trip duration and Speed, we calcualte percentile values \n",
        "from 0 to 100 to remove errorneous points."
      ]
    },
    {
      "cell_type": "code",
      "metadata": {
        "id": "tlLw3U8Hdb6R",
        "colab_type": "code",
        "colab": {}
      },
      "source": [
        "percentile_tripDistance = new_df.trip_distance.quantile(np.round(np.arange(0.00, 1.01, 0.01), 2))"
      ],
      "execution_count": 0,
      "outputs": []
    },
    {
      "cell_type": "markdown",
      "metadata": {
        "id": "7dcx04iNgcih",
        "colab_type": "text"
      },
      "source": [
        "calculating Trip distance at each percntile 0,10,20,30,40,50,60,70,80,90,100"
      ]
    },
    {
      "cell_type": "code",
      "metadata": {
        "id": "_C6U6TcrfrH4",
        "colab_type": "code",
        "outputId": "0b9b1ddf-ebc1-4fcd-c926-7221283f29f5",
        "colab": {
          "base_uri": "https://localhost:8080/",
          "height": 204
        }
      },
      "source": [
        "qValues = np.round(np.arange(0.00, 1.01, 0.1), 2)\n",
        "for i in qValues:\n",
        "    print(\"{}th percentile value of trip distance is {}miles\".format(int(i*100), percentile_tripDistance[i]))"
      ],
      "execution_count": 0,
      "outputs": [
        {
          "output_type": "stream",
          "text": [
            "0th percentile value of trip distance is 0.1miles\n",
            "10th percentile value of trip distance is 0.68miles\n",
            "20th percentile value of trip distance is 0.9000000000000001miles\n",
            "30th percentile value of trip distance is 1.1miles\n",
            "40th percentile value of trip distance is 1.38miles\n",
            "50th percentile value of trip distance is 1.67miles\n",
            "60th percentile value of trip distance is 2.04miles\n",
            "70th percentile value of trip distance is 2.6miles\n",
            "80th percentile value of trip distance is 3.5miles\n",
            "90th percentile value of trip distance is 5.866999999999971miles\n",
            "100th percentile value of trip distance is 49.9miles\n"
          ],
          "name": "stdout"
        }
      ]
    },
    {
      "cell_type": "markdown",
      "metadata": {
        "id": "aLklfHFMgYQt",
        "colab_type": "text"
      },
      "source": [
        "There is a huge difference between 90th percentile and 100th percentile here as well. Let calculate trip distance values at each percntile 90,91,92,93,94,95,96,97,98,99,100"
      ]
    },
    {
      "cell_type": "code",
      "metadata": {
        "id": "P9_vIID7f0fr",
        "colab_type": "code",
        "outputId": "d3ee790a-12fa-454e-a09a-35bd4839ab72",
        "colab": {
          "base_uri": "https://localhost:8080/",
          "height": 187
        }
      },
      "source": [
        "qValues = np.round(np.arange(0.91, 1.01, 0.01), 3)\n",
        "for i in qValues:\n",
        "    print(\"{} percentile value of trip distance is {}miles\".format(int(i*100), percentile_tripDistance[i]))"
      ],
      "execution_count": 0,
      "outputs": [
        {
          "output_type": "stream",
          "text": [
            "91 percentile value of trip distance is 6.32miles\n",
            "92 percentile value of trip distance is 6.9miles\n",
            "93 percentile value of trip distance is 7.6miles\n",
            "94 percentile value of trip distance is 8.5miles\n",
            "95 percentile value of trip distance is 9.4miles\n",
            "96 percentile value of trip distance is 10.3miles\n",
            "97 percentile value of trip distance is 11.652200000000011miles\n",
            "98 percentile value of trip distance is 15.107400000000052miles\n",
            "99 percentile value of trip distance is 18.0miles\n",
            "100 percentile value of trip distance is 49.9miles\n"
          ],
          "name": "stdout"
        }
      ]
    },
    {
      "cell_type": "markdown",
      "metadata": {
        "id": "nU30gzB1gv21",
        "colab_type": "text"
      },
      "source": [
        "Now again we see a huge difference in percentile between 99th and 100th. Calculating trip distance values at each percntile 99.0,99.1,99.2,99.3,99.4,99.5,99.6,99.7,99.8,99.9,100. "
      ]
    },
    {
      "cell_type": "code",
      "metadata": {
        "id": "SHZst-sHf4Sn",
        "colab_type": "code",
        "outputId": "2318bc03-f962-4656-a71f-e153ec723cbd",
        "colab": {
          "base_uri": "https://localhost:8080/",
          "height": 204
        }
      },
      "source": [
        "for i in np.arange(0.0, 1.0, 0.1):\n",
        "    var =new_df[\"trip_distance\"].values\n",
        "    var = np.sort(var,axis = None)\n",
        "    print(\"{} percentile value is {} miles\".format(99+i,var[int(len(var)*(float(99+i)/100))]))\n",
        "print(\"100 percentile value is \",var[-1])"
      ],
      "execution_count": 0,
      "outputs": [
        {
          "output_type": "stream",
          "text": [
            "99.0 percentile value is 18.0 miles\n",
            "99.1 percentile value is 18.2 miles\n",
            "99.2 percentile value is 18.4 miles\n",
            "99.3 percentile value is 18.64 miles\n",
            "99.4 percentile value is 18.9 miles\n",
            "99.5 percentile value is 19.25 miles\n",
            "99.6 percentile value is 19.64 miles\n",
            "99.7 percentile value is 20.2 miles\n",
            "99.8 percentile value is 20.9 miles\n",
            "99.9 percentile value is 21.84 miles\n",
            "100 percentile value is  49.9\n"
          ],
          "name": "stdout"
        }
      ]
    },
    {
      "cell_type": "markdown",
      "metadata": {
        "id": "yn0KrvGVg8PZ",
        "colab_type": "text"
      },
      "source": [
        "Here, 99.9th percentile of trip distance is 22.5 miles, however, 100th percentile value is 73.2 miles, which is quite high. So, we are removing all the data points where trip distance is greater than 23miles."
      ]
    },
    {
      "cell_type": "code",
      "metadata": {
        "id": "WycD1THRf9yf",
        "colab_type": "code",
        "colab": {}
      },
      "source": [
        "new_df = new_df[(new_df.trip_distance>0) & (new_df.trip_distance<23)]"
      ],
      "execution_count": 0,
      "outputs": []
    },
    {
      "cell_type": "markdown",
      "metadata": {
        "id": "S-yWXQM8hMAT",
        "colab_type": "text"
      },
      "source": [
        "Plotting Trip Distance after removing all outliers"
      ]
    },
    {
      "cell_type": "code",
      "metadata": {
        "id": "HHRPBtoahJft",
        "colab_type": "code",
        "outputId": "106c4b2b-2f85-4eeb-e522-4eb5a2299658",
        "colab": {
          "base_uri": "https://localhost:8080/",
          "height": 361
        }
      },
      "source": [
        "fig = plt.figure(figsize = (10,6))\n",
        "ax = sns.boxplot(\"trip_distance\", data = new_df, orient = \"v\")\n",
        "\n",
        "plt.tick_params(labelsize = 20)\n",
        "plt.ylabel(\"Trip Distance(Miles)\", fontsize = 20)\n",
        "plt.show()"
      ],
      "execution_count": 0,
      "outputs": [
        {
          "output_type": "display_data",
          "data": {
            "image/png": "[encoded data removed]",
            "text/plain": [
              "<Figure size 720x432 with 1 Axes>"
            ]
          },
          "metadata": {
            "tags": [],
            "needs_background": "light"
          }
        }
      ]
    },
    {
      "cell_type": "markdown",
      "metadata": {
        "id": "JTGEshmahmB4",
        "colab_type": "text"
      },
      "source": [
        "#**Total Fare**"
      ]
    },
    {
      "cell_type": "markdown",
      "metadata": {
        "id": "kLwm3j_GhvyR",
        "colab_type": "text"
      },
      "source": [
        "Plotting Total Fare, to see if there are any outliers"
      ]
    },
    {
      "cell_type": "code",
      "metadata": {
        "id": "xdmhQjcLhPOO",
        "colab_type": "code",
        "outputId": "36e5a405-89d4-461f-9e0b-67dab6252d83",
        "colab": {
          "base_uri": "https://localhost:8080/",
          "height": 252
        }
      },
      "source": [
        "sns.boxplot(y=\"total_amount\", data =new_df)\n",
        "plt.show()"
      ],
      "execution_count": 0,
      "outputs": [
        {
          "output_type": "display_data",
          "data": {
            "image/png": "[encoded data removed]",
            "text/plain": [
              "<Figure size 432x288 with 1 Axes>"
            ]
          },
          "metadata": {
            "tags": [],
            "needs_background": "light"
          }
        }
      ]
    },
    {
      "cell_type": "markdown",
      "metadata": {
        "id": "dYAGwcG138-B",
        "colab_type": "text"
      },
      "source": [
        "Just as we did for trip duration and Speed, we calcualte percentile values \n",
        "from 0 to 100  for total fare to remove errorneous points."
      ]
    },
    {
      "cell_type": "code",
      "metadata": {
        "id": "7ur6_ilSh30e",
        "colab_type": "code",
        "colab": {}
      },
      "source": [
        "percentile_totalAmount = new_df.total_amount.quantile(np.round(np.arange(0.00, 1.01, 0.01), 2))"
      ],
      "execution_count": 0,
      "outputs": []
    },
    {
      "cell_type": "code",
      "metadata": {
        "id": "RusPIjPP2z4G",
        "colab_type": "code",
        "outputId": "3756a968-cb7c-4db1-9550-c80202429b50",
        "colab": {
          "base_uri": "https://localhost:8080/",
          "height": 204
        }
      },
      "source": [
        "qValues = np.round(np.arange(0.00, 1.01, 0.1), 2)\n",
        "for i in qValues:\n",
        "    print(\"{}th percentile value of trip fare is {}\".format(int(i*100), percentile_totalAmount[i]))"
      ],
      "execution_count": 0,
      "outputs": [
        {
          "output_type": "stream",
          "text": [
            "0th percentile value of trip fare is -52.8\n",
            "10th percentile value of trip fare is 6.36\n",
            "20th percentile value of trip fare is 7.799999999999999\n",
            "30th percentile value of trip fare is 8.8\n",
            "40th percentile value of trip fare is 9.8\n",
            "50th percentile value of trip fare is 11.16\n",
            "60th percentile value of trip fare is 12.8\n",
            "70th percentile value of trip fare is 14.760000000000002\n",
            "80th percentile value of trip fare is 17.9\n",
            "90th percentile value of trip fare is 25.305999999999912\n",
            "100th percentile value of trip fare is 150.36\n"
          ],
          "name": "stdout"
        }
      ]
    },
    {
      "cell_type": "code",
      "metadata": {
        "id": "W5rL6jEF248V",
        "colab_type": "code",
        "outputId": "003b7697-0323-4131-cdc1-0055170ff31c",
        "colab": {
          "base_uri": "https://localhost:8080/",
          "height": 187
        }
      },
      "source": [
        " qValues = np.round(np.arange(0.91, 1.01, 0.01), 3)\n",
        "for i in qValues:\n",
        "    print(\"{} percentile value of trip fare is {}\".format(int(i*100), percentile_totalAmount[i]))"
      ],
      "execution_count": 0,
      "outputs": [
        {
          "output_type": "stream",
          "text": [
            "91 percentile value of trip fare is 26.8\n",
            "92 percentile value of trip fare is 28.8\n",
            "93 percentile value of trip fare is 30.96\n",
            "94 percentile value of trip fare is 33.8\n",
            "95 percentile value of trip fare is 37.25499999999956\n",
            "96 percentile value of trip fare is 41.0\n",
            "97 percentile value of trip fare is 46.2\n",
            "98 percentile value of trip fare is 54.8\n",
            "99 percentile value of trip fare is 63.35000000000001\n",
            "100 percentile value of trip fare is 150.36\n"
          ],
          "name": "stdout"
        }
      ]
    },
    {
      "cell_type": "code",
      "metadata": {
        "id": "4fIt5que3CMx",
        "colab_type": "code",
        "outputId": "a4c9e411-ef45-4c48-a03d-952c66fd19a0",
        "colab": {
          "base_uri": "https://localhost:8080/",
          "height": 187
        }
      },
      "source": [
        "quantile_totalAmount = new_df.total_amount.quantile(np.round(np.arange(0.991, 1.001, 0.001), 3))\n",
        "qValues = np.round(np.arange(0.991, 1.001, 0.001), 3)\n",
        "for i in qValues:\n",
        "    print(\"{} percentile value of trip fare is {}\".format((i*100), quantile_totalAmount[i]))"
      ],
      "execution_count": 0,
      "outputs": [
        {
          "output_type": "stream",
          "text": [
            "99.1 percentile value of trip fare is 64.63\n",
            "99.2 percentile value of trip fare is 66.13\n",
            "99.3 percentile value of trip fare is 68.13\n",
            "99.4 percentile value of trip fare is 69.6\n",
            "99.5 percentile value of trip fare is 69.6\n",
            "99.6 percentile value of trip fare is 69.73\n",
            "99.7 percentile value of trip fare is 69.76\n",
            "99.8 percentile value of trip fare is 70.97935999999987\n",
            "99.9 percentile value of trip fare is 72.66\n",
            "100.0 percentile value of trip fare is 150.36\n"
          ],
          "name": "stdout"
        }
      ]
    },
    {
      "cell_type": "markdown",
      "metadata": {
        "id": "iqXux6Mg4Ip4",
        "colab_type": "text"
      },
      "source": [
        " As even the 99.9th percentile value doesnt look like an outlier, as there is not much difference between the 99.8th percentile and 99.9th percentile, let's do some more graphical analyis.\n",
        " \n",
        " Plot the fare amount only for the last two highest values"
      ]
    },
    {
      "cell_type": "code",
      "metadata": {
        "id": "H_Swc_154WfK",
        "colab_type": "code",
        "outputId": "37cf1843-603a-42b8-aae1-e30d903265dd",
        "colab": {
          "base_uri": "https://localhost:8080/",
          "height": 265
        }
      },
      "source": [
        "plt.plot(var[:-2])\n",
        "plt.show()"
      ],
      "execution_count": 0,
      "outputs": [
        {
          "output_type": "display_data",
          "data": {
            "image/png": "[encoded data removed]",
            "text/plain": [
              "<Figure size 432x288 with 1 Axes>"
            ]
          },
          "metadata": {
            "tags": [],
            "needs_background": "light"
          }
        }
      ]
    },
    {
      "cell_type": "markdown",
      "metadata": {
        "id": "RohQZxq34e-z",
        "colab_type": "text"
      },
      "source": [
        "Plotting last three total fare values"
      ]
    },
    {
      "cell_type": "code",
      "metadata": {
        "id": "fm1Aas1g4mNK",
        "colab_type": "code",
        "outputId": "56274a74-1b6f-4f53-862d-32a650930b67",
        "colab": {
          "base_uri": "https://localhost:8080/",
          "height": 265
        }
      },
      "source": [
        "plt.plot(var[-3:])\n",
        "plt.show()"
      ],
      "execution_count": 0,
      "outputs": [
        {
          "output_type": "display_data",
          "data": {
            "image/png": "[encoded data removed]",
            "text/plain": [
              "<Figure size 432x288 with 1 Axes>"
            ]
          },
          "metadata": {
            "tags": [],
            "needs_background": "light"
          }
        }
      ]
    },
    {
      "cell_type": "markdown",
      "metadata": {
        "id": "OLJXZDV84pCp",
        "colab_type": "text"
      },
      "source": [
        "We can see that there is a very sharp increase in fare values at the second last value. Lets plot last 50 values excluding last two values"
      ]
    },
    {
      "cell_type": "code",
      "metadata": {
        "id": "cgxL0Ua64yo9",
        "colab_type": "code",
        "outputId": "55738ae3-c55e-42f9-b260-21887bca8296",
        "colab": {
          "base_uri": "https://localhost:8080/",
          "height": 265
        }
      },
      "source": [
        "plt.plot(var[-50:-2])\n",
        "plt.show()"
      ],
      "execution_count": 0,
      "outputs": [
        {
          "output_type": "display_data",
          "data": {
            "image/png": "[encoded data removed]",
            "text/plain": [
              "<Figure size 432x288 with 1 Axes>"
            ]
          },
          "metadata": {
            "tags": [],
            "needs_background": "light"
          }
        }
      ]
    },
    {
      "cell_type": "markdown",
      "metadata": {
        "id": "sta5mMql45YI",
        "colab_type": "text"
      },
      "source": [
        "We dont see any drastic changes in this previous graph. Thus, removing all outliers that are above the 99th percentile values"
      ]
    },
    {
      "cell_type": "code",
      "metadata": {
        "id": "NEYOsa8t3E8R",
        "colab_type": "code",
        "colab": {}
      },
      "source": [
        "new_df = new_df[(new_df.total_amount>0) & (new_df.total_amount<75.8)]"
      ],
      "execution_count": 0,
      "outputs": []
    },
    {
      "cell_type": "code",
      "metadata": {
        "id": "PUqYJDyW3rTG",
        "colab_type": "code",
        "outputId": "c3643fac-d314-44a0-a410-8ae3030cc6c5",
        "colab": {
          "base_uri": "https://localhost:8080/",
          "height": 361
        }
      },
      "source": [
        "fig = plt.figure(figsize = (10,6))\n",
        "ax = sns.boxplot(\"total_amount\", data = new_df, orient = \"v\")\n",
        "\n",
        "plt.tick_params(labelsize = 20)\n",
        "plt.ylabel(\"Trip Fare\", fontsize = 20)\n",
        "plt.show()"
      ],
      "execution_count": 0,
      "outputs": [
        {
          "output_type": "display_data",
          "data": {
            "image/png": "[encoded data removed]",
            "text/plain": [
              "<Figure size 720x432 with 1 Axes>"
            ]
          },
          "metadata": {
            "tags": [],
            "needs_background": "light"
          }
        }
      ]
    },
    {
      "cell_type": "markdown",
      "metadata": {
        "id": "eGPfzg6pbvap",
        "colab_type": "text"
      },
      "source": [
        "# Data Preparation\n",
        "\n",
        "---\n",
        "\n"
      ]
    },
    {
      "cell_type": "markdown",
      "metadata": {
        "id": "sYpfEDJko4WH",
        "colab_type": "text"
      },
      "source": [
        "###**1. Clustering and Segmentation**\n",
        "\n",
        "The plan is to divide the whole New York city region into clusters. Here, we use K-Means clustering based on pickup size and divide the latitue and longitude of area.\n",
        "\n",
        "What will be the optimal number of clusters? In other words, How to find the k value in k means."
      ]
    },
    {
      "cell_type": "code",
      "metadata": {
        "id": "is34zphd3xdm",
        "colab_type": "code",
        "outputId": "ca592d9f-c35f-42d0-aae1-455242d5e20f",
        "colab": {
          "base_uri": "https://localhost:8080/",
          "height": 782
        }
      },
      "source": [
        "#trying different cluster sizes to choose the right K in K-means\n",
        "coords = new_df[['pickup_latitude', 'pickup_longitude']].values\n",
        "neighbours=[]\n",
        "\n",
        "def find_min_distance(cluster_centers, cluster_len):\n",
        "    nice_points = 0\n",
        "    wrong_points = 0\n",
        "    less2 = []\n",
        "    more2 = []\n",
        "    min_dist=1000\n",
        "    for i in range(0, cluster_len):\n",
        "        nice_points = 0\n",
        "        wrong_points = 0\n",
        "        for j in range(0, cluster_len):\n",
        "            if j!=i:\n",
        "                distance = gpxpy.geo.haversine_distance(cluster_centers[i][0], cluster_centers[i][1],cluster_centers[j][0], cluster_centers[j][1])\n",
        "                min_dist = min(min_dist,distance/(1.60934*1000))\n",
        "                if (distance/(1.60934*1000)) <= 2:\n",
        "                    nice_points +=1\n",
        "                else:\n",
        "                    wrong_points += 1\n",
        "        less2.append(nice_points)\n",
        "        more2.append(wrong_points)\n",
        "    neighbours.append(less2)\n",
        "    print (\"On choosing a cluster size of \",cluster_len,\"\\nAvg. Number of Clusters within the vicinity (i.e. intercluster-distance < 2):\", np.ceil(sum(less2)/len(less2)), \"\\nAvg. Number of Clusters outside the vicinity (i.e. intercluster-distance > 2):\", np.ceil(sum(more2)/len(more2)),\"\\nMin inter-cluster distance = \",min_dist,\"\\n---\")\n",
        "\n",
        "def find_clusters(increment):\n",
        "    kmeans = MiniBatchKMeans(n_clusters=increment, batch_size=10000,random_state=42).fit(coords)\n",
        "    new_df['pickup_cluster'] = kmeans.predict(new_df[['pickup_latitude', 'pickup_longitude']])\n",
        "    cluster_centers = kmeans.cluster_centers_\n",
        "    cluster_len = len(cluster_centers)\n",
        "    return cluster_centers, cluster_len\n",
        "\n",
        "# we need to choose number of clusters so that, there are more number of cluster regions \n",
        "#that are close to any cluster center\n",
        "# and make sure that the minimum inter cluster should not be very less\n",
        "for increment in range(10, 100, 10):\n",
        "    cluster_centers, cluster_len = find_clusters(increment)\n",
        "    find_min_distance(cluster_centers, cluster_len)"
      ],
      "execution_count": 0,
      "outputs": [
        {
          "output_type": "stream",
          "text": [
            "On choosing a cluster size of  10 \n",
            "Avg. Number of Clusters within the vicinity (i.e. intercluster-distance < 2): 3.0 \n",
            "Avg. Number of Clusters outside the vicinity (i.e. intercluster-distance > 2): 7.0 \n",
            "Min inter-cluster distance =  0.8013023266730324 \n",
            "---\n",
            "On choosing a cluster size of  20 \n",
            "Avg. Number of Clusters within the vicinity (i.e. intercluster-distance < 2): 5.0 \n",
            "Avg. Number of Clusters outside the vicinity (i.e. intercluster-distance > 2): 15.0 \n",
            "Min inter-cluster distance =  0.6325999235385152 \n",
            "---\n",
            "On choosing a cluster size of  30 \n",
            "Avg. Number of Clusters within the vicinity (i.e. intercluster-distance < 2): 8.0 \n",
            "Avg. Number of Clusters outside the vicinity (i.e. intercluster-distance > 2): 22.0 \n",
            "Min inter-cluster distance =  0.40515457957393486 \n",
            "---\n",
            "On choosing a cluster size of  40 \n",
            "Avg. Number of Clusters within the vicinity (i.e. intercluster-distance < 2): 9.0 \n",
            "Avg. Number of Clusters outside the vicinity (i.e. intercluster-distance > 2): 31.0 \n",
            "Min inter-cluster distance =  0.3490440972265745 \n",
            "---\n",
            "On choosing a cluster size of  50 \n",
            "Avg. Number of Clusters within the vicinity (i.e. intercluster-distance < 2): 12.0 \n",
            "Avg. Number of Clusters outside the vicinity (i.e. intercluster-distance > 2): 38.0 \n",
            "Min inter-cluster distance =  0.3813075131260576 \n",
            "---\n",
            "On choosing a cluster size of  60 \n",
            "Avg. Number of Clusters within the vicinity (i.e. intercluster-distance < 2): 16.0 \n",
            "Avg. Number of Clusters outside the vicinity (i.e. intercluster-distance > 2): 44.0 \n",
            "Min inter-cluster distance =  0.1380545284839258 \n",
            "---\n",
            "On choosing a cluster size of  70 \n",
            "Avg. Number of Clusters within the vicinity (i.e. intercluster-distance < 2): 18.0 \n",
            "Avg. Number of Clusters outside the vicinity (i.e. intercluster-distance > 2): 52.0 \n",
            "Min inter-cluster distance =  0.12184488386533704 \n",
            "---\n",
            "On choosing a cluster size of  80 \n",
            "Avg. Number of Clusters within the vicinity (i.e. intercluster-distance < 2): 22.0 \n",
            "Avg. Number of Clusters outside the vicinity (i.e. intercluster-distance > 2): 58.0 \n",
            "Min inter-cluster distance =  0.11449401530238609 \n",
            "---\n",
            "On choosing a cluster size of  90 \n",
            "Avg. Number of Clusters within the vicinity (i.e. intercluster-distance < 2): 25.0 \n",
            "Avg. Number of Clusters outside the vicinity (i.e. intercluster-distance > 2): 65.0 \n",
            "Min inter-cluster distance =  0.09618245926891589 \n",
            "---\n"
          ],
          "name": "stdout"
        }
      ]
    },
    {
      "cell_type": "markdown",
      "metadata": {
        "id": "_rHyS6_Cejf-",
        "colab_type": "text"
      },
      "source": [
        "#### Observation: \n",
        "\n",
        "The main objective was to find a optimal minimum inner cluster distance between two data points which is 2 miles.(Which roughly estimates to the radius of a cluster). The region cannot be less than 0.5 miles as it will make the cluster very small.\n",
        "\n",
        "When the number of clusters is 30 and 40, this above condition is met.If we check 50 clusters, we can see that there are two clusters with only 0.3 miles apart. Going forward, we will be considering the number of cluster 40."
      ]
    },
    {
      "cell_type": "code",
      "metadata": {
        "id": "uJj-M7Tvb1LQ",
        "colab_type": "code",
        "outputId": "2c64de58-f960-480d-a093-cde048f412f6",
        "colab": {
          "base_uri": "https://localhost:8080/",
          "height": 224
        }
      },
      "source": [
        "# if check for the 50 clusters you can observe that there are two clusters with only 0.3 miles apart from each other\n",
        "# so we choose 40 clusters for solve the further problem\n",
        "\n",
        "# Getting 40 clusters using the kmeans \n",
        "coord = new_df[[\"pickup_latitude\", \"pickup_longitude\"]].values\n",
        "kmeans = MiniBatchKMeans(n_clusters=30, batch_size=10000,random_state=0).fit(coords)\n",
        "new_df['pickup_cluster'] = kmeans.predict(new_df[['pickup_latitude', 'pickup_longitude']])\n",
        "new_df.head()"
      ],
      "execution_count": 0,
      "outputs": [
        {
          "output_type": "execute_result",
          "data": {
            "text/html": [
              "<div>\n",
              "<style scoped>\n",
              "    .dataframe tbody tr th:only-of-type {\n",
              "        vertical-align: middle;\n",
              "    }\n",
              "\n",
              "    .dataframe tbody tr th {\n",
              "        vertical-align: top;\n",
              "    }\n",
              "\n",
              "    .dataframe thead th {\n",
              "        text-align: right;\n",
              "    }\n",
              "</style>\n",
              "<table border=\"1\" class=\"dataframe\">\n",
              "  <thead>\n",
              "    <tr style=\"text-align: right;\">\n",
              "      <th></th>\n",
              "      <th>passenger_count</th>\n",
              "      <th>trip_distance</th>\n",
              "      <th>pickup_longitude</th>\n",
              "      <th>pickup_latitude</th>\n",
              "      <th>dropoff_longitude</th>\n",
              "      <th>dropoff_latitude</th>\n",
              "      <th>total_amount</th>\n",
              "      <th>trip_duration</th>\n",
              "      <th>pickup_times</th>\n",
              "      <th>speed</th>\n",
              "      <th>Speed</th>\n",
              "      <th>pickup_cluster</th>\n",
              "    </tr>\n",
              "  </thead>\n",
              "  <tbody>\n",
              "    <tr>\n",
              "      <th>0</th>\n",
              "      <td>1</td>\n",
              "      <td>1.59</td>\n",
              "      <td>-73.993896</td>\n",
              "      <td>40.750111</td>\n",
              "      <td>-73.974785</td>\n",
              "      <td>40.750618</td>\n",
              "      <td>17.05</td>\n",
              "      <td>18.050000</td>\n",
              "      <td>1.421349e+09</td>\n",
              "      <td>5.285319</td>\n",
              "      <td>5.285319</td>\n",
              "      <td>18</td>\n",
              "    </tr>\n",
              "    <tr>\n",
              "      <th>1</th>\n",
              "      <td>1</td>\n",
              "      <td>3.30</td>\n",
              "      <td>-74.001648</td>\n",
              "      <td>40.724243</td>\n",
              "      <td>-73.994415</td>\n",
              "      <td>40.759109</td>\n",
              "      <td>17.80</td>\n",
              "      <td>19.833333</td>\n",
              "      <td>1.420922e+09</td>\n",
              "      <td>9.983193</td>\n",
              "      <td>9.983193</td>\n",
              "      <td>19</td>\n",
              "    </tr>\n",
              "    <tr>\n",
              "      <th>2</th>\n",
              "      <td>1</td>\n",
              "      <td>1.80</td>\n",
              "      <td>-73.963341</td>\n",
              "      <td>40.802788</td>\n",
              "      <td>-73.951820</td>\n",
              "      <td>40.824413</td>\n",
              "      <td>10.80</td>\n",
              "      <td>10.050000</td>\n",
              "      <td>1.420922e+09</td>\n",
              "      <td>10.746269</td>\n",
              "      <td>10.746269</td>\n",
              "      <td>12</td>\n",
              "    </tr>\n",
              "    <tr>\n",
              "      <th>3</th>\n",
              "      <td>1</td>\n",
              "      <td>0.50</td>\n",
              "      <td>-74.009087</td>\n",
              "      <td>40.713818</td>\n",
              "      <td>-74.004326</td>\n",
              "      <td>40.719986</td>\n",
              "      <td>4.80</td>\n",
              "      <td>1.866667</td>\n",
              "      <td>1.420922e+09</td>\n",
              "      <td>16.071429</td>\n",
              "      <td>16.071429</td>\n",
              "      <td>3</td>\n",
              "    </tr>\n",
              "    <tr>\n",
              "      <th>4</th>\n",
              "      <td>1</td>\n",
              "      <td>3.00</td>\n",
              "      <td>-73.971176</td>\n",
              "      <td>40.762428</td>\n",
              "      <td>-74.004181</td>\n",
              "      <td>40.742653</td>\n",
              "      <td>16.30</td>\n",
              "      <td>19.316667</td>\n",
              "      <td>1.420922e+09</td>\n",
              "      <td>9.318378</td>\n",
              "      <td>9.318378</td>\n",
              "      <td>23</td>\n",
              "    </tr>\n",
              "  </tbody>\n",
              "</table>\n",
              "</div>"
            ],
            "text/plain": [
              "   passenger_count  trip_distance  ...      Speed  pickup_cluster\n",
              "0                1           1.59  ...   5.285319              18\n",
              "1                1           3.30  ...   9.983193              19\n",
              "2                1           1.80  ...  10.746269              12\n",
              "3                1           0.50  ...  16.071429               3\n",
              "4                1           3.00  ...   9.318378              23\n",
              "\n",
              "[5 rows x 12 columns]"
            ]
          },
          "metadata": {
            "tags": []
          },
          "execution_count": 70
        }
      ]
    },
    {
      "cell_type": "markdown",
      "metadata": {
        "id": "2MzP7hsAe3re",
        "colab_type": "text"
      },
      "source": [
        "#### Plotting the cluster centers:¶\n"
      ]
    },
    {
      "cell_type": "code",
      "metadata": {
        "id": "cjZ6Tccaeyx9",
        "colab_type": "code",
        "outputId": "e3e23e60-fe4b-4a1a-9091-d44a38023998",
        "colab": {
          "base_uri": "https://localhost:8080/",
          "height": 627
        }
      },
      "source": [
        "# Plotting the cluster centers on OSM\n",
        "cluster_centers = kmeans.cluster_centers_\n",
        "cluster_len = len(cluster_centers)\n",
        "map_osm = folium.Map(location=[40.734695, -73.990372], tiles='Stamen Toner')\n",
        "for i in range(cluster_len):\n",
        "    folium.Marker(list((cluster_centers[i][0],cluster_centers[i][1])), popup=(str(cluster_centers[i][0])+str(cluster_centers[i][1]))).add_to(map_osm)\n",
        "map_osm\n"
      ],
      "execution_count": 0,
      "outputs": [
        {
          "output_type": "execute_result",
          "data": {
            "text/html": [
              "<div style=\"width:100%;\"><div style=\"position:relative;width:100%;height:0;padding-bottom:60%;\"><iframe src=\"about:blank\" style=\"position:absolute;width:100%;height:100%;left:0;top:0;border:none !important;\" data-html=PCFET0NUWVBFIGh0bWw+CjxoZWFkPiAgICAKICAgIDxtZXRhIGh0dHAtZXF1aXY9ImNvbnRlbnQtdHlwZSIgY29udGVudD0idGV4dC9odG1sOyBjaGFyc2V0PVVURi04IiAvPgogICAgPHNjcmlwdD5MX1BSRUZFUl9DQU5WQVM9ZmFsc2U7IExfTk9fVE9VQ0g9ZmFsc2U7IExfRElTQUJMRV8zRD1mYWxzZTs8L3NjcmlwdD4KICAgIDxzY3JpcHQgc3JjPSJodHRwczovL2Nkbi5qc2RlbGl2ci5uZXQvbnBtL2xlYWZsZXRAMS40LjAvZGlzdC9sZWFmbGV0LmpzIj48L3NjcmlwdD4KICAgIDxzY3JpcHQgc3JjPSJodHRwczovL2NvZGUuanF1ZXJ5LmNvbS9qcXVlcnktMS4xMi40Lm1pbi5qcyI+PC9zY3JpcHQ+CiAgICA8c2NyaXB0IHNyYz0iaHR0cHM6Ly9tYXhjZG4uYm9vdHN0cmFwY2RuLmNvbS9ib290c3RyYXAvMy4yLjAvanMvYm9vdHN0cmFwLm1pbi5qcyI+PC9zY3JpcHQ+CiAgICA8c2NyaXB0IHNyYz0iaHR0cHM6Ly9jZG5qcy5jbG91ZGZsYXJlLmNvbS9hamF4L2xpYnMvTGVhZmxldC5hd2Vzb21lLW1hcmtlcnMvMi4wLjIvbGVhZmxldC5hd2Vzb21lLW1hcmtlcnMuanMiPjwvc2NyaXB0PgogICAgPGxpbmsgcmVsPSJzdHlsZXNoZWV0IiBocmVmPSJodHRwczovL2Nkbi5qc2RlbGl2ci5uZXQvbnBtL2xlYWZsZXRAMS40LjAvZGlzdC9sZWFmbGV0LmNzcyIvPgogICAgPGxpbmsgcmVsPSJzdHlsZXNoZWV0IiBocmVmPSJodHRwczovL21heGNkbi5ib290c3RyYXBjZG4uY29tL2Jvb3RzdHJhcC8zLjIuMC9jc3MvYm9vdHN0cmFwLm1pbi5jc3MiLz4KICAgIDxsaW5rIHJlbD0ic3R5bGVzaGVldCIgaHJlZj0iaHR0cHM6Ly9tYXhjZG4uYm9vdHN0cmFwY2RuLmNvbS9ib290c3RyYXAvMy4yLjAvY3NzL2Jvb3RzdHJhcC10aGVtZS5taW4uY3NzIi8+CiAgICA8bGluayByZWw9InN0eWxlc2hlZXQiIGhyZWY9Imh0dHBzOi8vbWF4Y2RuLmJvb3RzdHJhcGNkbi5jb20vZm9udC1hd2Vzb21lLzQuNi4zL2Nzcy9mb250LWF3ZXNvbWUubWluLmNzcyIvPgogICAgPGxpbmsgcmVsPSJzdHlsZXNoZWV0IiBocmVmPSJodHRwczovL2NkbmpzLmNsb3VkZmxhcmUuY29tL2FqYXgvbGlicy9MZWFmbGV0LmF3ZXNvbWUtbWFya2Vycy8yLjAuMi9sZWFmbGV0LmF3ZXNvbWUtbWFya2Vycy5jc3MiLz4KICAgIDxsaW5rIHJlbD0ic3R5bGVzaGVldCIgaHJlZj0iaHR0cHM6Ly9yYXdjZG4uZ2l0aGFjay5jb20vcHl0aG9uLXZpc3VhbGl6YXRpb24vZm9saXVtL21hc3Rlci9mb2xpdW0vdGVtcGxhdGVzL2xlYWZsZXQuYXdlc29tZS5yb3RhdGUuY3NzIi8+CiAgICA8c3R5bGU+aHRtbCwgYm9keSB7d2lkdGg6IDEwMCU7aGVpZ2h0OiAxMDAlO21hcmdpbjogMDtwYWRkaW5nOiAwO308L3N0eWxlPgogICAgPHN0eWxlPiNtYXAge3Bvc2l0aW9uOmFic29sdXRlO3RvcDowO2JvdHRvbTowO3JpZ2h0OjA7bGVmdDowO308L3N0eWxlPgogICAgCiAgICA8bWV0YSBuYW1lPSJ2aWV3cG9ydCIgY29udGVudD0id2lkdGg9ZGV2aWNlLXdpZHRoLAogICAgICAgIGluaXRpYWwtc2NhbGU9MS4wLCBtYXhpbXVtLXNjYWxlPTEuMCwgdXNlci1zY2FsYWJsZT1ubyIgLz4KICAgIDxzdHlsZT4jbWFwXzAxZDdkZmY5YTY5MTRjMmZiNmM3ZTkxYjYxYzE0MmNlIHsKICAgICAgICBwb3NpdGlvbjogcmVsYXRpdmU7CiAgICAgICAgd2lkdGg6IDEwMC4wJTsKICAgICAgICBoZWlnaHQ6IDEwMC4wJTsKICAgICAgICBsZWZ0OiAwLjAlOwogICAgICAgIHRvcDogMC4wJTsKICAgICAgICB9CiAgICA8L3N0eWxlPgo8L2hlYWQ+Cjxib2R5PiAgICAKICAgIAogICAgPGRpdiBjbGFzcz0iZm9saXVtLW1hcCIgaWQ9Im1hcF8wMWQ3ZGZmOWE2OTE0YzJmYjZjN2U5MWI2MWMxNDJjZSIgPjwvZGl2Pgo8L2JvZHk+CjxzY3JpcHQ+ICAgIAogICAgCiAgICAKICAgICAgICB2YXIgYm91bmRzID0gbnVsbDsKICAgIAoKICAgIHZhciBtYXBfMDFkN2RmZjlhNjkxNGMyZmI2YzdlOTFiNjFjMTQyY2UgPSBMLm1hcCgKICAgICAgICAnbWFwXzAxZDdkZmY5YTY5MTRjMmZiNmM3ZTkxYjYxYzE0MmNlJywgewogICAgICAgIGNlbnRlcjogWzQwLjczNDY5NSwgLTczLjk5MDM3Ml0sCiAgICAgICAgem9vbTogMTAsCiAgICAgICAgbWF4Qm91bmRzOiBib3VuZHMsCiAgICAgICAgbGF5ZXJzOiBbXSwKICAgICAgICB3b3JsZENvcHlKdW1wOiBmYWxzZSwKICAgICAgICBjcnM6IEwuQ1JTLkVQU0czODU3LAogICAgICAgIHpvb21Db250cm9sOiB0cnVlLAogICAgICAgIH0pOwoKCiAgICAKICAgIHZhciB0aWxlX2xheWVyXzUwNjFkZDFlMDNjYTRkMWU4NjY0MWNjNDcyODNkYTAxID0gTC50aWxlTGF5ZXIoCiAgICAgICAgJ2h0dHBzOi8vc3RhbWVuLXRpbGVzLXtzfS5hLnNzbC5mYXN0bHkubmV0L3RvbmVyL3t6fS97eH0ve3l9LnBuZycsCiAgICAgICAgewogICAgICAgICJhdHRyaWJ1dGlvbiI6IG51bGwsCiAgICAgICAgImRldGVjdFJldGluYSI6IGZhbHNlLAogICAgICAgICJtYXhOYXRpdmVab29tIjogMTgsCiAgICAgICAgIm1heFpvb20iOiAxOCwKICAgICAgICAibWluWm9vbSI6IDAsCiAgICAgICAgIm5vV3JhcCI6IGZhbHNlLAogICAgICAgICJvcGFjaXR5IjogMSwKICAgICAgICAic3ViZG9tYWlucyI6ICJhYmMiLAogICAgICAgICJ0bXMiOiBmYWxzZQp9KS5hZGRUbyhtYXBfMDFkN2RmZjlhNjkxNGMyZmI2YzdlOTFiNjFjMTQyY2UpOwogICAgCiAgICAgICAgdmFyIG1hcmtlcl8yMzU3OTJlMWZmOTY0NmUwODFkYWFlOTJlNWQzNzlkZiA9IEwubWFya2VyKAogICAgICAgICAgICBbNDAuNzU1MjQzMjQ4NDYyODMsIC03My45ODA4NTA3NTA5MjcyN10sCiAgICAgICAgICAgIHsKICAgICAgICAgICAgICAgIGljb246IG5ldyBMLkljb24uRGVmYXVsdCgpLAogICAgICAgICAgICAgICAgfQogICAgICAgICAgICApLmFkZFRvKG1hcF8wMWQ3ZGZmOWE2OTE0YzJmYjZjN2U5MWI2MWMxNDJjZSk7CiAgICAgICAgCiAgICAKICAgICAgICAgICAgdmFyIHBvcHVwX2U2MGEyMGQ4NjY3YjQ3ZGQ5ZDczZGE5YjExYzgwZGJlID0gTC5wb3B1cCh7bWF4V2lkdGg6ICcxMDAlJwogICAgICAgICAgICAKICAgICAgICAgICAgfSk7CgogICAgICAgICAgICAKICAgICAgICAgICAgICAgIHZhciBodG1sXzczZjEzM2Q1ZDNjODQ2MWJhMTFiODE5NTJmNWQ1OWViID0gJChgPGRpdiBpZD0iaHRtbF83M2YxMzNkNWQzYzg0NjFiYTExYjgxOTUyZjVkNTllYiIgc3R5bGU9IndpZHRoOiAxMDAuMCU7IGhlaWdodDogMTAwLjAlOyI+NDAuNzU1MjQzMjQ4NDYyODMtNzMuOTgwODUwNzUwOTI3Mjc8L2Rpdj5gKVswXTsKICAgICAgICAgICAgICAgIHBvcHVwX2U2MGEyMGQ4NjY3YjQ3ZGQ5ZDczZGE5YjExYzgwZGJlLnNldENvbnRlbnQoaHRtbF83M2YxMzNkNWQzYzg0NjFiYTExYjgxOTUyZjVkNTllYik7CiAgICAgICAgICAgIAoKICAgICAgICAgICAgbWFya2VyXzIzNTc5MmUxZmY5NjQ2ZTA4MWRhYWU5MmU1ZDM3OWRmLmJpbmRQb3B1cChwb3B1cF9lNjBhMjBkODY2N2I0N2RkOWQ3M2RhOWIxMWM4MGRiZSkKICAgICAgICAgICAgOwoKICAgICAgICAgICAgCiAgICAgICAgCiAgICAKICAgICAgICB2YXIgbWFya2VyXzE3ODM0MjliZDc3ODQzMjliZjAzYzZjOWFmODg3N2Y4ID0gTC5tYXJrZXIoCiAgICAgICAgICAgIFs0MC42NDU0NzAxODE1MTM2OSwgLTczLjc4NDM1ODQ2MTUwMjE1XSwKICAgICAgICAgICAgewogICAgICAgICAgICAgICAgaWNvbjogbmV3IEwuSWNvbi5EZWZhdWx0KCksCiAgICAgICAgICAgICAgICB9CiAgICAgICAgICAgICkuYWRkVG8obWFwXzAxZDdkZmY5YTY5MTRjMmZiNmM3ZTkxYjYxYzE0MmNlKTsKICAgICAgICAKICAgIAogICAgICAgICAgICB2YXIgcG9wdXBfODZiOTA0YTQyMDFjNDQ3NTljOWQxZmM4NDRhM2NiMWIgPSBMLnBvcHVwKHttYXhXaWR0aDogJzEwMCUnCiAgICAgICAgICAgIAogICAgICAgICAgICB9KTsKCiAgICAgICAgICAgIAogICAgICAgICAgICAgICAgdmFyIGh0bWxfYTRjMmViNjQ3Mzg5NGZhZjkzNGFhOTVjMWRlMWI5NmUgPSAkKGA8ZGl2IGlkPSJodG1sX2E0YzJlYjY0NzM4OTRmYWY5MzRhYTk1YzFkZTFiOTZlIiBzdHlsZT0id2lkdGg6IDEwMC4wJTsgaGVpZ2h0OiAxMDAuMCU7Ij40MC42NDU0NzAxODE1MTM2OS03My43ODQzNTg0NjE1MDIxNTwvZGl2PmApWzBdOwogICAgICAgICAgICAgICAgcG9wdXBfODZiOTA0YTQyMDFjNDQ3NTljOWQxZmM4NDRhM2NiMWIuc2V0Q29udGVudChodG1sX2E0YzJlYjY0NzM4OTRmYWY5MzRhYTk1YzFkZTFiOTZlKTsKICAgICAgICAgICAgCgogICAgICAgICAgICBtYXJrZXJfMTc4MzQyOWJkNzc4NDMyOWJmMDNjNmM5YWY4ODc3ZjguYmluZFBvcHVwKHBvcHVwXzg2YjkwNGE0MjAxYzQ0NzU5YzlkMWZjODQ0YTNjYjFiKQogICAgICAgICAgICA7CgogICAgICAgICAgICAKICAgICAgICAKICAgIAogICAgICAgIHZhciBtYXJrZXJfNmVmY2QxM2IyN2JjNGI2YWJmNTkwZWNkNzVlODUzNTUgPSBMLm1hcmtlcigKICAgICAgICAgICAgWzQwLjc4NDU5NjYwNTU1NTE5NCwgLTczLjk1MDM1MzIyMjY2OTAxXSwKICAgICAgICAgICAgewogICAgICAgICAgICAgICAgaWNvbjogbmV3IEwuSWNvbi5EZWZhdWx0KCksCiAgICAgICAgICAgICAgICB9CiAgICAgICAgICAgICkuYWRkVG8obWFwXzAxZDdkZmY5YTY5MTRjMmZiNmM3ZTkxYjYxYzE0MmNlKTsKICAgICAgICAKICAgIAogICAgICAgICAgICB2YXIgcG9wdXBfMjNmOGE1Mzc3NTAwNDA3NmIzZmFiNWYzZTJiMmY3OGEgPSBMLnBvcHVwKHttYXhXaWR0aDogJzEwMCUnCiAgICAgICAgICAgIAogICAgICAgICAgICB9KTsKCiAgICAgICAgICAgIAogICAgICAgICAgICAgICAgdmFyIGh0bWxfNWI3MWE3MjNkNDI4NGJjMmExMjFjNWU3NzliZDk5MmQgPSAkKGA8ZGl2IGlkPSJodG1sXzViNzFhNzIzZDQyODRiYzJhMTIxYzVlNzc5YmQ5OTJkIiBzdHlsZT0id2lkdGg6IDEwMC4wJTsgaGVpZ2h0OiAxMDAuMCU7Ij40MC43ODQ1OTY2MDU1NTUxOTQtNzMuOTUwMzUzMjIyNjY5MDE8L2Rpdj5gKVswXTsKICAgICAgICAgICAgICAgIHBvcHVwXzIzZjhhNTM3NzUwMDQwNzZiM2ZhYjVmM2UyYjJmNzhhLnNldENvbnRlbnQoaHRtbF81YjcxYTcyM2Q0Mjg0YmMyYTEyMWM1ZTc3OWJkOTkyZCk7CiAgICAgICAgICAgIAoKICAgICAgICAgICAgbWFya2VyXzZlZmNkMTNiMjdiYzRiNmFiZjU5MGVjZDc1ZTg1MzU1LmJpbmRQb3B1cChwb3B1cF8yM2Y4YTUzNzc1MDA0MDc2YjNmYWI1ZjNlMmIyZjc4YSkKICAgICAgICAgICAgOwoKICAgICAgICAgICAgCiAgICAgICAgCiAgICAKICAgICAgICB2YXIgbWFya2VyXzYwZGJmZTNiZDIyMjQzNWQ5MmZlM2ZhOWRhOGM1OWQ5ID0gTC5tYXJrZXIoCiAgICAgICAgICAgIFs0MC43MTc4MTczODg5MTYwMiwgLTc0LjAwOTMyNjU5MzU3MjQ0XSwKICAgICAgICAgICAgewogICAgICAgICAgICAgICAgaWNvbjogbmV3IEwuSWNvbi5EZWZhdWx0KCksCiAgICAgICAgICAgICAgICB9CiAgICAgICAgICAgICkuYWRkVG8obWFwXzAxZDdkZmY5YTY5MTRjMmZiNmM3ZTkxYjYxYzE0MmNlKTsKICAgICAgICAKICAgIAogICAgICAgICAgICB2YXIgcG9wdXBfODQyYWIxNDFjNjNlNDdkOTk2NDY4YTU5MjVmMWQ1NTggPSBMLnBvcHVwKHttYXhXaWR0aDogJzEwMCUnCiAgICAgICAgICAgIAogICAgICAgICAgICB9KTsKCiAgICAgICAgICAgIAogICAgICAgICAgICAgICAgdmFyIGh0bWxfYjExNmZmMWUyZWIyNDU2ZGEwNGJmYzI1YTM4ZmI5ZjAgPSAkKGA8ZGl2IGlkPSJodG1sX2IxMTZmZjFlMmViMjQ1NmRhMDRiZmMyNWEzOGZiOWYwIiBzdHlsZT0id2lkdGg6IDEwMC4wJTsgaGVpZ2h0OiAxMDAuMCU7Ij40MC43MTc4MTczODg5MTYwMi03NC4wMDkzMjY1OTM1NzI0NDwvZGl2PmApWzBdOwogICAgICAgICAgICAgICAgcG9wdXBfODQyYWIxNDFjNjNlNDdkOTk2NDY4YTU5MjVmMWQ1NTguc2V0Q29udGVudChodG1sX2IxMTZmZjFlMmViMjQ1NmRhMDRiZmMyNWEzOGZiOWYwKTsKICAgICAgICAgICAgCgogICAgICAgICAgICBtYXJrZXJfNjBkYmZlM2JkMjIyNDM1ZDkyZmUzZmE5ZGE4YzU5ZDkuYmluZFBvcHVwKHBvcHVwXzg0MmFiMTQxYzYzZTQ3ZDk5NjQ2OGE1OTI1ZjFkNTU4KQogICAgICAgICAgICA7CgogICAgICAgICAgICAKICAgICAgICAKICAgIAogICAgICAgIHZhciBtYXJrZXJfMjEwMTM3MmM1NmU4NDI5NWI4ZWE4NzIxOGNjZWIwY2IgPSBMLm1hcmtlcigKICAgICAgICAgICAgWzQwLjc3MjEzODgzNjIyOTI5NiwgLTczLjg2OTUyODQzNzMyNTc2XSwKICAgICAgICAgICAgewogICAgICAgICAgICAgICAgaWNvbjogbmV3IEwuSWNvbi5EZWZhdWx0KCksCiAgICAgICAgICAgICAgICB9CiAgICAgICAgICAgICkuYWRkVG8obWFwXzAxZDdkZmY5YTY5MTRjMmZiNmM3ZTkxYjYxYzE0MmNlKTsKICAgICAgICAKICAgIAogICAgICAgICAgICB2YXIgcG9wdXBfYzBkZjY5NDIyMmY5NGI0MmEwNDk3MTMzOGFiOTRjZDEgPSBMLnBvcHVwKHttYXhXaWR0aDogJzEwMCUnCiAgICAgICAgICAgIAogICAgICAgICAgICB9KTsKCiAgICAgICAgICAgIAogICAgICAgICAgICAgICAgdmFyIGh0bWxfM2RiMDQ4MjM1MjhiNGVmN2IzYmI5NWNmMDM3Yjc3MTkgPSAkKGA8ZGl2IGlkPSJodG1sXzNkYjA0ODIzNTI4YjRlZjdiM2JiOTVjZjAzN2I3NzE5IiBzdHlsZT0id2lkdGg6IDEwMC4wJTsgaGVpZ2h0OiAxMDAuMCU7Ij40MC43NzIxMzg4MzYyMjkyOTYtNzMuODY5NTI4NDM3MzI1NzY8L2Rpdj5gKVswXTsKICAgICAgICAgICAgICAgIHBvcHVwX2MwZGY2OTQyMjJmOTRiNDJhMDQ5NzEzMzhhYjk0Y2QxLnNldENvbnRlbnQoaHRtbF8zZGIwNDgyMzUyOGI0ZWY3YjNiYjk1Y2YwMzdiNzcxOSk7CiAgICAgICAgICAgIAoKICAgICAgICAgICAgbWFya2VyXzIxMDEzNzJjNTZlODQyOTViOGVhODcyMThjY2ViMGNiLmJpbmRQb3B1cChwb3B1cF9jMGRmNjk0MjIyZjk0YjQyYTA0OTcxMzM4YWI5NGNkMSkKICAgICAgICAgICAgOwoKICAgICAgICAgICAgCiAgICAgICAgCiAgICAKICAgICAgICB2YXIgbWFya2VyXzQwNzM1YmVjYTQ4NzQ4YTdiYjNhNjdhYTZmNjY5NTcxID0gTC5tYXJrZXIoCiAgICAgICAgICAgIFs0MC43MjAxMjg1MTM0OTE0MywgLTczLjk5NjM3MzI0OTc2MzY4XSwKICAgICAgICAgICAgewogICAgICAgICAgICAgICAgaWNvbjogbmV3IEwuSWNvbi5EZWZhdWx0KCksCiAgICAgICAgICAgICAgICB9CiAgICAgICAgICAgICkuYWRkVG8obWFwXzAxZDdkZmY5YTY5MTRjMmZiNmM3ZTkxYjYxYzE0MmNlKTsKICAgICAgICAKICAgIAogICAgICAgICAgICB2YXIgcG9wdXBfNTg4M2NiMzgyMWZiNDMyZjhjYmM5YzdkNTkxMWIwZjIgPSBMLnBvcHVwKHttYXhXaWR0aDogJzEwMCUnCiAgICAgICAgICAgIAogICAgICAgICAgICB9KTsKCiAgICAgICAgICAgIAogICAgICAgICAgICAgICAgdmFyIGh0bWxfNDhmN2MzYjMyZjRiNGJmOTgzNzUzZjE1OWFmNTJhZDYgPSAkKGA8ZGl2IGlkPSJodG1sXzQ4ZjdjM2IzMmY0YjRiZjk4Mzc1M2YxNTlhZjUyYWQ2IiBzdHlsZT0id2lkdGg6IDEwMC4wJTsgaGVpZ2h0OiAxMDAuMCU7Ij40MC43MjAxMjg1MTM0OTE0My03My45OTYzNzMyNDk3NjM2ODwvZGl2PmApWzBdOwogICAgICAgICAgICAgICAgcG9wdXBfNTg4M2NiMzgyMWZiNDMyZjhjYmM5YzdkNTkxMWIwZjIuc2V0Q29udGVudChodG1sXzQ4ZjdjM2IzMmY0YjRiZjk4Mzc1M2YxNTlhZjUyYWQ2KTsKICAgICAgICAgICAgCgogICAgICAgICAgICBtYXJrZXJfNDA3MzViZWNhNDg3NDhhN2JiM2E2N2FhNmY2Njk1NzEuYmluZFBvcHVwKHBvcHVwXzU4ODNjYjM4MjFmYjQzMmY4Y2JjOWM3ZDU5MTFiMGYyKQogICAgICAgICAgICA7CgogICAgICAgICAgICAKICAgICAgICAKICAgIAogICAgICAgIHZhciBtYXJrZXJfNjA3ZjM0ODY4NzgxNDQ2Nzg0NzllMjE5OTRmZTMzMzggPSBMLm1hcmtlcigKICAgICAgICAgICAgWzQwLjc3NzI1MjMzODk5ODAyLCAtNzMuOTgxNDQ5MDYxNDgxNzVdLAogICAgICAgICAgICB7CiAgICAgICAgICAgICAgICBpY29uOiBuZXcgTC5JY29uLkRlZmF1bHQoKSwKICAgICAgICAgICAgICAgIH0KICAgICAgICAgICAgKS5hZGRUbyhtYXBfMDFkN2RmZjlhNjkxNGMyZmI2YzdlOTFiNjFjMTQyY2UpOwogICAgICAgIAogICAgCiAgICAgICAgICAgIHZhciBwb3B1cF83N2M3OWE0NmM4YWI0NGU4OWFkMWMyZmMxYjQzOWExYiA9IEwucG9wdXAoe21heFdpZHRoOiAnMTAwJScKICAgICAgICAgICAgCiAgICAgICAgICAgIH0pOwoKICAgICAgICAgICAgCiAgICAgICAgICAgICAgICB2YXIgaHRtbF84OWQ2MTkwMGI3MWY0MDliODNkNGVlMTk2ODIwNzVjMSA9ICQoYDxkaXYgaWQ9Imh0bWxfODlkNjE5MDBiNzFmNDA5YjgzZDRlZTE5NjgyMDc1YzEiIHN0eWxlPSJ3aWR0aDogMTAwLjAlOyBoZWlnaHQ6IDEwMC4wJTsiPjQwLjc3NzI1MjMzODk5ODAyLTczLjk4MTQ0OTA2MTQ4MTc1PC9kaXY+YClbMF07CiAgICAgICAgICAgICAgICBwb3B1cF83N2M3OWE0NmM4YWI0NGU4OWFkMWMyZmMxYjQzOWExYi5zZXRDb250ZW50KGh0bWxfODlkNjE5MDBiNzFmNDA5YjgzZDRlZTE5NjgyMDc1YzEpOwogICAgICAgICAgICAKCiAgICAgICAgICAgIG1hcmtlcl82MDdmMzQ4Njg3ODE0NDY3ODQ3OWUyMTk5NGZlMzMzOC5iaW5kUG9wdXAocG9wdXBfNzdjNzlhNDZjOGFiNDRlODlhZDFjMmZjMWI0MzlhMWIpCiAgICAgICAgICAgIDsKCiAgICAgICAgICAgIAogICAgICAgIAogICAgCiAgICAgICAgdmFyIG1hcmtlcl82ZDZkYmI4MWIzODk0MWM4YjU2OWM2M2I2N2QyNTdmNSA9IEwubWFya2VyKAogICAgICAgICAgICBbNDAuNzM1NzQ5OTk1MDc4NzIsIC03My45ODUyODgwNDE2ODUxN10sCiAgICAgICAgICAgIHsKICAgICAgICAgICAgICAgIGljb246IG5ldyBMLkljb24uRGVmYXVsdCgpLAogICAgICAgICAgICAgICAgfQogICAgICAgICAgICApLmFkZFRvKG1hcF8wMWQ3ZGZmOWE2OTE0YzJmYjZjN2U5MWI2MWMxNDJjZSk7CiAgICAgICAgCiAgICAKICAgICAgICAgICAgdmFyIHBvcHVwXzZhOTU4NDhjOWQwMjQxMTg5ZjJkYzlkNjNjN2Q5Y2FhID0gTC5wb3B1cCh7bWF4V2lkdGg6ICcxMDAlJwogICAgICAgICAgICAKICAgICAgICAgICAgfSk7CgogICAgICAgICAgICAKICAgICAgICAgICAgICAgIHZhciBodG1sX2M3YzVjMGM1ZTZkMTQ4NGQ5YWZkYzNjZGUzOTFjNjNkID0gJChgPGRpdiBpZD0iaHRtbF9jN2M1YzBjNWU2ZDE0ODRkOWFmZGMzY2RlMzkxYzYzZCIgc3R5bGU9IndpZHRoOiAxMDAuMCU7IGhlaWdodDogMTAwLjAlOyI+NDAuNzM1NzQ5OTk1MDc4NzItNzMuOTg1Mjg4MDQxNjg1MTc8L2Rpdj5gKVswXTsKICAgICAgICAgICAgICAgIHBvcHVwXzZhOTU4NDhjOWQwMjQxMTg5ZjJkYzlkNjNjN2Q5Y2FhLnNldENvbnRlbnQoaHRtbF9jN2M1YzBjNWU2ZDE0ODRkOWFmZGMzY2RlMzkxYzYzZCk7CiAgICAgICAgICAgIAoKICAgICAgICAgICAgbWFya2VyXzZkNmRiYjgxYjM4OTQxYzhiNTY5YzYzYjY3ZDI1N2Y1LmJpbmRQb3B1cChwb3B1cF82YTk1ODQ4YzlkMDI0MTE4OWYyZGM5ZDYzYzdkOWNhYSkKICAgICAgICAgICAgOwoKICAgICAgICAgICAgCiAgICAgICAgCiAgICAKICAgICAgICB2YXIgbWFya2VyXzMxNDUwMmRhMDZhNDQzMWZhMDE1MWY5NGY2MTZmYTg3ID0gTC5tYXJrZXIoCiAgICAgICAgICAgIFs0MC43NjI1NjI5OTU2Njk2OSwgLTczLjk2NTMwNDkxNjMzNDY3XSwKICAgICAgICAgICAgewogICAgICAgICAgICAgICAgaWNvbjogbmV3IEwuSWNvbi5EZWZhdWx0KCksCiAgICAgICAgICAgICAgICB9CiAgICAgICAgICAgICkuYWRkVG8obWFwXzAxZDdkZmY5YTY5MTRjMmZiNmM3ZTkxYjYxYzE0MmNlKTsKICAgICAgICAKICAgIAogICAgICAgICAgICB2YXIgcG9wdXBfYjE4NzczODVmNjAwNGI0OThkZWVjODhkMmIwN2RmOGUgPSBMLnBvcHVwKHttYXhXaWR0aDogJzEwMCUnCiAgICAgICAgICAgIAogICAgICAgICAgICB9KTsKCiAgICAgICAgICAgIAogICAgICAgICAgICAgICAgdmFyIGh0bWxfZTdkZmIwYmY4NTYyNGU0Y2E4YTgyY2MzNWM2MjYzYWQgPSAkKGA8ZGl2IGlkPSJodG1sX2U3ZGZiMGJmODU2MjRlNGNhOGE4MmNjMzVjNjI2M2FkIiBzdHlsZT0id2lkdGg6IDEwMC4wJTsgaGVpZ2h0OiAxMDAuMCU7Ij40MC43NjI1NjI5OTU2Njk2OS03My45NjUzMDQ5MTYzMzQ2NzwvZGl2PmApWzBdOwogICAgICAgICAgICAgICAgcG9wdXBfYjE4NzczODVmNjAwNGI0OThkZWVjODhkMmIwN2RmOGUuc2V0Q29udGVudChodG1sX2U3ZGZiMGJmODU2MjRlNGNhOGE4MmNjMzVjNjI2M2FkKTsKICAgICAgICAgICAgCgogICAgICAgICAgICBtYXJrZXJfMzE0NTAyZGEwNmE0NDMxZmEwMTUxZjk0ZjYxNmZhODcuYmluZFBvcHVwKHBvcHVwX2IxODc3Mzg1ZjYwMDRiNDk4ZGVlYzg4ZDJiMDdkZjhlKQogICAgICAgICAgICA7CgogICAgICAgICAgICAKICAgICAgICAKICAgIAogICAgICAgIHZhciBtYXJrZXJfYTA0MTNmZTFhZmUyNGQ3ZWIxNzA4NmUyZGRmZGVjYjEgPSBMLm1hcmtlcigKICAgICAgICAgICAgWzQwLjcxNjIwMjU0MDUwNjIsIC03My45NTU1MDg1MTg1ODk2N10sCiAgICAgICAgICAgIHsKICAgICAgICAgICAgICAgIGljb246IG5ldyBMLkljb24uRGVmYXVsdCgpLAogICAgICAgICAgICAgICAgfQogICAgICAgICAgICApLmFkZFRvKG1hcF8wMWQ3ZGZmOWE2OTE0YzJmYjZjN2U5MWI2MWMxNDJjZSk7CiAgICAgICAgCiAgICAKICAgICAgICAgICAgdmFyIHBvcHVwX2M4Mjk2ZGIzZmE2ZTQ3YThiNDIyOTFhOWMxMDE1YzU0ID0gTC5wb3B1cCh7bWF4V2lkdGg6ICcxMDAlJwogICAgICAgICAgICAKICAgICAgICAgICAgfSk7CgogICAgICAgICAgICAKICAgICAgICAgICAgICAgIHZhciBodG1sX2U5OGMyZGI3NjhmOTRjMTJiMDBkY2JiMjQ4YmQzMzVjID0gJChgPGRpdiBpZD0iaHRtbF9lOThjMmRiNzY4Zjk0YzEyYjAwZGNiYjI0OGJkMzM1YyIgc3R5bGU9IndpZHRoOiAxMDAuMCU7IGhlaWdodDogMTAwLjAlOyI+NDAuNzE2MjAyNTQwNTA2Mi03My45NTU1MDg1MTg1ODk2NzwvZGl2PmApWzBdOwogICAgICAgICAgICAgICAgcG9wdXBfYzgyOTZkYjNmYTZlNDdhOGI0MjI5MWE5YzEwMTVjNTQuc2V0Q29udGVudChodG1sX2U5OGMyZGI3NjhmOTRjMTJiMDBkY2JiMjQ4YmQzMzVjKTsKICAgICAgICAgICAgCgogICAgICAgICAgICBtYXJrZXJfYTA0MTNmZTFhZmUyNGQ3ZWIxNzA4NmUyZGRmZGVjYjEuYmluZFBvcHVwKHBvcHVwX2M4Mjk2ZGIzZmE2ZTQ3YThiNDIyOTFhOWMxMDE1YzU0KQogICAgICAgICAgICA7CgogICAgICAgICAgICAKICAgICAgICAKICAgIAogICAgICAgIHZhciBtYXJrZXJfYzI5MGQ4ZjkyYjE0NDRkMjkwOTdjNmY2NjBhZTRiYmIgPSBMLm1hcmtlcigKICAgICAgICAgICAgWzQwLjczOTQxNDI3NTU0MDcyNCwgLTc0LjAwNDE0MjI5ODE2OTk3XSwKICAgICAgICAgICAgewogICAgICAgICAgICAgICAgaWNvbjogbmV3IEwuSWNvbi5EZWZhdWx0KCksCiAgICAgICAgICAgICAgICB9CiAgICAgICAgICAgICkuYWRkVG8obWFwXzAxZDdkZmY5YTY5MTRjMmZiNmM3ZTkxYjYxYzE0MmNlKTsKICAgICAgICAKICAgIAogICAgICAgICAgICB2YXIgcG9wdXBfYzQyMTQ0NmVlOGI0NDQ2YWE4MmVhNTU0N2M3OTRmMmUgPSBMLnBvcHVwKHttYXhXaWR0aDogJzEwMCUnCiAgICAgICAgICAgIAogICAgICAgICAgICB9KTsKCiAgICAgICAgICAgIAogICAgICAgICAgICAgICAgdmFyIGh0bWxfMjU5YjFjOWQxNmYyNGJiOWI4NzIyODU4M2EyY2Q3N2YgPSAkKGA8ZGl2IGlkPSJodG1sXzI1OWIxYzlkMTZmMjRiYjliODcyMjg1ODNhMmNkNzdmIiBzdHlsZT0id2lkdGg6IDEwMC4wJTsgaGVpZ2h0OiAxMDAuMCU7Ij40MC43Mzk0MTQyNzU1NDA3MjQtNzQuMDA0MTQyMjk4MTY5OTc8L2Rpdj5gKVswXTsKICAgICAgICAgICAgICAgIHBvcHVwX2M0MjE0NDZlZThiNDQ0NmFhODJlYTU1NDdjNzk0ZjJlLnNldENvbnRlbnQoaHRtbF8yNTliMWM5ZDE2ZjI0YmI5Yjg3MjI4NTgzYTJjZDc3Zik7CiAgICAgICAgICAgIAoKICAgICAgICAgICAgbWFya2VyX2MyOTBkOGY5MmIxNDQ0ZDI5MDk3YzZmNjYwYWU0YmJiLmJpbmRQb3B1cChwb3B1cF9jNDIxNDQ2ZWU4YjQ0NDZhYTgyZWE1NTQ3Yzc5NGYyZSkKICAgICAgICAgICAgOwoKICAgICAgICAgICAgCiAgICAgICAgCiAgICAKICAgICAgICB2YXIgbWFya2VyXzE3MzlhZmY5YjQ3OTQwMzJiNTA0NzQ3OWU4ZWI5ZWMxID0gTC5tYXJrZXIoCiAgICAgICAgICAgIFs0MC42ODcxNjQ3MTk2MzM0OCwgLTczLjk5MDQ0NzU2MzEwNzUxXSwKICAgICAgICAgICAgewogICAgICAgICAgICAgICAgaWNvbjogbmV3IEwuSWNvbi5EZWZhdWx0KCksCiAgICAgICAgICAgICAgICB9CiAgICAgICAgICAgICkuYWRkVG8obWFwXzAxZDdkZmY5YTY5MTRjMmZiNmM3ZTkxYjYxYzE0MmNlKTsKICAgICAgICAKICAgIAogICAgICAgICAgICB2YXIgcG9wdXBfN2E0NGJhMWNlMDFiNGFmZWI4OWFmY2ZiZGEyYTFjYjEgPSBMLnBvcHVwKHttYXhXaWR0aDogJzEwMCUnCiAgICAgICAgICAgIAogICAgICAgICAgICB9KTsKCiAgICAgICAgICAgIAogICAgICAgICAgICAgICAgdmFyIGh0bWxfZjEyMDNjNTQxMGY2NGJkYmE0MjUzY2FlMGU0ZjIyZjAgPSAkKGA8ZGl2IGlkPSJodG1sX2YxMjAzYzU0MTBmNjRiZGJhNDI1M2NhZTBlNGYyMmYwIiBzdHlsZT0id2lkdGg6IDEwMC4wJTsgaGVpZ2h0OiAxMDAuMCU7Ij40MC42ODcxNjQ3MTk2MzM0OC03My45OTA0NDc1NjMxMDc1MTwvZGl2PmApWzBdOwogICAgICAgICAgICAgICAgcG9wdXBfN2E0NGJhMWNlMDFiNGFmZWI4OWFmY2ZiZGEyYTFjYjEuc2V0Q29udGVudChodG1sX2YxMjAzYzU0MTBmNjRiZGJhNDI1M2NhZTBlNGYyMmYwKTsKICAgICAgICAgICAgCgogICAgICAgICAgICBtYXJrZXJfMTczOWFmZjliNDc5NDAzMmI1MDQ3NDc5ZThlYjllYzEuYmluZFBvcHVwKHBvcHVwXzdhNDRiYTFjZTAxYjRhZmViODlhZmNmYmRhMmExY2IxKQogICAgICAgICAgICA7CgogICAgICAgICAgICAKICAgICAgICAKICAgIAogICAgICAgIHZhciBtYXJrZXJfOGZjNmNlYWU2NzNhNDkwODlkZDc2ZTQ0OGEyM2ExYmEgPSBMLm1hcmtlcigKICAgICAgICAgICAgWzQwLjc5Nzg0NzExNDI2NDI2NSwgLTczLjk2NzI0Njg3OTUwOTA1XSwKICAgICAgICAgICAgewogICAgICAgICAgICAgICAgaWNvbjogbmV3IEwuSWNvbi5EZWZhdWx0KCksCiAgICAgICAgICAgICAgICB9CiAgICAgICAgICAgICkuYWRkVG8obWFwXzAxZDdkZmY5YTY5MTRjMmZiNmM3ZTkxYjYxYzE0MmNlKTsKICAgICAgICAKICAgIAogICAgICAgICAgICB2YXIgcG9wdXBfMDc5YmU4NWQ1NGM4NGI3OTgyMzlhMTk1MjFkMDhhZGMgPSBMLnBvcHVwKHttYXhXaWR0aDogJzEwMCUnCiAgICAgICAgICAgIAogICAgICAgICAgICB9KTsKCiAgICAgICAgICAgIAogICAgICAgICAgICAgICAgdmFyIGh0bWxfOTVlYTk3YjAxYThhNDI5ZjlhMzg0YTkxYzhhZTY0MDUgPSAkKGA8ZGl2IGlkPSJodG1sXzk1ZWE5N2IwMWE4YTQyOWY5YTM4NGE5MWM4YWU2NDA1IiBzdHlsZT0id2lkdGg6IDEwMC4wJTsgaGVpZ2h0OiAxMDAuMCU7Ij40MC43OTc4NDcxMTQyNjQyNjUtNzMuOTY3MjQ2ODc5NTA5MDU8L2Rpdj5gKVswXTsKICAgICAgICAgICAgICAgIHBvcHVwXzA3OWJlODVkNTRjODRiNzk4MjM5YTE5NTIxZDA4YWRjLnNldENvbnRlbnQoaHRtbF85NWVhOTdiMDFhOGE0MjlmOWEzODRhOTFjOGFlNjQwNSk7CiAgICAgICAgICAgIAoKICAgICAgICAgICAgbWFya2VyXzhmYzZjZWFlNjczYTQ5MDg5ZGQ3NmU0NDhhMjNhMWJhLmJpbmRQb3B1cChwb3B1cF8wNzliZTg1ZDU0Yzg0Yjc5ODIzOWExOTUyMWQwOGFkYykKICAgICAgICAgICAgOwoKICAgICAgICAgICAgCiAgICAgICAgCiAgICAKICAgICAgICB2YXIgbWFya2VyX2EzMjE4MGI5M2U0OTRiYjg4NDhjOWY1OTU1NDQxYmUzID0gTC5tYXJrZXIoCiAgICAgICAgICAgIFs0MC43NzMwNTIyNDIwNjM0NCwgLTczLjk1MDU4MTk2NjMxNTkyXSwKICAgICAgICAgICAgewogICAgICAgICAgICAgICAgaWNvbjogbmV3IEwuSWNvbi5EZWZhdWx0KCksCiAgICAgICAgICAgICAgICB9CiAgICAgICAgICAgICkuYWRkVG8obWFwXzAxZDdkZmY5YTY5MTRjMmZiNmM3ZTkxYjYxYzE0MmNlKTsKICAgICAgICAKICAgIAogICAgICAgICAgICB2YXIgcG9wdXBfOTIwZmU5Nzg5YzEyNDk1N2E0YjBlM2E3M2E0YmE2ODcgPSBMLnBvcHVwKHttYXhXaWR0aDogJzEwMCUnCiAgICAgICAgICAgIAogICAgICAgICAgICB9KTsKCiAgICAgICAgICAgIAogICAgICAgICAgICAgICAgdmFyIGh0bWxfMDgzMzA1MTU4ODUzNDAyMzkwYjRlNGE4NmNlNTYxMmUgPSAkKGA8ZGl2IGlkPSJodG1sXzA4MzMwNTE1ODg1MzQwMjM5MGI0ZTRhODZjZTU2MTJlIiBzdHlsZT0id2lkdGg6IDEwMC4wJTsgaGVpZ2h0OiAxMDAuMCU7Ij40MC43NzMwNTIyNDIwNjM0NC03My45NTA1ODE5NjYzMTU5MjwvZGl2PmApWzBdOwogICAgICAgICAgICAgICAgcG9wdXBfOTIwZmU5Nzg5YzEyNDk1N2E0YjBlM2E3M2E0YmE2ODcuc2V0Q29udGVudChodG1sXzA4MzMwNTE1ODg1MzQwMjM5MGI0ZTRhODZjZTU2MTJlKTsKICAgICAgICAgICAgCgogICAgICAgICAgICBtYXJrZXJfYTMyMTgwYjkzZTQ5NGJiODg0OGM5ZjU5NTU0NDFiZTMuYmluZFBvcHVwKHBvcHVwXzkyMGZlOTc4OWMxMjQ5NTdhNGIwZTNhNzNhNGJhNjg3KQogICAgICAgICAgICA7CgogICAgICAgICAgICAKICAgICAgICAKICAgIAogICAgICAgIHZhciBtYXJrZXJfODlkMTAxMTBhZGY0NDFiYTkzZTkxYjUwOTc5ZWU3ZTcgPSBMLm1hcmtlcigKICAgICAgICAgICAgWzQwLjc1Nzg0NDkxODU5OTc2NiwgLTczLjk4OTE4MjMyNTE2NjY4XSwKICAgICAgICAgICAgewogICAgICAgICAgICAgICAgaWNvbjogbmV3IEwuSWNvbi5EZWZhdWx0KCksCiAgICAgICAgICAgICAgICB9CiAgICAgICAgICAgICkuYWRkVG8obWFwXzAxZDdkZmY5YTY5MTRjMmZiNmM3ZTkxYjYxYzE0MmNlKTsKICAgICAgICAKICAgIAogICAgICAgICAgICB2YXIgcG9wdXBfMDEyZTdjOWY5OWE2NGJhOGJiOTA1MjNlMDc5ZDkxY2IgPSBMLnBvcHVwKHttYXhXaWR0aDogJzEwMCUnCiAgICAgICAgICAgIAogICAgICAgICAgICB9KTsKCiAgICAgICAgICAgIAogICAgICAgICAgICAgICAgdmFyIGh0bWxfMWI1YTI5Y2E2NzFkNGQ2NDhhMGI0MzAzODhlMThhZDEgPSAkKGA8ZGl2IGlkPSJodG1sXzFiNWEyOWNhNjcxZDRkNjQ4YTBiNDMwMzg4ZTE4YWQxIiBzdHlsZT0id2lkdGg6IDEwMC4wJTsgaGVpZ2h0OiAxMDAuMCU7Ij40MC43NTc4NDQ5MTg1OTk3NjYtNzMuOTg5MTgyMzI1MTY2Njg8L2Rpdj5gKVswXTsKICAgICAgICAgICAgICAgIHBvcHVwXzAxMmU3YzlmOTlhNjRiYThiYjkwNTIzZTA3OWQ5MWNiLnNldENvbnRlbnQoaHRtbF8xYjVhMjljYTY3MWQ0ZDY0OGEwYjQzMDM4OGUxOGFkMSk7CiAgICAgICAgICAgIAoKICAgICAgICAgICAgbWFya2VyXzg5ZDEwMTEwYWRmNDQxYmE5M2U5MWI1MDk3OWVlN2U3LmJpbmRQb3B1cChwb3B1cF8wMTJlN2M5Zjk5YTY0YmE4YmI5MDUyM2UwNzlkOTFjYikKICAgICAgICAgICAgOwoKICAgICAgICAgICAgCiAgICAgICAgCiAgICAKICAgICAgICB2YXIgbWFya2VyXzg0N2I2MzNiYjdiZTQ5NjRiYmY2ZDdkOTEzMDdlMDliID0gTC5tYXJrZXIoCiAgICAgICAgICAgIFs0MC43NDU1NDkzNjYwMTg5NCwgLTczLjg5MTA3OTgzNTk0NTc5XSwKICAgICAgICAgICAgewogICAgICAgICAgICAgICAgaWNvbjogbmV3IEwuSWNvbi5EZWZhdWx0KCksCiAgICAgICAgICAgICAgICB9CiAgICAgICAgICAgICkuYWRkVG8obWFwXzAxZDdkZmY5YTY5MTRjMmZiNmM3ZTkxYjYxYzE0MmNlKTsKICAgICAgICAKICAgIAogICAgICAgICAgICB2YXIgcG9wdXBfMmQ4MzViZDcyY2VkNGFiNzhjMTVkNjBmNTIyNmIzODEgPSBMLnBvcHVwKHttYXhXaWR0aDogJzEwMCUnCiAgICAgICAgICAgIAogICAgICAgICAgICB9KTsKCiAgICAgICAgICAgIAogICAgICAgICAgICAgICAgdmFyIGh0bWxfOTc2ZDc1YjkwZTk2NGE0NThmMWM4MzI2MmMyY2E1NzAgPSAkKGA8ZGl2IGlkPSJodG1sXzk3NmQ3NWI5MGU5NjRhNDU4ZjFjODMyNjJjMmNhNTcwIiBzdHlsZT0id2lkdGg6IDEwMC4wJTsgaGVpZ2h0OiAxMDAuMCU7Ij40MC43NDU1NDkzNjYwMTg5NC03My44OTEwNzk4MzU5NDU3OTwvZGl2PmApWzBdOwogICAgICAgICAgICAgICAgcG9wdXBfMmQ4MzViZDcyY2VkNGFiNzhjMTVkNjBmNTIyNmIzODEuc2V0Q29udGVudChodG1sXzk3NmQ3NWI5MGU5NjRhNDU4ZjFjODMyNjJjMmNhNTcwKTsKICAgICAgICAgICAgCgogICAgICAgICAgICBtYXJrZXJfODQ3YjYzM2JiN2JlNDk2NGJiZjZkN2Q5MTMwN2UwOWIuYmluZFBvcHVwKHBvcHVwXzJkODM1YmQ3MmNlZDRhYjc4YzE1ZDYwZjUyMjZiMzgxKQogICAgICAgICAgICA7CgogICAgICAgICAgICAKICAgICAgICAKICAgIAogICAgICAgIHZhciBtYXJrZXJfMmVmZDMxZjM0YTQzNDg1OGI5YmEzMDgwNmRmZDIzNmMgPSBMLm1hcmtlcigKICAgICAgICAgICAgWzQwLjc1MzM4NTAyODEzMTE5LCAtNzMuOTcxNzE5MTg3OTc5NTldLAogICAgICAgICAgICB7CiAgICAgICAgICAgICAgICBpY29uOiBuZXcgTC5JY29uLkRlZmF1bHQoKSwKICAgICAgICAgICAgICAgIH0KICAgICAgICAgICAgKS5hZGRUbyhtYXBfMDFkN2RmZjlhNjkxNGMyZmI2YzdlOTFiNjFjMTQyY2UpOwogICAgICAgIAogICAgCiAgICAgICAgICAgIHZhciBwb3B1cF9hMDQ5NmQ5YmU2Yjg0NzA2OWQ5ODM2OTQ5MjUwNzdjZSA9IEwucG9wdXAoe21heFdpZHRoOiAnMTAwJScKICAgICAgICAgICAgCiAgICAgICAgICAgIH0pOwoKICAgICAgICAgICAgCiAgICAgICAgICAgICAgICB2YXIgaHRtbF8xOTA4NWI5ZDk0MDA0MmExYmViZTVkMzZjMDEzY2EwMiA9ICQoYDxkaXYgaWQ9Imh0bWxfMTkwODViOWQ5NDAwNDJhMWJlYmU1ZDM2YzAxM2NhMDIiIHN0eWxlPSJ3aWR0aDogMTAwLjAlOyBoZWlnaHQ6IDEwMC4wJTsiPjQwLjc1MzM4NTAyODEzMTE5LTczLjk3MTcxOTE4Nzk3OTU5PC9kaXY+YClbMF07CiAgICAgICAgICAgICAgICBwb3B1cF9hMDQ5NmQ5YmU2Yjg0NzA2OWQ5ODM2OTQ5MjUwNzdjZS5zZXRDb250ZW50KGh0bWxfMTkwODViOWQ5NDAwNDJhMWJlYmU1ZDM2YzAxM2NhMDIpOwogICAgICAgICAgICAKCiAgICAgICAgICAgIG1hcmtlcl8yZWZkMzFmMzRhNDM0ODU4YjliYTMwODA2ZGZkMjM2Yy5iaW5kUG9wdXAocG9wdXBfYTA0OTZkOWJlNmI4NDcwNjlkOTgzNjk0OTI1MDc3Y2UpCiAgICAgICAgICAgIDsKCiAgICAgICAgICAgIAogICAgICAgIAogICAgCiAgICAgICAgdmFyIG1hcmtlcl9lZWNmZDQyZTBlYWI0ZDhiYWI2NzE4ZjNiZjFmZjhkOCA9IEwubWFya2VyKAogICAgICAgICAgICBbNDAuODMyNTM4MTI1NzIxODMsIC03My45NDIwMjM5MjYxMjk2Ml0sCiAgICAgICAgICAgIHsKICAgICAgICAgICAgICAgIGljb246IG5ldyBMLkljb24uRGVmYXVsdCgpLAogICAgICAgICAgICAgICAgfQogICAgICAgICAgICApLmFkZFRvKG1hcF8wMWQ3ZGZmOWE2OTE0YzJmYjZjN2U5MWI2MWMxNDJjZSk7CiAgICAgICAgCiAgICAKICAgICAgICAgICAgdmFyIHBvcHVwX2JmNTYzNjY5NzNjMTQ4YmZiYjY0ZjNlNjcxZjEyMGVlID0gTC5wb3B1cCh7bWF4V2lkdGg6ICcxMDAlJwogICAgICAgICAgICAKICAgICAgICAgICAgfSk7CgogICAgICAgICAgICAKICAgICAgICAgICAgICAgIHZhciBodG1sX2Q5Y2ZkZDI4MmQ3ZDQyMWFiMjM2NjBmNjU1OGY2MzNhID0gJChgPGRpdiBpZD0iaHRtbF9kOWNmZGQyODJkN2Q0MjFhYjIzNjYwZjY1NThmNjMzYSIgc3R5bGU9IndpZHRoOiAxMDAuMCU7IGhlaWdodDogMTAwLjAlOyI+NDAuODMyNTM4MTI1NzIxODMtNzMuOTQyMDIzOTI2MTI5NjI8L2Rpdj5gKVswXTsKICAgICAgICAgICAgICAgIHBvcHVwX2JmNTYzNjY5NzNjMTQ4YmZiYjY0ZjNlNjcxZjEyMGVlLnNldENvbnRlbnQoaHRtbF9kOWNmZGQyODJkN2Q0MjFhYjIzNjYwZjY1NThmNjMzYSk7CiAgICAgICAgICAgIAoKICAgICAgICAgICAgbWFya2VyX2VlY2ZkNDJlMGVhYjRkOGJhYjY3MThmM2JmMWZmOGQ4LmJpbmRQb3B1cChwb3B1cF9iZjU2MzY2OTczYzE0OGJmYmI2NGYzZTY3MWYxMjBlZSkKICAgICAgICAgICAgOwoKICAgICAgICAgICAgCiAgICAgICAgCiAgICAKICAgICAgICB2YXIgbWFya2VyX2YwMGQ4NDE1MmI4MjRlYzc5YzI0YWEzMDU1NDhiZjcwID0gTC5tYXJrZXIoCiAgICAgICAgICAgIFs0MC43NDk5MjMzOTUzMjM3MiwgLTczLjk5MTYwNzMxNTMxOTI3XSwKICAgICAgICAgICAgewogICAgICAgICAgICAgICAgaWNvbjogbmV3IEwuSWNvbi5EZWZhdWx0KCksCiAgICAgICAgICAgICAgICB9CiAgICAgICAgICAgICkuYWRkVG8obWFwXzAxZDdkZmY5YTY5MTRjMmZiNmM3ZTkxYjYxYzE0MmNlKTsKICAgICAgICAKICAgIAogICAgICAgICAgICB2YXIgcG9wdXBfOWNmMDRhYWU4Y2FkNDc5OTg5Njk1MmVmYTI1YWYxYzUgPSBMLnBvcHVwKHttYXhXaWR0aDogJzEwMCUnCiAgICAgICAgICAgIAogICAgICAgICAgICB9KTsKCiAgICAgICAgICAgIAogICAgICAgICAgICAgICAgdmFyIGh0bWxfMjA2M2VhYmNmMDU3NDM3ZDlmMjk4NDc2ZTFmYjlhODQgPSAkKGA8ZGl2IGlkPSJodG1sXzIwNjNlYWJjZjA1NzQzN2Q5ZjI5ODQ3NmUxZmI5YTg0IiBzdHlsZT0id2lkdGg6IDEwMC4wJTsgaGVpZ2h0OiAxMDAuMCU7Ij40MC43NDk5MjMzOTUzMjM3Mi03My45OTE2MDczMTUzMTkyNzwvZGl2PmApWzBdOwogICAgICAgICAgICAgICAgcG9wdXBfOWNmMDRhYWU4Y2FkNDc5OTg5Njk1MmVmYTI1YWYxYzUuc2V0Q29udGVudChodG1sXzIwNjNlYWJjZjA1NzQzN2Q5ZjI5ODQ3NmUxZmI5YTg0KTsKICAgICAgICAgICAgCgogICAgICAgICAgICBtYXJrZXJfZjAwZDg0MTUyYjgyNGVjNzljMjRhYTMwNTU0OGJmNzAuYmluZFBvcHVwKHBvcHVwXzljZjA0YWFlOGNhZDQ3OTk4OTY5NTJlZmEyNWFmMWM1KQogICAgICAgICAgICA7CgogICAgICAgICAgICAKICAgICAgICAKICAgIAogICAgICAgIHZhciBtYXJrZXJfZDEyNzBlNDFhYWY3NDhmYWEwYTQ2YjM2NmI2Mjc3NGYgPSBMLm1hcmtlcigKICAgICAgICAgICAgWzQwLjcyOTgxMTE5MDkxMjg0LCAtNzQuMDAyNjkyMzUxNjA5ODFdLAogICAgICAgICAgICB7CiAgICAgICAgICAgICAgICBpY29uOiBuZXcgTC5JY29uLkRlZmF1bHQoKSwKICAgICAgICAgICAgICAgIH0KICAgICAgICAgICAgKS5hZGRUbyhtYXBfMDFkN2RmZjlhNjkxNGMyZmI2YzdlOTFiNjFjMTQyY2UpOwogICAgICAgIAogICAgCiAgICAgICAgICAgIHZhciBwb3B1cF8wMzJlNzI4MjNhODU0YjczYmU4ZDc1ZGJiN2IzZjRkMyA9IEwucG9wdXAoe21heFdpZHRoOiAnMTAwJScKICAgICAgICAgICAgCiAgICAgICAgICAgIH0pOwoKICAgICAgICAgICAgCiAgICAgICAgICAgICAgICB2YXIgaHRtbF9iYTdmYjdiNzQwZTQ0YzRiYjMyNmRjNDAxY2E2ODM3ZCA9ICQoYDxkaXYgaWQ9Imh0bWxfYmE3ZmI3Yjc0MGU0NGM0YmIzMjZkYzQwMWNhNjgzN2QiIHN0eWxlPSJ3aWR0aDogMTAwLjAlOyBoZWlnaHQ6IDEwMC4wJTsiPjQwLjcyOTgxMTE5MDkxMjg0LTc0LjAwMjY5MjM1MTYwOTgxPC9kaXY+YClbMF07CiAgICAgICAgICAgICAgICBwb3B1cF8wMzJlNzI4MjNhODU0YjczYmU4ZDc1ZGJiN2IzZjRkMy5zZXRDb250ZW50KGh0bWxfYmE3ZmI3Yjc0MGU0NGM0YmIzMjZkYzQwMWNhNjgzN2QpOwogICAgICAgICAgICAKCiAgICAgICAgICAgIG1hcmtlcl9kMTI3MGU0MWFhZjc0OGZhYTBhNDZiMzY2YjYyNzc0Zi5iaW5kUG9wdXAocG9wdXBfMDMyZTcyODIzYTg1NGI3M2JlOGQ3NWRiYjdiM2Y0ZDMpCiAgICAgICAgICAgIDsKCiAgICAgICAgICAgIAogICAgICAgIAogICAgCiAgICAgICAgdmFyIG1hcmtlcl9iMDBiZmM5YTVkZTI0M2I0YWJhNDdkZTgxMWNhODVhNyA9IEwubWFya2VyKAogICAgICAgICAgICBbNDAuNzc4NzE3Mzg0NDMxMiwgLTczLjk1NzI3OTgxMjE4OTddLAogICAgICAgICAgICB7CiAgICAgICAgICAgICAgICBpY29uOiBuZXcgTC5JY29uLkRlZmF1bHQoKSwKICAgICAgICAgICAgICAgIH0KICAgICAgICAgICAgKS5hZGRUbyhtYXBfMDFkN2RmZjlhNjkxNGMyZmI2YzdlOTFiNjFjMTQyY2UpOwogICAgICAgIAogICAgCiAgICAgICAgICAgIHZhciBwb3B1cF8yZmY5MTlmMmQxZTc0MjI3OGExODkwZjBlZmMxYTM1ZCA9IEwucG9wdXAoe21heFdpZHRoOiAnMTAwJScKICAgICAgICAgICAgCiAgICAgICAgICAgIH0pOwoKICAgICAgICAgICAgCiAgICAgICAgICAgICAgICB2YXIgaHRtbF9kZWVjNzhkZDdlOTI0YzM5ODQ3YTFkZDNhZDVlZTZkNCA9ICQoYDxkaXYgaWQ9Imh0bWxfZGVlYzc4ZGQ3ZTkyNGMzOTg0N2ExZGQzYWQ1ZWU2ZDQiIHN0eWxlPSJ3aWR0aDogMTAwLjAlOyBoZWlnaHQ6IDEwMC4wJTsiPjQwLjc3ODcxNzM4NDQzMTItNzMuOTU3Mjc5ODEyMTg5NzwvZGl2PmApWzBdOwogICAgICAgICAgICAgICAgcG9wdXBfMmZmOTE5ZjJkMWU3NDIyNzhhMTg5MGYwZWZjMWEzNWQuc2V0Q29udGVudChodG1sX2RlZWM3OGRkN2U5MjRjMzk4NDdhMWRkM2FkNWVlNmQ0KTsKICAgICAgICAgICAgCgogICAgICAgICAgICBtYXJrZXJfYjAwYmZjOWE1ZGUyNDNiNGFiYTQ3ZGU4MTFjYTg1YTcuYmluZFBvcHVwKHBvcHVwXzJmZjkxOWYyZDFlNzQyMjc4YTE4OTBmMGVmYzFhMzVkKQogICAgICAgICAgICA7CgogICAgICAgICAgICAKICAgICAgICAKICAgIAogICAgICAgIHZhciBtYXJrZXJfYTE1NTA1YTFmYzU0NGQ2M2E1ZTU1MTA2NWRlOTdjNzAgPSBMLm1hcmtlcigKICAgICAgICAgICAgWzQwLjY0MTc5NzExOTcxNjQzLCAtNzMuOTU3OTQzODI2MzUxNTJdLAogICAgICAgICAgICB7CiAgICAgICAgICAgICAgICBpY29uOiBuZXcgTC5JY29uLkRlZmF1bHQoKSwKICAgICAgICAgICAgICAgIH0KICAgICAgICAgICAgKS5hZGRUbyhtYXBfMDFkN2RmZjlhNjkxNGMyZmI2YzdlOTFiNjFjMTQyY2UpOwogICAgICAgIAogICAgCiAgICAgICAgICAgIHZhciBwb3B1cF9iZTA4YzliOTE1NmI0NjdlYjcxMGU4MjczZGM0MGVjNiA9IEwucG9wdXAoe21heFdpZHRoOiAnMTAwJScKICAgICAgICAgICAgCiAgICAgICAgICAgIH0pOwoKICAgICAgICAgICAgCiAgICAgICAgICAgICAgICB2YXIgaHRtbF9iMDBiY2Y0OWJkODU0ZjdmYTUxZDk1NzNmZjFmZjNlMSA9ICQoYDxkaXYgaWQ9Imh0bWxfYjAwYmNmNDliZDg1NGY3ZmE1MWQ5NTczZmYxZmYzZTEiIHN0eWxlPSJ3aWR0aDogMTAwLjAlOyBoZWlnaHQ6IDEwMC4wJTsiPjQwLjY0MTc5NzExOTcxNjQzLTczLjk1Nzk0MzgyNjM1MTUyPC9kaXY+YClbMF07CiAgICAgICAgICAgICAgICBwb3B1cF9iZTA4YzliOTE1NmI0NjdlYjcxMGU4MjczZGM0MGVjNi5zZXRDb250ZW50KGh0bWxfYjAwYmNmNDliZDg1NGY3ZmE1MWQ5NTczZmYxZmYzZTEpOwogICAgICAgICAgICAKCiAgICAgICAgICAgIG1hcmtlcl9hMTU1MDVhMWZjNTQ0ZDYzYTVlNTUxMDY1ZGU5N2M3MC5iaW5kUG9wdXAocG9wdXBfYmUwOGM5YjkxNTZiNDY3ZWI3MTBlODI3M2RjNDBlYzYpCiAgICAgICAgICAgIDsKCiAgICAgICAgICAgIAogICAgICAgIAogICAgCiAgICAgICAgdmFyIG1hcmtlcl82YjMwNjJjNjM1YTc0NzBjOWFiY2ExMzE2M2IzNmQyMiA9IEwubWFya2VyKAogICAgICAgICAgICBbNDAuNzg2OTI1OTI4NzUxNjIsIC03My45NzQzMTMzMzQxNDcxN10sCiAgICAgICAgICAgIHsKICAgICAgICAgICAgICAgIGljb246IG5ldyBMLkljb24uRGVmYXVsdCgpLAogICAgICAgICAgICAgICAgfQogICAgICAgICAgICApLmFkZFRvKG1hcF8wMWQ3ZGZmOWE2OTE0YzJmYjZjN2U5MWI2MWMxNDJjZSk7CiAgICAgICAgCiAgICAKICAgICAgICAgICAgdmFyIHBvcHVwXzU5ZWJhNGMxNjY1ZDQxNmQ4ZGIwYzRkMzJlYmQzNTc1ID0gTC5wb3B1cCh7bWF4V2lkdGg6ICcxMDAlJwogICAgICAgICAgICAKICAgICAgICAgICAgfSk7CgogICAgICAgICAgICAKICAgICAgICAgICAgICAgIHZhciBodG1sXzUzOTYyOTNlYjRhZDQ0YTQ5YjY2NjdlYTI3OWQ1MjFmID0gJChgPGRpdiBpZD0iaHRtbF81Mzk2MjkzZWI0YWQ0NGE0OWI2NjY3ZWEyNzlkNTIxZiIgc3R5bGU9IndpZHRoOiAxMDAuMCU7IGhlaWdodDogMTAwLjAlOyI+NDAuNzg2OTI1OTI4NzUxNjItNzMuOTc0MzEzMzM0MTQ3MTc8L2Rpdj5gKVswXTsKICAgICAgICAgICAgICAgIHBvcHVwXzU5ZWJhNGMxNjY1ZDQxNmQ4ZGIwYzRkMzJlYmQzNTc1LnNldENvbnRlbnQoaHRtbF81Mzk2MjkzZWI0YWQ0NGE0OWI2NjY3ZWEyNzlkNTIxZik7CiAgICAgICAgICAgIAoKICAgICAgICAgICAgbWFya2VyXzZiMzA2MmM2MzVhNzQ3MGM5YWJjYTEzMTYzYjM2ZDIyLmJpbmRQb3B1cChwb3B1cF81OWViYTRjMTY2NWQ0MTZkOGRiMGM0ZDMyZWJkMzU3NSkKICAgICAgICAgICAgOwoKICAgICAgICAgICAgCiAgICAgICAgCiAgICAKICAgICAgICB2YXIgbWFya2VyXzQ1ZDAwZWU5YTYwMDRjZDg5YjZlZmVmZTJmZDU4MDk1ID0gTC5tYXJrZXIoCiAgICAgICAgICAgIFs0MC43NjE4OTE4NzczMzI3NywgLTczLjk3NDM1NTQwOTA5Mjc0XSwKICAgICAgICAgICAgewogICAgICAgICAgICAgICAgaWNvbjogbmV3IEwuSWNvbi5EZWZhdWx0KCksCiAgICAgICAgICAgICAgICB9CiAgICAgICAgICAgICkuYWRkVG8obWFwXzAxZDdkZmY5YTY5MTRjMmZiNmM3ZTkxYjYxYzE0MmNlKTsKICAgICAgICAKICAgIAogICAgICAgICAgICB2YXIgcG9wdXBfZjRlYjNmZDMwN2ExNGE0M2JlMDU4OGRlYTg1MzA5NTAgPSBMLnBvcHVwKHttYXhXaWR0aDogJzEwMCUnCiAgICAgICAgICAgIAogICAgICAgICAgICB9KTsKCiAgICAgICAgICAgIAogICAgICAgICAgICAgICAgdmFyIGh0bWxfZDcxYjJjZmM1YmRkNDdiYzkyMmJlM2QzM2U3ZmRhOWUgPSAkKGA8ZGl2IGlkPSJodG1sX2Q3MWIyY2ZjNWJkZDQ3YmM5MjJiZTNkMzNlN2ZkYTllIiBzdHlsZT0id2lkdGg6IDEwMC4wJTsgaGVpZ2h0OiAxMDAuMCU7Ij40MC43NjE4OTE4NzczMzI3Ny03My45NzQzNTU0MDkwOTI3NDwvZGl2PmApWzBdOwogICAgICAgICAgICAgICAgcG9wdXBfZjRlYjNmZDMwN2ExNGE0M2JlMDU4OGRlYTg1MzA5NTAuc2V0Q29udGVudChodG1sX2Q3MWIyY2ZjNWJkZDQ3YmM5MjJiZTNkMzNlN2ZkYTllKTsKICAgICAgICAgICAgCgogICAgICAgICAgICBtYXJrZXJfNDVkMDBlZTlhNjAwNGNkODliNmVmZWZlMmZkNTgwOTUuYmluZFBvcHVwKHBvcHVwX2Y0ZWIzZmQzMDdhMTRhNDNiZTA1ODhkZWE4NTMwOTUwKQogICAgICAgICAgICA7CgogICAgICAgICAgICAKICAgICAgICAKICAgIAogICAgICAgIHZhciBtYXJrZXJfZGM5YzVkZmMxOTI2NDJmMWI0NTYxMGVjYzUxMTdkYzQgPSBMLm1hcmtlcigKICAgICAgICAgICAgWzQwLjcwNzU5ODcyMzA4NzExNiwgLTc0LjAxMDQzNzc5NzAyNTMyXSwKICAgICAgICAgICAgewogICAgICAgICAgICAgICAgaWNvbjogbmV3IEwuSWNvbi5EZWZhdWx0KCksCiAgICAgICAgICAgICAgICB9CiAgICAgICAgICAgICkuYWRkVG8obWFwXzAxZDdkZmY5YTY5MTRjMmZiNmM3ZTkxYjYxYzE0MmNlKTsKICAgICAgICAKICAgIAogICAgICAgICAgICB2YXIgcG9wdXBfYWNjY2YxYzNkMWUzNDA3MDhmZGE5ZDk3YzNhOThlNjIgPSBMLnBvcHVwKHttYXhXaWR0aDogJzEwMCUnCiAgICAgICAgICAgIAogICAgICAgICAgICB9KTsKCiAgICAgICAgICAgIAogICAgICAgICAgICAgICAgdmFyIGh0bWxfZGNiNDczMDI5MWUwNDhhNDhjZjAzMWMwZWUzYWQxMzIgPSAkKGA8ZGl2IGlkPSJodG1sX2RjYjQ3MzAyOTFlMDQ4YTQ4Y2YwMzFjMGVlM2FkMTMyIiBzdHlsZT0id2lkdGg6IDEwMC4wJTsgaGVpZ2h0OiAxMDAuMCU7Ij40MC43MDc1OTg3MjMwODcxMTYtNzQuMDEwNDM3Nzk3MDI1MzI8L2Rpdj5gKVswXTsKICAgICAgICAgICAgICAgIHBvcHVwX2FjY2NmMWMzZDFlMzQwNzA4ZmRhOWQ5N2MzYTk4ZTYyLnNldENvbnRlbnQoaHRtbF9kY2I0NzMwMjkxZTA0OGE0OGNmMDMxYzBlZTNhZDEzMik7CiAgICAgICAgICAgIAoKICAgICAgICAgICAgbWFya2VyX2RjOWM1ZGZjMTkyNjQyZjFiNDU2MTBlY2M1MTE3ZGM0LmJpbmRQb3B1cChwb3B1cF9hY2NjZjFjM2QxZTM0MDcwOGZkYTlkOTdjM2E5OGU2MikKICAgICAgICAgICAgOwoKICAgICAgICAgICAgCiAgICAgICAgCiAgICAKICAgICAgICB2YXIgbWFya2VyXzY5Zjg1YmU1NmJlOTQwYWFiYjQ2NDEzOTM1YjQ1NTA0ID0gTC5tYXJrZXIoCiAgICAgICAgICAgIFs0MC43NTc2MTU3MTU0MjA0MiwgLTczLjkyNTk1MjUzMDQ0ODgyXSwKICAgICAgICAgICAgewogICAgICAgICAgICAgICAgaWNvbjogbmV3IEwuSWNvbi5EZWZhdWx0KCksCiAgICAgICAgICAgICAgICB9CiAgICAgICAgICAgICkuYWRkVG8obWFwXzAxZDdkZmY5YTY5MTRjMmZiNmM3ZTkxYjYxYzE0MmNlKTsKICAgICAgICAKICAgIAogICAgICAgICAgICB2YXIgcG9wdXBfNzVmMGM4NTRhODY0NGI4N2E0MDNkZDIyMjRhZDBhYTAgPSBMLnBvcHVwKHttYXhXaWR0aDogJzEwMCUnCiAgICAgICAgICAgIAogICAgICAgICAgICB9KTsKCiAgICAgICAgICAgIAogICAgICAgICAgICAgICAgdmFyIGh0bWxfYzA2ZDdkYzRjZDAxNDZmN2FmNTU5OTE2YmRhOWYxY2IgPSAkKGA8ZGl2IGlkPSJodG1sX2MwNmQ3ZGM0Y2QwMTQ2ZjdhZjU1OTkxNmJkYTlmMWNiIiBzdHlsZT0id2lkdGg6IDEwMC4wJTsgaGVpZ2h0OiAxMDAuMCU7Ij40MC43NTc2MTU3MTU0MjA0Mi03My45MjU5NTI1MzA0NDg4MjwvZGl2PmApWzBdOwogICAgICAgICAgICAgICAgcG9wdXBfNzVmMGM4NTRhODY0NGI4N2E0MDNkZDIyMjRhZDBhYTAuc2V0Q29udGVudChodG1sX2MwNmQ3ZGM0Y2QwMTQ2ZjdhZjU1OTkxNmJkYTlmMWNiKTsKICAgICAgICAgICAgCgogICAgICAgICAgICBtYXJrZXJfNjlmODViZTU2YmU5NDBhYWJiNDY0MTM5MzViNDU1MDQuYmluZFBvcHVwKHBvcHVwXzc1ZjBjODU0YTg2NDRiODdhNDAzZGQyMjI0YWQwYWEwKQogICAgICAgICAgICA7CgogICAgICAgICAgICAKICAgICAgICAKICAgIAogICAgICAgIHZhciBtYXJrZXJfMWY1ZjNhMWI2ZDQ5NDQzOGE1MWJmMzk0MGI4NGI3MTkgPSBMLm1hcmtlcigKICAgICAgICAgICAgWzQwLjgwNjI5MDMzMzA2MDI3LCAtNzMuOTQ4MTg4MzA2NTAxODZdLAogICAgICAgICAgICB7CiAgICAgICAgICAgICAgICBpY29uOiBuZXcgTC5JY29uLkRlZmF1bHQoKSwKICAgICAgICAgICAgICAgIH0KICAgICAgICAgICAgKS5hZGRUbyhtYXBfMDFkN2RmZjlhNjkxNGMyZmI2YzdlOTFiNjFjMTQyY2UpOwogICAgICAgIAogICAgCiAgICAgICAgICAgIHZhciBwb3B1cF8xMzRmMzJmNDg1Mzk0MTg5OWQxM2M4MGQ0ZjRkM2I5YSA9IEwucG9wdXAoe21heFdpZHRoOiAnMTAwJScKICAgICAgICAgICAgCiAgICAgICAgICAgIH0pOwoKICAgICAgICAgICAgCiAgICAgICAgICAgICAgICB2YXIgaHRtbF8zYmNjMmI1NTlhOWE0Yzc4OWU0NWY3NjQ4ZjVhZTRiYiA9ICQoYDxkaXYgaWQ9Imh0bWxfM2JjYzJiNTU5YTlhNGM3ODllNDVmNzY0OGY1YWU0YmIiIHN0eWxlPSJ3aWR0aDogMTAwLjAlOyBoZWlnaHQ6IDEwMC4wJTsiPjQwLjgwNjI5MDMzMzA2MDI3LTczLjk0ODE4ODMwNjUwMTg2PC9kaXY+YClbMF07CiAgICAgICAgICAgICAgICBwb3B1cF8xMzRmMzJmNDg1Mzk0MTg5OWQxM2M4MGQ0ZjRkM2I5YS5zZXRDb250ZW50KGh0bWxfM2JjYzJiNTU5YTlhNGM3ODllNDVmNzY0OGY1YWU0YmIpOwogICAgICAgICAgICAKCiAgICAgICAgICAgIG1hcmtlcl8xZjVmM2ExYjZkNDk0NDM4YTUxYmYzOTQwYjg0YjcxOS5iaW5kUG9wdXAocG9wdXBfMTM0ZjMyZjQ4NTM5NDE4OTlkMTNjODBkNGY0ZDNiOWEpCiAgICAgICAgICAgIDsKCiAgICAgICAgICAgIAogICAgICAgIAogICAgCiAgICAgICAgdmFyIG1hcmtlcl9lOGUxMjc4M2MyOTc0Yzg4OTUwYTdmNDY2ZDY3YWYwMSA9IEwubWFya2VyKAogICAgICAgICAgICBbNDAuNzM2MDk5NDk3OTc5ODEsIC03My45OTU5NDcyNTA1NDcxNV0sCiAgICAgICAgICAgIHsKICAgICAgICAgICAgICAgIGljb246IG5ldyBMLkljb24uRGVmYXVsdCgpLAogICAgICAgICAgICAgICAgfQogICAgICAgICAgICApLmFkZFRvKG1hcF8wMWQ3ZGZmOWE2OTE0YzJmYjZjN2U5MWI2MWMxNDJjZSk7CiAgICAgICAgCiAgICAKICAgICAgICAgICAgdmFyIHBvcHVwXzEzZmU1N2EzYzYwYzQ4OGVhMjZmYzZmZWQ0OGEwM2Y3ID0gTC5wb3B1cCh7bWF4V2lkdGg6ICcxMDAlJwogICAgICAgICAgICAKICAgICAgICAgICAgfSk7CgogICAgICAgICAgICAKICAgICAgICAgICAgICAgIHZhciBodG1sXzMzZTNlOWY0YWQ2MTRhMGQ4ZTYzNjUzYjAzNjkxMTE1ID0gJChgPGRpdiBpZD0iaHRtbF8zM2UzZTlmNGFkNjE0YTBkOGU2MzY1M2IwMzY5MTExNSIgc3R5bGU9IndpZHRoOiAxMDAuMCU7IGhlaWdodDogMTAwLjAlOyI+NDAuNzM2MDk5NDk3OTc5ODEtNzMuOTk1OTQ3MjUwNTQ3MTU8L2Rpdj5gKVswXTsKICAgICAgICAgICAgICAgIHBvcHVwXzEzZmU1N2EzYzYwYzQ4OGVhMjZmYzZmZWQ0OGEwM2Y3LnNldENvbnRlbnQoaHRtbF8zM2UzZTlmNGFkNjE0YTBkOGU2MzY1M2IwMzY5MTExNSk7CiAgICAgICAgICAgIAoKICAgICAgICAgICAgbWFya2VyX2U4ZTEyNzgzYzI5NzRjODg5NTBhN2Y0NjZkNjdhZjAxLmJpbmRQb3B1cChwb3B1cF8xM2ZlNTdhM2M2MGM0ODhlYTI2ZmM2ZmVkNDhhMDNmNykKICAgICAgICAgICAgOwoKICAgICAgICAgICAgCiAgICAgICAgCiAgICAKICAgICAgICB2YXIgbWFya2VyX2ZlZTc3MmE3MTNmMjRlMzM4NjhiMjViMWU2ZTYyMTE2ID0gTC5tYXJrZXIoCiAgICAgICAgICAgIFs0MC43NzAyNTc0NDU2MzI0MywgLTczLjk4NzkwMzIzOTI5NzA1XSwKICAgICAgICAgICAgewogICAgICAgICAgICAgICAgaWNvbjogbmV3IEwuSWNvbi5EZWZhdWx0KCksCiAgICAgICAgICAgICAgICB9CiAgICAgICAgICAgICkuYWRkVG8obWFwXzAxZDdkZmY5YTY5MTRjMmZiNmM3ZTkxYjYxYzE0MmNlKTsKICAgICAgICAKICAgIAogICAgICAgICAgICB2YXIgcG9wdXBfY2E2NmQ3ZjZkNGM4NGI2Nzk0YTY2YzJmMGFmNTA0OTYgPSBMLnBvcHVwKHttYXhXaWR0aDogJzEwMCUnCiAgICAgICAgICAgIAogICAgICAgICAgICB9KTsKCiAgICAgICAgICAgIAogICAgICAgICAgICAgICAgdmFyIGh0bWxfNjU2ODUwMTM3NWRkNDVhZDgwY2NjMDc4YzM5YzkyOWYgPSAkKGA8ZGl2IGlkPSJodG1sXzY1Njg1MDEzNzVkZDQ1YWQ4MGNjYzA3OGMzOWM5MjlmIiBzdHlsZT0id2lkdGg6IDEwMC4wJTsgaGVpZ2h0OiAxMDAuMCU7Ij40MC43NzAyNTc0NDU2MzI0My03My45ODc5MDMyMzkyOTcwNTwvZGl2PmApWzBdOwogICAgICAgICAgICAgICAgcG9wdXBfY2E2NmQ3ZjZkNGM4NGI2Nzk0YTY2YzJmMGFmNTA0OTYuc2V0Q29udGVudChodG1sXzY1Njg1MDEzNzVkZDQ1YWQ4MGNjYzA3OGMzOWM5MjlmKTsKICAgICAgICAgICAgCgogICAgICAgICAgICBtYXJrZXJfZmVlNzcyYTcxM2YyNGUzMzg2OGIyNWIxZTZlNjIxMTYuYmluZFBvcHVwKHBvcHVwX2NhNjZkN2Y2ZDRjODRiNjc5NGE2NmMyZjBhZjUwNDk2KQogICAgICAgICAgICA7CgogICAgICAgICAgICAKICAgICAgICAKICAgIAogICAgICAgIHZhciBtYXJrZXJfZDk2YjBiNmRhMWRiNGJjNWI5M2IyZDNlYWM5ZTk1MjAgPSBMLm1hcmtlcigKICAgICAgICAgICAgWzQwLjc0NTI1NzUzNzI1MzkzNCwgLTczLjk4MDM1OTI2MDI2OTQyXSwKICAgICAgICAgICAgewogICAgICAgICAgICAgICAgaWNvbjogbmV3IEwuSWNvbi5EZWZhdWx0KCksCiAgICAgICAgICAgICAgICB9CiAgICAgICAgICAgICkuYWRkVG8obWFwXzAxZDdkZmY5YTY5MTRjMmZiNmM3ZTkxYjYxYzE0MmNlKTsKICAgICAgICAKICAgIAogICAgICAgICAgICB2YXIgcG9wdXBfZTU2NDAxNWMwODgzNDJkMWE5NzQ1MDA5MmJjMTFjMDAgPSBMLnBvcHVwKHttYXhXaWR0aDogJzEwMCUnCiAgICAgICAgICAgIAogICAgICAgICAgICB9KTsKCiAgICAgICAgICAgIAogICAgICAgICAgICAgICAgdmFyIGh0bWxfYTc3NGY0MTFhMGY4NDk0ZGE1ZmYwZWUxYjQ0ZTc1ZjggPSAkKGA8ZGl2IGlkPSJodG1sX2E3NzRmNDExYTBmODQ5NGRhNWZmMGVlMWI0NGU3NWY4IiBzdHlsZT0id2lkdGg6IDEwMC4wJTsgaGVpZ2h0OiAxMDAuMCU7Ij40MC43NDUyNTc1MzcyNTM5MzQtNzMuOTgwMzU5MjYwMjY5NDI8L2Rpdj5gKVswXTsKICAgICAgICAgICAgICAgIHBvcHVwX2U1NjQwMTVjMDg4MzQyZDFhOTc0NTAwOTJiYzExYzAwLnNldENvbnRlbnQoaHRtbF9hNzc0ZjQxMWEwZjg0OTRkYTVmZjBlZTFiNDRlNzVmOCk7CiAgICAgICAgICAgIAoKICAgICAgICAgICAgbWFya2VyX2Q5NmIwYjZkYTFkYjRiYzViOTNiMmQzZWFjOWU5NTIwLmJpbmRQb3B1cChwb3B1cF9lNTY0MDE1YzA4ODM0MmQxYTk3NDUwMDkyYmMxMWMwMCkKICAgICAgICAgICAgOwoKICAgICAgICAgICAgCiAgICAgICAgCiAgICAKICAgICAgICB2YXIgbWFya2VyX2M2MzQ1MDA4OGM4ZDQwYTJhZDkxNjFjZjY0YTIyZTI5ID0gTC5tYXJrZXIoCiAgICAgICAgICAgIFs0MC43NjU2MjI2MjM3OTEwOTYsIC03My45ODM2MTk3MTcyNTA5Nl0sCiAgICAgICAgICAgIHsKICAgICAgICAgICAgICAgIGljb246IG5ldyBMLkljb24uRGVmYXVsdCgpLAogICAgICAgICAgICAgICAgfQogICAgICAgICAgICApLmFkZFRvKG1hcF8wMWQ3ZGZmOWE2OTE0YzJmYjZjN2U5MWI2MWMxNDJjZSk7CiAgICAgICAgCiAgICAKICAgICAgICAgICAgdmFyIHBvcHVwXzNkNmVlNjUzMjUxZjQwZjNiMjFmZTgxMjY1YjU3NmQ5ID0gTC5wb3B1cCh7bWF4V2lkdGg6ICcxMDAlJwogICAgICAgICAgICAKICAgICAgICAgICAgfSk7CgogICAgICAgICAgICAKICAgICAgICAgICAgICAgIHZhciBodG1sXzBlY2M1Yjc3ZDdmYTQ2NDhhNGI5NWZjOTRhN2JkODBhID0gJChgPGRpdiBpZD0iaHRtbF8wZWNjNWI3N2Q3ZmE0NjQ4YTRiOTVmYzk0YTdiZDgwYSIgc3R5bGU9IndpZHRoOiAxMDAuMCU7IGhlaWdodDogMTAwLjAlOyI+NDAuNzY1NjIyNjIzNzkxMDk2LTczLjk4MzYxOTcxNzI1MDk2PC9kaXY+YClbMF07CiAgICAgICAgICAgICAgICBwb3B1cF8zZDZlZTY1MzI1MWY0MGYzYjIxZmU4MTI2NWI1NzZkOS5zZXRDb250ZW50KGh0bWxfMGVjYzViNzdkN2ZhNDY0OGE0Yjk1ZmM5NGE3YmQ4MGEpOwogICAgICAgICAgICAKCiAgICAgICAgICAgIG1hcmtlcl9jNjM0NTAwODhjOGQ0MGEyYWQ5MTYxY2Y2NGEyMmUyOS5iaW5kUG9wdXAocG9wdXBfM2Q2ZWU2NTMyNTFmNDBmM2IyMWZlODEyNjViNTc2ZDkpCiAgICAgICAgICAgIDsKCiAgICAgICAgICAgIAogICAgICAgIAogICAgCiAgICAgICAgdmFyIG1hcmtlcl8xYWY3NzU1ZWYyMjI0MjVlOWIxZDdhZTczZmY5MTIwYyA9IEwubWFya2VyKAogICAgICAgICAgICBbNDAuNzI4NTMwNzYyODk1OTg2LCAtNzMuOTkxOTUwOTQ3MTEzNDhdLAogICAgICAgICAgICB7CiAgICAgICAgICAgICAgICBpY29uOiBuZXcgTC5JY29uLkRlZmF1bHQoKSwKICAgICAgICAgICAgICAgIH0KICAgICAgICAgICAgKS5hZGRUbyhtYXBfMDFkN2RmZjlhNjkxNGMyZmI2YzdlOTFiNjFjMTQyY2UpOwogICAgICAgIAogICAgCiAgICAgICAgICAgIHZhciBwb3B1cF8xODBiZDI0ZTFhY2Y0OGZhODQ4NTdlYTVjMzk4MDE1YSA9IEwucG9wdXAoe21heFdpZHRoOiAnMTAwJScKICAgICAgICAgICAgCiAgICAgICAgICAgIH0pOwoKICAgICAgICAgICAgCiAgICAgICAgICAgICAgICB2YXIgaHRtbF9jY2Y3OTQzODc2MmU0NjExODA3YWM2NTY0NjRlMTQxMCA9ICQoYDxkaXYgaWQ9Imh0bWxfY2NmNzk0Mzg3NjJlNDYxMTgwN2FjNjU2NDY0ZTE0MTAiIHN0eWxlPSJ3aWR0aDogMTAwLjAlOyBoZWlnaHQ6IDEwMC4wJTsiPjQwLjcyODUzMDc2Mjg5NTk4Ni03My45OTE5NTA5NDcxMTM0ODwvZGl2PmApWzBdOwogICAgICAgICAgICAgICAgcG9wdXBfMTgwYmQyNGUxYWNmNDhmYTg0ODU3ZWE1YzM5ODAxNWEuc2V0Q29udGVudChodG1sX2NjZjc5NDM4NzYyZTQ2MTE4MDdhYzY1NjQ2NGUxNDEwKTsKICAgICAgICAgICAgCgogICAgICAgICAgICBtYXJrZXJfMWFmNzc1NWVmMjIyNDI1ZTliMWQ3YWU3M2ZmOTEyMGMuYmluZFBvcHVwKHBvcHVwXzE4MGJkMjRlMWFjZjQ4ZmE4NDg1N2VhNWMzOTgwMTVhKQogICAgICAgICAgICA7CgogICAgICAgICAgICAKICAgICAgICAKICAgIAogICAgICAgIHZhciBtYXJrZXJfZTRmNmFkOTg0ZjQ4NDkzYTg5YzBlNjM1NTFiY2JjMDkgPSBMLm1hcmtlcigKICAgICAgICAgICAgWzQwLjcwOTIwMzk4NTk2NTYxNSwgLTczLjgyMDk0NzU4OTI5NjI4XSwKICAgICAgICAgICAgewogICAgICAgICAgICAgICAgaWNvbjogbmV3IEwuSWNvbi5EZWZhdWx0KCksCiAgICAgICAgICAgICAgICB9CiAgICAgICAgICAgICkuYWRkVG8obWFwXzAxZDdkZmY5YTY5MTRjMmZiNmM3ZTkxYjYxYzE0MmNlKTsKICAgICAgICAKICAgIAogICAgICAgICAgICB2YXIgcG9wdXBfODFmNjBjNTBhYjY4NDFmYTg0YTBjZGVhZDI4OWMwYzIgPSBMLnBvcHVwKHttYXhXaWR0aDogJzEwMCUnCiAgICAgICAgICAgIAogICAgICAgICAgICB9KTsKCiAgICAgICAgICAgIAogICAgICAgICAgICAgICAgdmFyIGh0bWxfZTdkNmFmMzgxNzFiNGJmOTgzY2I4NWFhNGVjNzRlNTcgPSAkKGA8ZGl2IGlkPSJodG1sX2U3ZDZhZjM4MTcxYjRiZjk4M2NiODVhYTRlYzc0ZTU3IiBzdHlsZT0id2lkdGg6IDEwMC4wJTsgaGVpZ2h0OiAxMDAuMCU7Ij40MC43MDkyMDM5ODU5NjU2MTUtNzMuODIwOTQ3NTg5Mjk2Mjg8L2Rpdj5gKVswXTsKICAgICAgICAgICAgICAgIHBvcHVwXzgxZjYwYzUwYWI2ODQxZmE4NGEwY2RlYWQyODljMGMyLnNldENvbnRlbnQoaHRtbF9lN2Q2YWYzODE3MWI0YmY5ODNjYjg1YWE0ZWM3NGU1Nyk7CiAgICAgICAgICAgIAoKICAgICAgICAgICAgbWFya2VyX2U0ZjZhZDk4NGY0ODQ5M2E4OWMwZTYzNTUxYmNiYzA5LmJpbmRQb3B1cChwb3B1cF84MWY2MGM1MGFiNjg0MWZhODRhMGNkZWFkMjg5YzBjMikKICAgICAgICAgICAgOwoKICAgICAgICAgICAgCiAgICAgICAgCiAgICAKICAgICAgICB2YXIgbWFya2VyXzU5NmY5ZDJkOTI4YTRjOWM4NzA2ZjU1NjA5ZDdiY2Q4ID0gTC5tYXJrZXIoCiAgICAgICAgICAgIFs0MC42OTgxMzYwMDg2MTIsIC03My45MzEwMzE5MTY0MDEyXSwKICAgICAgICAgICAgewogICAgICAgICAgICAgICAgaWNvbjogbmV3IEwuSWNvbi5EZWZhdWx0KCksCiAgICAgICAgICAgICAgICB9CiAgICAgICAgICAgICkuYWRkVG8obWFwXzAxZDdkZmY5YTY5MTRjMmZiNmM3ZTkxYjYxYzE0MmNlKTsKICAgICAgICAKICAgIAogICAgICAgICAgICB2YXIgcG9wdXBfMjViNjlkNjVjODViNGQ2OGFjYjY0NGFjNDYyYzE5MzMgPSBMLnBvcHVwKHttYXhXaWR0aDogJzEwMCUnCiAgICAgICAgICAgIAogICAgICAgICAgICB9KTsKCiAgICAgICAgICAgIAogICAgICAgICAgICAgICAgdmFyIGh0bWxfZWVlY2RmZTVmMWFkNGUxYWJiNjE1YzE2ZDlmNmM2OWIgPSAkKGA8ZGl2IGlkPSJodG1sX2VlZWNkZmU1ZjFhZDRlMWFiYjYxNWMxNmQ5ZjZjNjliIiBzdHlsZT0id2lkdGg6IDEwMC4wJTsgaGVpZ2h0OiAxMDAuMCU7Ij40MC42OTgxMzYwMDg2MTItNzMuOTMxMDMxOTE2NDAxMjwvZGl2PmApWzBdOwogICAgICAgICAgICAgICAgcG9wdXBfMjViNjlkNjVjODViNGQ2OGFjYjY0NGFjNDYyYzE5MzMuc2V0Q29udGVudChodG1sX2VlZWNkZmU1ZjFhZDRlMWFiYjYxNWMxNmQ5ZjZjNjliKTsKICAgICAgICAgICAgCgogICAgICAgICAgICBtYXJrZXJfNTk2ZjlkMmQ5MjhhNGM5Yzg3MDZmNTU2MDlkN2JjZDguYmluZFBvcHVwKHBvcHVwXzI1YjY5ZDY1Yzg1YjRkNjhhY2I2NDRhYzQ2MmMxOTMzKQogICAgICAgICAgICA7CgogICAgICAgICAgICAKICAgICAgICAKICAgIAogICAgICAgIHZhciBtYXJrZXJfMjNlODhlYWZjY2Y5NGU1NDljZjY3N2M2NGE3ZTU3MmEgPSBMLm1hcmtlcigKICAgICAgICAgICAgWzQwLjY4MjU1MDM4NzgyMjQ0LCAtNzMuOTY5MzUxMTIwMjM3ODZdLAogICAgICAgICAgICB7CiAgICAgICAgICAgICAgICBpY29uOiBuZXcgTC5JY29uLkRlZmF1bHQoKSwKICAgICAgICAgICAgICAgIH0KICAgICAgICAgICAgKS5hZGRUbyhtYXBfMDFkN2RmZjlhNjkxNGMyZmI2YzdlOTFiNjFjMTQyY2UpOwogICAgICAgIAogICAgCiAgICAgICAgICAgIHZhciBwb3B1cF8yYWYzZmE2ODVmMGQ0Y2RhODZjYTY1NzIzMzM5ZmYzYiA9IEwucG9wdXAoe21heFdpZHRoOiAnMTAwJScKICAgICAgICAgICAgCiAgICAgICAgICAgIH0pOwoKICAgICAgICAgICAgCiAgICAgICAgICAgICAgICB2YXIgaHRtbF8zNTgxMTQwNGE5ZmY0ZWE2YWEwNWIxZjM3MDUyNGFhYSA9ICQoYDxkaXYgaWQ9Imh0bWxfMzU4MTE0MDRhOWZmNGVhNmFhMDViMWYzNzA1MjRhYWEiIHN0eWxlPSJ3aWR0aDogMTAwLjAlOyBoZWlnaHQ6IDEwMC4wJTsiPjQwLjY4MjU1MDM4NzgyMjQ0LTczLjk2OTM1MTEyMDIzNzg2PC9kaXY+YClbMF07CiAgICAgICAgICAgICAgICBwb3B1cF8yYWYzZmE2ODVmMGQ0Y2RhODZjYTY1NzIzMzM5ZmYzYi5zZXRDb250ZW50KGh0bWxfMzU4MTE0MDRhOWZmNGVhNmFhMDViMWYzNzA1MjRhYWEpOwogICAgICAgICAgICAKCiAgICAgICAgICAgIG1hcmtlcl8yM2U4OGVhZmNjZjk0ZTU0OWNmNjc3YzY0YTdlNTcyYS5iaW5kUG9wdXAocG9wdXBfMmFmM2ZhNjg1ZjBkNGNkYTg2Y2E2NTcyMzMzOWZmM2IpCiAgICAgICAgICAgIDsKCiAgICAgICAgICAgIAogICAgICAgIAogICAgCiAgICAgICAgdmFyIG1hcmtlcl9kYTFkYjc2YzBkNDk0ZWU0OTA2MGI2YTg5MGJhMzBkYSA9IEwubWFya2VyKAogICAgICAgICAgICBbNDAuNzIzNTY3NjE4Mzc4NDA0LCAtNzMuOTg0OTA2ODM0OTI0NjRdLAogICAgICAgICAgICB7CiAgICAgICAgICAgICAgICBpY29uOiBuZXcgTC5JY29uLkRlZmF1bHQoKSwKICAgICAgICAgICAgICAgIH0KICAgICAgICAgICAgKS5hZGRUbyhtYXBfMDFkN2RmZjlhNjkxNGMyZmI2YzdlOTFiNjFjMTQyY2UpOwogICAgICAgIAogICAgCiAgICAgICAgICAgIHZhciBwb3B1cF9jNGI3MTQyOTE3YmE0NzY1YjNiYWVlODk2NDhjNmI3ZSA9IEwucG9wdXAoe21heFdpZHRoOiAnMTAwJScKICAgICAgICAgICAgCiAgICAgICAgICAgIH0pOwoKICAgICAgICAgICAgCiAgICAgICAgICAgICAgICB2YXIgaHRtbF8yMWYzN2E4OWFlZDE0ZTkzYmQ5MGQ4NjhlZjhlYmNkZSA9ICQoYDxkaXYgaWQ9Imh0bWxfMjFmMzdhODlhZWQxNGU5M2JkOTBkODY4ZWY4ZWJjZGUiIHN0eWxlPSJ3aWR0aDogMTAwLjAlOyBoZWlnaHQ6IDEwMC4wJTsiPjQwLjcyMzU2NzYxODM3ODQwNC03My45ODQ5MDY4MzQ5MjQ2NDwvZGl2PmApWzBdOwogICAgICAgICAgICAgICAgcG9wdXBfYzRiNzE0MjkxN2JhNDc2NWIzYmFlZTg5NjQ4YzZiN2Uuc2V0Q29udGVudChodG1sXzIxZjM3YTg5YWVkMTRlOTNiZDkwZDg2OGVmOGViY2RlKTsKICAgICAgICAgICAgCgogICAgICAgICAgICBtYXJrZXJfZGExZGI3NmMwZDQ5NGVlNDkwNjBiNmE4OTBiYTMwZGEuYmluZFBvcHVwKHBvcHVwX2M0YjcxNDI5MTdiYTQ3NjViM2JhZWU4OTY0OGM2YjdlKQogICAgICAgICAgICA7CgogICAgICAgICAgICAKICAgICAgICAKICAgIAogICAgICAgIHZhciBtYXJrZXJfZTczNTExOGJlM2RkNDY2OWIzM2E5ZjlkNDU5ZWI5MTMgPSBMLm1hcmtlcigKICAgICAgICAgICAgWzQwLjc2OTY1MTYyMDY0NjA5NCwgLTczLjk1OTc1ODEwMDM3MDk5XSwKICAgICAgICAgICAgewogICAgICAgICAgICAgICAgaWNvbjogbmV3IEwuSWNvbi5EZWZhdWx0KCksCiAgICAgICAgICAgICAgICB9CiAgICAgICAgICAgICkuYWRkVG8obWFwXzAxZDdkZmY5YTY5MTRjMmZiNmM3ZTkxYjYxYzE0MmNlKTsKICAgICAgICAKICAgIAogICAgICAgICAgICB2YXIgcG9wdXBfMGQzNWEwMmMyNTgzNDBmYThhN2RmYWY4YjY2MWM2MTMgPSBMLnBvcHVwKHttYXhXaWR0aDogJzEwMCUnCiAgICAgICAgICAgIAogICAgICAgICAgICB9KTsKCiAgICAgICAgICAgIAogICAgICAgICAgICAgICAgdmFyIGh0bWxfY2E2YmUyZjE5M2RmNGQzYzk2ZjAwZWMzNGMzMDcxNDYgPSAkKGA8ZGl2IGlkPSJodG1sX2NhNmJlMmYxOTNkZjRkM2M5NmYwMGVjMzRjMzA3MTQ2IiBzdHlsZT0id2lkdGg6IDEwMC4wJTsgaGVpZ2h0OiAxMDAuMCU7Ij40MC43Njk2NTE2MjA2NDYwOTQtNzMuOTU5NzU4MTAwMzcwOTk8L2Rpdj5gKVswXTsKICAgICAgICAgICAgICAgIHBvcHVwXzBkMzVhMDJjMjU4MzQwZmE4YTdkZmFmOGI2NjFjNjEzLnNldENvbnRlbnQoaHRtbF9jYTZiZTJmMTkzZGY0ZDNjOTZmMDBlYzM0YzMwNzE0Nik7CiAgICAgICAgICAgIAoKICAgICAgICAgICAgbWFya2VyX2U3MzUxMThiZTNkZDQ2NjliMzNhOWY5ZDQ1OWViOTEzLmJpbmRQb3B1cChwb3B1cF8wZDM1YTAyYzI1ODM0MGZhOGE3ZGZhZjhiNjYxYzYxMykKICAgICAgICAgICAgOwoKICAgICAgICAgICAgCiAgICAgICAgCiAgICAKICAgICAgICB2YXIgbWFya2VyXzk3ZDJjY2Q5Y2NjMzQwYzY4Mzk0ZGY2MDBlOTZkNDA4ID0gTC5tYXJrZXIoCiAgICAgICAgICAgIFs0MC43NDE5MDk5MDkwMDM0OCwgLTczLjk5MzI1NTk0OTMzMjA0XSwKICAgICAgICAgICAgewogICAgICAgICAgICAgICAgaWNvbjogbmV3IEwuSWNvbi5EZWZhdWx0KCksCiAgICAgICAgICAgICAgICB9CiAgICAgICAgICAgICkuYWRkVG8obWFwXzAxZDdkZmY5YTY5MTRjMmZiNmM3ZTkxYjYxYzE0MmNlKTsKICAgICAgICAKICAgIAogICAgICAgICAgICB2YXIgcG9wdXBfYTE3YTg1ZWRlMzMwNDhiZjgzYWY4YWUyMjFlODExMjQgPSBMLnBvcHVwKHttYXhXaWR0aDogJzEwMCUnCiAgICAgICAgICAgIAogICAgICAgICAgICB9KTsKCiAgICAgICAgICAgIAogICAgICAgICAgICAgICAgdmFyIGh0bWxfMDlhM2VhODEzMDBmNDJjOTk4NGU5ZTBjMWQ1NmM1NTMgPSAkKGA8ZGl2IGlkPSJodG1sXzA5YTNlYTgxMzAwZjQyYzk5ODRlOWUwYzFkNTZjNTUzIiBzdHlsZT0id2lkdGg6IDEwMC4wJTsgaGVpZ2h0OiAxMDAuMCU7Ij40MC43NDE5MDk5MDkwMDM0OC03My45OTMyNTU5NDkzMzIwNDwvZGl2PmApWzBdOwogICAgICAgICAgICAgICAgcG9wdXBfYTE3YTg1ZWRlMzMwNDhiZjgzYWY4YWUyMjFlODExMjQuc2V0Q29udGVudChodG1sXzA5YTNlYTgxMzAwZjQyYzk5ODRlOWUwYzFkNTZjNTUzKTsKICAgICAgICAgICAgCgogICAgICAgICAgICBtYXJrZXJfOTdkMmNjZDljY2MzNDBjNjgzOTRkZjYwMGU5NmQ0MDguYmluZFBvcHVwKHBvcHVwX2ExN2E4NWVkZTMzMDQ4YmY4M2FmOGFlMjIxZTgxMTI0KQogICAgICAgICAgICA7CgogICAgICAgICAgICAKICAgICAgICAKICAgIAogICAgICAgIHZhciBtYXJrZXJfYWM0NDdlMWYxZjdhNDVhMDgwMDM3OWE2Y2VkNWE2MDYgPSBMLm1hcmtlcigKICAgICAgICAgICAgWzQwLjc2MTEyMTkxMDY3Mjk4LCAtNzMuOTk2OTUxNzQzMDgxMzRdLAogICAgICAgICAgICB7CiAgICAgICAgICAgICAgICBpY29uOiBuZXcgTC5JY29uLkRlZmF1bHQoKSwKICAgICAgICAgICAgICAgIH0KICAgICAgICAgICAgKS5hZGRUbyhtYXBfMDFkN2RmZjlhNjkxNGMyZmI2YzdlOTFiNjFjMTQyY2UpOwogICAgICAgIAogICAgCiAgICAgICAgICAgIHZhciBwb3B1cF9mMjRkY2QwODg3MTU0OTdiYTJiNDIzNzU5ODI1NTY4NSA9IEwucG9wdXAoe21heFdpZHRoOiAnMTAwJScKICAgICAgICAgICAgCiAgICAgICAgICAgIH0pOwoKICAgICAgICAgICAgCiAgICAgICAgICAgICAgICB2YXIgaHRtbF9lMGQyY2JkODAxOTQ0YTYzYTNhMWY5ODhiMGYwMzI0NCA9ICQoYDxkaXYgaWQ9Imh0bWxfZTBkMmNiZDgwMTk0NGE2M2EzYTFmOTg4YjBmMDMyNDQiIHN0eWxlPSJ3aWR0aDogMTAwLjAlOyBoZWlnaHQ6IDEwMC4wJTsiPjQwLjc2MTEyMTkxMDY3Mjk4LTczLjk5Njk1MTc0MzA4MTM0PC9kaXY+YClbMF07CiAgICAgICAgICAgICAgICBwb3B1cF9mMjRkY2QwODg3MTU0OTdiYTJiNDIzNzU5ODI1NTY4NS5zZXRDb250ZW50KGh0bWxfZTBkMmNiZDgwMTk0NGE2M2EzYTFmOTg4YjBmMDMyNDQpOwogICAgICAgICAgICAKCiAgICAgICAgICAgIG1hcmtlcl9hYzQ0N2UxZjFmN2E0NWEwODAwMzc5YTZjZWQ1YTYwNi5iaW5kUG9wdXAocG9wdXBfZjI0ZGNkMDg4NzE1NDk3YmEyYjQyMzc1OTgyNTU2ODUpCiAgICAgICAgICAgIDsKCiAgICAgICAgICAgIAogICAgICAgIAogICAgCiAgICAgICAgdmFyIG1hcmtlcl9lNmIxOTc2ZTIzMGU0MDI1OWFhMGUwMmVlMmNlZDE4OSA9IEwubWFya2VyKAogICAgICAgICAgICBbNDAuNzQ4MzU3MjE5NjEwMjUsIC03NC4wMDMyNTkxMTY3ODc3NV0sCiAgICAgICAgICAgIHsKICAgICAgICAgICAgICAgIGljb246IG5ldyBMLkljb24uRGVmYXVsdCgpLAogICAgICAgICAgICAgICAgfQogICAgICAgICAgICApLmFkZFRvKG1hcF8wMWQ3ZGZmOWE2OTE0YzJmYjZjN2U5MWI2MWMxNDJjZSk7CiAgICAgICAgCiAgICAKICAgICAgICAgICAgdmFyIHBvcHVwXzNiNGYwMDQxODkwNjQ0MTI5MGI4YmZmZTE0NDU3NjYyID0gTC5wb3B1cCh7bWF4V2lkdGg6ICcxMDAlJwogICAgICAgICAgICAKICAgICAgICAgICAgfSk7CgogICAgICAgICAgICAKICAgICAgICAgICAgICAgIHZhciBodG1sX2I1MTc1MDBlNzExMjRmNTg5ZWU4MGY1OWM3YzcwZTI5ID0gJChgPGRpdiBpZD0iaHRtbF9iNTE3NTAwZTcxMTI0ZjU4OWVlODBmNTljN2M3MGUyOSIgc3R5bGU9IndpZHRoOiAxMDAuMCU7IGhlaWdodDogMTAwLjAlOyI+NDAuNzQ4MzU3MjE5NjEwMjUtNzQuMDAzMjU5MTE2Nzg3NzU8L2Rpdj5gKVswXTsKICAgICAgICAgICAgICAgIHBvcHVwXzNiNGYwMDQxODkwNjQ0MTI5MGI4YmZmZTE0NDU3NjYyLnNldENvbnRlbnQoaHRtbF9iNTE3NTAwZTcxMTI0ZjU4OWVlODBmNTljN2M3MGUyOSk7CiAgICAgICAgICAgIAoKICAgICAgICAgICAgbWFya2VyX2U2YjE5NzZlMjMwZTQwMjU5YWEwZTAyZWUyY2VkMTg5LmJpbmRQb3B1cChwb3B1cF8zYjRmMDA0MTg5MDY0NDEyOTBiOGJmZmUxNDQ1NzY2MikKICAgICAgICAgICAgOwoKICAgICAgICAgICAgCiAgICAgICAgCjwvc2NyaXB0Pg== onload=\"this.contentDocument.open();this.contentDocument.write(atob(this.getAttribute('data-html')));this.contentDocument.close();\" allowfullscreen webkitallowfullscreen mozallowfullscreen></iframe></div></div>"
            ],
            "text/plain": [
              "<folium.folium.Map at 0x7ff015858630>"
            ]
          },
          "metadata": {
            "tags": []
          },
          "execution_count": 71
        }
      ]
    },
    {
      "cell_type": "markdown",
      "metadata": {
        "id": "nPdp0zohfIBZ",
        "colab_type": "text"
      },
      "source": [
        "#### Plotting the clusters:¶\n"
      ]
    },
    {
      "cell_type": "code",
      "metadata": {
        "id": "hiMkhR4qe-Zq",
        "colab_type": "code",
        "outputId": "0a051652-5650-4419-fb0b-cab1face758a",
        "colab": {
          "base_uri": "https://localhost:8080/",
          "height": 283
        }
      },
      "source": [
        "#Visualising the clusters on a map\n",
        "def plot_clusters(frame):\n",
        "    city_long_border = (-74.03, -73.75)\n",
        "    city_lat_border = (40.63, 40.85)\n",
        "    fig, ax = plt.subplots(ncols=1, nrows=1)\n",
        "    ax.scatter(frame.pickup_longitude.values[:100000], frame.pickup_latitude.values[:100000], s=10, lw=0,\n",
        "               c=frame.pickup_cluster.values[:100000], cmap='tab20', alpha=0.2)\n",
        "    ax.set_xlim(city_long_border)\n",
        "    ax.set_ylim(city_lat_border)\n",
        "    ax.set_xlabel('Longitude')\n",
        "    ax.set_ylabel('Latitude')\n",
        "    plt.show()\n",
        "\n",
        "plot_clusters(new_df)"
      ],
      "execution_count": 0,
      "outputs": [
        {
          "output_type": "display_data",
          "data": {
            "image/png": "[encoded data removed]",
            "text/plain": [
              "<Figure size 432x288 with 1 Axes>"
            ]
          },
          "metadata": {
            "tags": [],
            "needs_background": "light"
          }
        }
      ]
    },
    {
      "cell_type": "markdown",
      "metadata": {
        "id": "DVp5xOurfq9W",
        "colab_type": "text"
      },
      "source": [
        "### **2. Time Binning**\n",
        "\n",
        "The purpose is to set a 10 minute bin such that within a 10 minute interval, we can predict the pick ups. \n",
        "\n",
        "Step 1: we need to subtract the pick up time from unix time ( time elapssed since 12:00AM 1st Jan 2015). \n",
        "\n",
        "Step 2: Inorder to get a 10 minute bin, we have to divide it by 600 \n",
        "\n",
        "Also, we add two more columns \n",
        "\n",
        "1.pickup_cluster - Indicates to which cluster it belogns to.\n",
        "\n",
        "2.pickup_bins - Indicates to which 10min intravel the trip belongs to.\n",
        "\n"
      ]
    },
    {
      "cell_type": "code",
      "metadata": {
        "id": "gecC5vB0fL6_",
        "colab_type": "code",
        "colab": {}
      },
      "source": [
        "\n",
        "def add_pickup_bins(frame,month,year):\n",
        "    unix_pickup_times=[i for i in frame['pickup_times'].values]\n",
        "    unix_times = [[1420070400,1422748800,1425168000,1427846400,1430438400,1433116800],\\\n",
        "                    [1451606400,1454284800,1456790400,1459468800,1462060800,1464739200]]\n",
        "    \n",
        "    start_pickup_unix=unix_times[year-2015][month-1]\n",
        "    tenminutewise_binned_unix_pickup_times=[(int((i-start_pickup_unix)/600)+33) for i in unix_pickup_times]\n",
        "    frame['pickup_bins'] = np.array(tenminutewise_binned_unix_pickup_times)\n",
        "    return frame\n",
        "\n",
        "  "
      ],
      "execution_count": 0,
      "outputs": []
    },
    {
      "cell_type": "code",
      "metadata": {
        "id": "AeXQMLEffuJL",
        "colab_type": "code",
        "colab": {}
      },
      "source": [
        "new_df['pickup_cluster'] = kmeans.predict(new_df[['pickup_latitude', 'pickup_longitude']])\n",
        "jan_2015 = add_pickup_bins(new_df,1,2015)\n",
        "jan_2015_groupby = jan_2015[['pickup_cluster','pickup_bins','trip_distance']].groupby(['pickup_cluster','pickup_bins']).count()\n",
        "\n"
      ],
      "execution_count": 0,
      "outputs": []
    },
    {
      "cell_type": "code",
      "metadata": {
        "id": "IsrZcVApfzPo",
        "colab_type": "code",
        "outputId": "ef9b8901-12c9-4dd0-afe1-3cd91eb3a405",
        "colab": {
          "base_uri": "https://localhost:8080/",
          "height": 224
        }
      },
      "source": [
        "jan_2015.head()"
      ],
      "execution_count": 0,
      "outputs": [
        {
          "output_type": "execute_result",
          "data": {
            "text/html": [
              "<div>\n",
              "<style scoped>\n",
              "    .dataframe tbody tr th:only-of-type {\n",
              "        vertical-align: middle;\n",
              "    }\n",
              "\n",
              "    .dataframe tbody tr th {\n",
              "        vertical-align: top;\n",
              "    }\n",
              "\n",
              "    .dataframe thead th {\n",
              "        text-align: right;\n",
              "    }\n",
              "</style>\n",
              "<table border=\"1\" class=\"dataframe\">\n",
              "  <thead>\n",
              "    <tr style=\"text-align: right;\">\n",
              "      <th></th>\n",
              "      <th>passenger_count</th>\n",
              "      <th>trip_distance</th>\n",
              "      <th>pickup_longitude</th>\n",
              "      <th>pickup_latitude</th>\n",
              "      <th>dropoff_longitude</th>\n",
              "      <th>dropoff_latitude</th>\n",
              "      <th>total_amount</th>\n",
              "      <th>trip_duration</th>\n",
              "      <th>pickup_times</th>\n",
              "      <th>speed</th>\n",
              "      <th>Speed</th>\n",
              "      <th>pickup_cluster</th>\n",
              "      <th>pickup_bins</th>\n",
              "    </tr>\n",
              "  </thead>\n",
              "  <tbody>\n",
              "    <tr>\n",
              "      <th>0</th>\n",
              "      <td>1</td>\n",
              "      <td>1.59</td>\n",
              "      <td>-73.993896</td>\n",
              "      <td>40.750111</td>\n",
              "      <td>-73.974785</td>\n",
              "      <td>40.750618</td>\n",
              "      <td>17.05</td>\n",
              "      <td>18.050000</td>\n",
              "      <td>1.421349e+09</td>\n",
              "      <td>5.285319</td>\n",
              "      <td>5.285319</td>\n",
              "      <td>18</td>\n",
              "      <td>2163</td>\n",
              "    </tr>\n",
              "    <tr>\n",
              "      <th>1</th>\n",
              "      <td>1</td>\n",
              "      <td>3.30</td>\n",
              "      <td>-74.001648</td>\n",
              "      <td>40.724243</td>\n",
              "      <td>-73.994415</td>\n",
              "      <td>40.759109</td>\n",
              "      <td>17.80</td>\n",
              "      <td>19.833333</td>\n",
              "      <td>1.420922e+09</td>\n",
              "      <td>9.983193</td>\n",
              "      <td>9.983193</td>\n",
              "      <td>19</td>\n",
              "      <td>1452</td>\n",
              "    </tr>\n",
              "    <tr>\n",
              "      <th>2</th>\n",
              "      <td>1</td>\n",
              "      <td>1.80</td>\n",
              "      <td>-73.963341</td>\n",
              "      <td>40.802788</td>\n",
              "      <td>-73.951820</td>\n",
              "      <td>40.824413</td>\n",
              "      <td>10.80</td>\n",
              "      <td>10.050000</td>\n",
              "      <td>1.420922e+09</td>\n",
              "      <td>10.746269</td>\n",
              "      <td>10.746269</td>\n",
              "      <td>12</td>\n",
              "      <td>1452</td>\n",
              "    </tr>\n",
              "    <tr>\n",
              "      <th>3</th>\n",
              "      <td>1</td>\n",
              "      <td>0.50</td>\n",
              "      <td>-74.009087</td>\n",
              "      <td>40.713818</td>\n",
              "      <td>-74.004326</td>\n",
              "      <td>40.719986</td>\n",
              "      <td>4.80</td>\n",
              "      <td>1.866667</td>\n",
              "      <td>1.420922e+09</td>\n",
              "      <td>16.071429</td>\n",
              "      <td>16.071429</td>\n",
              "      <td>3</td>\n",
              "      <td>1452</td>\n",
              "    </tr>\n",
              "    <tr>\n",
              "      <th>4</th>\n",
              "      <td>1</td>\n",
              "      <td>3.00</td>\n",
              "      <td>-73.971176</td>\n",
              "      <td>40.762428</td>\n",
              "      <td>-74.004181</td>\n",
              "      <td>40.742653</td>\n",
              "      <td>16.30</td>\n",
              "      <td>19.316667</td>\n",
              "      <td>1.420922e+09</td>\n",
              "      <td>9.318378</td>\n",
              "      <td>9.318378</td>\n",
              "      <td>23</td>\n",
              "      <td>1452</td>\n",
              "    </tr>\n",
              "  </tbody>\n",
              "</table>\n",
              "</div>"
            ],
            "text/plain": [
              "   passenger_count  trip_distance  ...  pickup_cluster  pickup_bins\n",
              "0                1           1.59  ...              18         2163\n",
              "1                1           3.30  ...              19         1452\n",
              "2                1           1.80  ...              12         1452\n",
              "3                1           0.50  ...               3         1452\n",
              "4                1           3.00  ...              23         1452\n",
              "\n",
              "[5 rows x 13 columns]"
            ]
          },
          "metadata": {
            "tags": []
          },
          "execution_count": 75
        }
      ]
    },
    {
      "cell_type": "code",
      "metadata": {
        "id": "ItRLZGW5gP0B",
        "colab_type": "code",
        "outputId": "1351da98-5285-409f-aa98-b3b12aa4d3da",
        "colab": {
          "base_uri": "https://localhost:8080/",
          "height": 235
        }
      },
      "source": [
        "jan_2015_groupby.head()"
      ],
      "execution_count": 0,
      "outputs": [
        {
          "output_type": "execute_result",
          "data": {
            "text/html": [
              "<div>\n",
              "<style scoped>\n",
              "    .dataframe tbody tr th:only-of-type {\n",
              "        vertical-align: middle;\n",
              "    }\n",
              "\n",
              "    .dataframe tbody tr th {\n",
              "        vertical-align: top;\n",
              "    }\n",
              "\n",
              "    .dataframe thead th {\n",
              "        text-align: right;\n",
              "    }\n",
              "</style>\n",
              "<table border=\"1\" class=\"dataframe\">\n",
              "  <thead>\n",
              "    <tr style=\"text-align: right;\">\n",
              "      <th></th>\n",
              "      <th></th>\n",
              "      <th>trip_distance</th>\n",
              "    </tr>\n",
              "    <tr>\n",
              "      <th>pickup_cluster</th>\n",
              "      <th>pickup_bins</th>\n",
              "      <th></th>\n",
              "    </tr>\n",
              "  </thead>\n",
              "  <tbody>\n",
              "    <tr>\n",
              "      <th rowspan=\"5\" valign=\"top\">0</th>\n",
              "      <th>33</th>\n",
              "      <td>1</td>\n",
              "    </tr>\n",
              "    <tr>\n",
              "      <th>34</th>\n",
              "      <td>5</td>\n",
              "    </tr>\n",
              "    <tr>\n",
              "      <th>36</th>\n",
              "      <td>2</td>\n",
              "    </tr>\n",
              "    <tr>\n",
              "      <th>37</th>\n",
              "      <td>1</td>\n",
              "    </tr>\n",
              "    <tr>\n",
              "      <th>39</th>\n",
              "      <td>4</td>\n",
              "    </tr>\n",
              "  </tbody>\n",
              "</table>\n",
              "</div>"
            ],
            "text/plain": [
              "                            trip_distance\n",
              "pickup_cluster pickup_bins               \n",
              "0              33                       1\n",
              "               34                       5\n",
              "               36                       2\n",
              "               37                       1\n",
              "               39                       4"
            ]
          },
          "metadata": {
            "tags": []
          },
          "execution_count": 76
        }
      ]
    },
    {
      "cell_type": "markdown",
      "metadata": {
        "id": "H1bFk3UxhEvF",
        "colab_type": "text"
      },
      "source": [
        "### **3. Smoothing Time Series Data**\n",
        "\n",
        " Since we have divided our whole data into 10 minutes interval bins,there must be a minimum of 1 pickup per bin.If any of the 10 min interval contains zero pickups, it might lead to ratio feature problem. Hence, we are adding few pickups from neighboring bins to the bin which contains zero pickups in order to make all the neighboring bin pickups equal."
      ]
    },
    {
      "cell_type": "code",
      "metadata": {
        "id": "IwL_d70egcQa",
        "colab_type": "code",
        "colab": {}
      },
      "source": [
        "def return_unq_pickup_bins(frame):\n",
        "    values = []\n",
        "    for i in range(0,40):\n",
        "        new = frame[frame['pickup_cluster'] == i]\n",
        "        list_unq = list(set(new['pickup_bins']))\n",
        "        list_unq.sort()\n",
        "        values.append(list_unq)\n",
        "    return values\n"
      ],
      "execution_count": 0,
      "outputs": []
    },
    {
      "cell_type": "markdown",
      "metadata": {
        "id": "lxjRacx-Pmqn",
        "colab_type": "text"
      },
      "source": [
        "There are total 4464 time bins in Jan - 2015.Now we need to find out how many of these bins have no pick ups.\n",
        "\n",
        "\"jan_2015_unique\" contains all the unique time bins, where pickup happened. It contains 40 sub-arrays as there are 40 clusters. \n",
        "\n",
        "Each sub-array contains the unique ID of all the time bins where pickup happened in the clusters. "
      ]
    },
    {
      "cell_type": "code",
      "metadata": {
        "id": "8vSXtPMdhUlk",
        "colab_type": "code",
        "colab": {}
      },
      "source": [
        "jan_2015_unique = return_unq_pickup_bins(jan_2015)"
      ],
      "execution_count": 0,
      "outputs": []
    },
    {
      "cell_type": "code",
      "metadata": {
        "id": "iNfAGcdBzOfZ",
        "colab_type": "code",
        "outputId": "929bde8a-9e82-465d-f7cb-5790b779fa13",
        "colab": {
          "base_uri": "https://localhost:8080/",
          "height": 1000
        }
      },
      "source": [
        "for i in range(40):\n",
        "    print(\"for the \",i,\"th cluster number of 10min intavels with zero pickups: \",4464 - len(set(jan_2015_unique[i])))\n",
        "    print('-'*60)\n",
        "\n",
        "  "
      ],
      "execution_count": 0,
      "outputs": [
        {
          "output_type": "stream",
          "text": [
            "for the  0 th cluster number of 10min intavels with zero pickups:  2966\n",
            "------------------------------------------------------------\n",
            "for the  1 th cluster number of 10min intavels with zero pickups:  3511\n",
            "------------------------------------------------------------\n",
            "for the  2 th cluster number of 10min intavels with zero pickups:  3265\n",
            "------------------------------------------------------------\n",
            "for the  3 th cluster number of 10min intavels with zero pickups:  3247\n",
            "------------------------------------------------------------\n",
            "for the  4 th cluster number of 10min intavels with zero pickups:  3437\n",
            "------------------------------------------------------------\n",
            "for the  5 th cluster number of 10min intavels with zero pickups:  3216\n",
            "------------------------------------------------------------\n",
            "for the  6 th cluster number of 10min intavels with zero pickups:  3089\n",
            "------------------------------------------------------------\n",
            "for the  7 th cluster number of 10min intavels with zero pickups:  2874\n",
            "------------------------------------------------------------\n",
            "for the  8 th cluster number of 10min intavels with zero pickups:  2891\n",
            "------------------------------------------------------------\n",
            "for the  9 th cluster number of 10min intavels with zero pickups:  4039\n",
            "------------------------------------------------------------\n",
            "for the  10 th cluster number of 10min intavels with zero pickups:  3126\n",
            "------------------------------------------------------------\n",
            "for the  11 th cluster number of 10min intavels with zero pickups:  3979\n",
            "------------------------------------------------------------\n",
            "for the  12 th cluster number of 10min intavels with zero pickups:  3297\n",
            "------------------------------------------------------------\n",
            "for the  13 th cluster number of 10min intavels with zero pickups:  3177\n",
            "------------------------------------------------------------\n",
            "for the  14 th cluster number of 10min intavels with zero pickups:  2886\n",
            "------------------------------------------------------------\n",
            "for the  15 th cluster number of 10min intavels with zero pickups:  4307\n",
            "------------------------------------------------------------\n",
            "for the  16 th cluster number of 10min intavels with zero pickups:  2869\n",
            "------------------------------------------------------------\n",
            "for the  17 th cluster number of 10min intavels with zero pickups:  4212\n",
            "------------------------------------------------------------\n",
            "for the  18 th cluster number of 10min intavels with zero pickups:  2805\n",
            "------------------------------------------------------------\n",
            "for the  19 th cluster number of 10min intavels with zero pickups:  3032\n",
            "------------------------------------------------------------\n",
            "for the  20 th cluster number of 10min intavels with zero pickups:  3084\n",
            "------------------------------------------------------------\n",
            "for the  21 th cluster number of 10min intavels with zero pickups:  4397\n",
            "------------------------------------------------------------\n",
            "for the  22 th cluster number of 10min intavels with zero pickups:  3136\n",
            "------------------------------------------------------------\n",
            "for the  23 th cluster number of 10min intavels with zero pickups:  2910\n",
            "------------------------------------------------------------\n",
            "for the  24 th cluster number of 10min intavels with zero pickups:  3298\n",
            "------------------------------------------------------------\n",
            "for the  25 th cluster number of 10min intavels with zero pickups:  3930\n",
            "------------------------------------------------------------\n",
            "for the  26 th cluster number of 10min intavels with zero pickups:  3801\n",
            "------------------------------------------------------------\n",
            "for the  27 th cluster number of 10min intavels with zero pickups:  3287\n",
            "------------------------------------------------------------\n",
            "for the  28 th cluster number of 10min intavels with zero pickups:  3521\n",
            "------------------------------------------------------------\n",
            "for the  29 th cluster number of 10min intavels with zero pickups:  2797\n",
            "------------------------------------------------------------\n",
            "for the  30 th cluster number of 10min intavels with zero pickups:  2888\n",
            "------------------------------------------------------------\n",
            "for the  31 th cluster number of 10min intavels with zero pickups:  3164\n",
            "------------------------------------------------------------\n",
            "for the  32 th cluster number of 10min intavels with zero pickups:  4405\n",
            "------------------------------------------------------------\n",
            "for the  33 th cluster number of 10min intavels with zero pickups:  4350\n",
            "------------------------------------------------------------\n",
            "for the  34 th cluster number of 10min intavels with zero pickups:  4188\n",
            "------------------------------------------------------------\n",
            "for the  35 th cluster number of 10min intavels with zero pickups:  3237\n",
            "------------------------------------------------------------\n",
            "for the  36 th cluster number of 10min intavels with zero pickups:  2958\n",
            "------------------------------------------------------------\n",
            "for the  37 th cluster number of 10min intavels with zero pickups:  3022\n",
            "------------------------------------------------------------\n",
            "for the  38 th cluster number of 10min intavels with zero pickups:  3451\n",
            "------------------------------------------------------------\n",
            "for the  39 th cluster number of 10min intavels with zero pickups:  3366\n",
            "------------------------------------------------------------\n"
          ],
          "name": "stdout"
        }
      ]
    },
    {
      "cell_type": "markdown",
      "metadata": {
        "id": "RiVC0RBtPAK1",
        "colab_type": "text"
      },
      "source": [
        "There are two ways to fill up these missing values\n",
        "\n",
        "1. Fill the missing value with 0's\n",
        "2. Fill the missing values with the avg values\n",
        "\n",
        "There are a total of 4644 bins in Jan 2015 data. \n",
        "\n",
        "The below function **fill_missing** fills a value of zero for every bin with no pickup data. The function has two parameters, *count_values and values*. The parameter *count_values* gives the number of pickups in each 10 minute interval.No value if no pickups.The parameter *values* gives the number of unique bins. \n",
        "\n",
        "If there is no pickup in any of the 4464 time bins, then \n",
        "the function simply appends 0 in that missing time bin. Otherwise, it adds the original number of pickups to the time bin"
      ]
    },
    {
      "cell_type": "code",
      "metadata": {
        "id": "jULFz5JizT2D",
        "colab_type": "code",
        "colab": {}
      },
      "source": [
        "def fill_missing(count_values,values):\n",
        "    smoothed_regions=[]\n",
        "    ind=0\n",
        "    for r in range(0,40):\n",
        "        smoothed_bins=[]\n",
        "        for i in range(4464):\n",
        "            if i in values[r]:\n",
        "                smoothed_bins.append(count_values[ind])\n",
        "                ind+=1\n",
        "            else:\n",
        "                smoothed_bins.append(0)\n",
        "        smoothed_regions.extend(smoothed_bins)\n",
        "    return smoothed_regions\n",
        "\n"
      ],
      "execution_count": 0,
      "outputs": []
    },
    {
      "cell_type": "code",
      "metadata": {
        "id": "b73bBGkAQgRP",
        "colab_type": "code",
        "colab": {}
      },
      "source": [
        "def smoothing(count_values,values):\n",
        "    smoothed_regions=[] # stores list of final smoothed values of each reigion\n",
        "    ind=0\n",
        "    repeat=0 \n",
        "    smoothed_value=0\n",
        "    for r in range(0,40):\n",
        "        smoothed_bins=[] #stores the final smoothed values\n",
        "        repeat=0\n",
        "        for i in range(4464):\n",
        "            if repeat!=0: # prevents iteration for a value which is already visited/resolved\n",
        "                repeat-=1\n",
        "                continue\n",
        "            if i in values[r]: #checks if the pickup-bin exists \n",
        "                smoothed_bins.append(count_values[ind]) # appends the value of the pickup bin if it exists\n",
        "            else:\n",
        "                if i!=0:\n",
        "                    right_hand_limit=0\n",
        "                    for j in range(i,4464):\n",
        "                        if  j not in values[r]: #searches for the left-limit or the pickup-bin value which has a pickup value\n",
        "                            continue\n",
        "                        else:\n",
        "                            right_hand_limit=j\n",
        "                            break\n",
        "                    if right_hand_limit==0:\n",
        "                    #Case 1: When we have the last/last few values are found to be missing,hence we have no right-limit here\n",
        "                        smoothed_value=count_values[ind-1]*1.0/((4463-i)+2)*1.0                               \n",
        "                        for j in range(i,4464):                              \n",
        "                            smoothed_bins.append(math.ceil(smoothed_value))\n",
        "                        smoothed_bins[i-1] = math.ceil(smoothed_value)\n",
        "                        repeat=(4463-i)\n",
        "                        ind-=1\n",
        "                    else:\n",
        "                    #Case 2: When we have the missing values between two known values\n",
        "                        smoothed_value=(count_values[ind-1]+count_values[ind])*1.0/((right_hand_limit-i)+2)*1.0             \n",
        "                        for j in range(i,right_hand_limit+1):\n",
        "                            smoothed_bins.append(math.ceil(smoothed_value))\n",
        "                        smoothed_bins[i-1] = math.ceil(smoothed_value)\n",
        "                        repeat=(right_hand_limit-i)\n",
        "                else:\n",
        "                    #Case 3: When we have the first/first few values are found to be missing,hence we have no left-limit here\n",
        "                    right_hand_limit=0\n",
        "                    for j in range(i,4464):\n",
        "                        if  j not in values[r]:\n",
        "                            continue\n",
        "                        else:\n",
        "                            right_hand_limit=j\n",
        "                            break\n",
        "                    smoothed_value=count_values[ind]*1.0/((right_hand_limit-i)+1)*1.0\n",
        "                    for j in range(i,right_hand_limit+1):\n",
        "                            smoothed_bins.append(math.ceil(smoothed_value))\n",
        "                    repeat=(right_hand_limit-i)\n",
        "            ind+=1\n",
        "        smoothed_regions.extend(smoothed_bins)\n",
        "    return smoothed_regions"
      ],
      "execution_count": 0,
      "outputs": []
    },
    {
      "cell_type": "code",
      "metadata": {
        "id": "blvikbODTpHg",
        "colab_type": "code",
        "colab": {}
      },
      "source": [
        "jan_2015_fill = fill_missing(jan_2015_groupby['trip_distance'].values,jan_2015_unique)\n",
        "\n",
        "#Smoothing Missing values of Jan-2015\n",
        "jan_2015_smooth = smoothing(jan_2015_groupby['trip_distance'].values,jan_2015_unique)"
      ],
      "execution_count": 0,
      "outputs": []
    },
    {
      "cell_type": "code",
      "metadata": {
        "id": "RqjNS33STsYl",
        "colab_type": "code",
        "outputId": "a28ab42f-fea4-464a-c323-744c8a67944d",
        "colab": {
          "base_uri": "https://localhost:8080/",
          "height": 34
        }
      },
      "source": [
        "print(\"number of 10min intravels among all the clusters \",len(jan_2015_fill))"
      ],
      "execution_count": 0,
      "outputs": [
        {
          "output_type": "stream",
          "text": [
            "number of 10min intravels among all the clusters  178560\n"
          ],
          "name": "stdout"
        }
      ]
    },
    {
      "cell_type": "code",
      "metadata": {
        "id": "y04CzFemTvAE",
        "colab_type": "code",
        "outputId": "0a923411-fde8-4456-da9a-02dd79ed6180",
        "colab": {
          "base_uri": "https://localhost:8080/",
          "height": 320
        }
      },
      "source": [
        "plt.figure(figsize=(10,5))\n",
        "plt.plot(jan_2015_fill[4464:8920], label=\"zero filled values\")\n",
        "plt.plot(jan_2015_smooth[4464:8920], label=\"filled with avg values\")\n",
        "plt.legend()\n",
        "plt.show()"
      ],
      "execution_count": 0,
      "outputs": [
        {
          "output_type": "display_data",
          "data": {
            "image/png": "[encoded data removed]",
            "text/plain": [
              "<Figure size 720x360 with 1 Axes>"
            ]
          },
          "metadata": {
            "tags": [],
            "needs_background": "light"
          }
        }
      ]
    },
    {
      "cell_type": "code",
      "metadata": {
        "id": "1JtjFWVaTx1V",
        "colab_type": "code",
        "colab": {}
      },
      "source": [
        "jan_2015_smooth = smoothing(jan_2015_groupby['trip_distance'].values,jan_2015_unique)"
      ],
      "execution_count": 0,
      "outputs": []
    },
    {
      "cell_type": "code",
      "metadata": {
        "id": "q0Trgsevr2Pf",
        "colab_type": "code",
        "colab": {}
      },
      "source": [
        "regions_cum = []\n",
        "for i in range(0,40):\n",
        "    regions_cum.append(jan_2015_smooth[4464*i:4464*(i+1)])\n"
      ],
      "execution_count": 0,
      "outputs": []
    },
    {
      "cell_type": "code",
      "metadata": {
        "id": "lQ2vhNW0vczM",
        "colab_type": "code",
        "colab": {}
      },
      "source": [
        ""
      ],
      "execution_count": 0,
      "outputs": []
    }
  ]
}